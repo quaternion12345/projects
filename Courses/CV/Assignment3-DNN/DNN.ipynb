{
  "nbformat": 4,
  "nbformat_minor": 0,
  "metadata": {
    "colab": {
      "name": "Untitled19_(1) (1).ipynb",
      "provenance": [],
      "toc_visible": true
    },
    "kernelspec": {
      "name": "python3",
      "display_name": "Python 3"
    },
    "language_info": {
      "name": "python"
    },
    "widgets": {
      "application/vnd.jupyter.widget-state+json": {
        "8b1ef6de789747709b36b8cf34f6f710": {
          "model_module": "@jupyter-widgets/controls",
          "model_name": "HBoxModel",
          "state": {
            "_view_name": "HBoxView",
            "_dom_classes": [],
            "_model_name": "HBoxModel",
            "_view_module": "@jupyter-widgets/controls",
            "_model_module_version": "1.5.0",
            "_view_count": null,
            "_view_module_version": "1.5.0",
            "box_style": "",
            "layout": "IPY_MODEL_6e469e60271440d698b261fb59ff9dd4",
            "_model_module": "@jupyter-widgets/controls",
            "children": [
              "IPY_MODEL_8d9464ce65fd4396af6c314666ba3695",
              "IPY_MODEL_e7739b862a3d4e9aa22e2ee76074c248"
            ]
          }
        },
        "6e469e60271440d698b261fb59ff9dd4": {
          "model_module": "@jupyter-widgets/base",
          "model_name": "LayoutModel",
          "state": {
            "_view_name": "LayoutView",
            "grid_template_rows": null,
            "right": null,
            "justify_content": null,
            "_view_module": "@jupyter-widgets/base",
            "overflow": null,
            "_model_module_version": "1.2.0",
            "_view_count": null,
            "flex_flow": null,
            "width": null,
            "min_width": null,
            "border": null,
            "align_items": null,
            "bottom": null,
            "_model_module": "@jupyter-widgets/base",
            "top": null,
            "grid_column": null,
            "overflow_y": null,
            "overflow_x": null,
            "grid_auto_flow": null,
            "grid_area": null,
            "grid_template_columns": null,
            "flex": null,
            "_model_name": "LayoutModel",
            "justify_items": null,
            "grid_row": null,
            "max_height": null,
            "align_content": null,
            "visibility": null,
            "align_self": null,
            "height": null,
            "min_height": null,
            "padding": null,
            "grid_auto_rows": null,
            "grid_gap": null,
            "max_width": null,
            "order": null,
            "_view_module_version": "1.2.0",
            "grid_template_areas": null,
            "object_position": null,
            "object_fit": null,
            "grid_auto_columns": null,
            "margin": null,
            "display": null,
            "left": null
          }
        },
        "8d9464ce65fd4396af6c314666ba3695": {
          "model_module": "@jupyter-widgets/controls",
          "model_name": "FloatProgressModel",
          "state": {
            "_view_name": "ProgressView",
            "style": "IPY_MODEL_f727785127e54a5aadfc844a8cabf9eb",
            "_dom_classes": [],
            "description": "",
            "_model_name": "FloatProgressModel",
            "bar_style": "success",
            "max": 26421880,
            "_view_module": "@jupyter-widgets/controls",
            "_model_module_version": "1.5.0",
            "value": 26421880,
            "_view_count": null,
            "_view_module_version": "1.5.0",
            "orientation": "horizontal",
            "min": 0,
            "description_tooltip": null,
            "_model_module": "@jupyter-widgets/controls",
            "layout": "IPY_MODEL_10add49b89974a8c89a547b07a565589"
          }
        },
        "e7739b862a3d4e9aa22e2ee76074c248": {
          "model_module": "@jupyter-widgets/controls",
          "model_name": "HTMLModel",
          "state": {
            "_view_name": "HTMLView",
            "style": "IPY_MODEL_a430ccc1f45b4683b86e729566d36741",
            "_dom_classes": [],
            "description": "",
            "_model_name": "HTMLModel",
            "placeholder": "​",
            "_view_module": "@jupyter-widgets/controls",
            "_model_module_version": "1.5.0",
            "value": " 26422272/? [21:31&lt;00:00, 20460.85it/s]",
            "_view_count": null,
            "_view_module_version": "1.5.0",
            "description_tooltip": null,
            "_model_module": "@jupyter-widgets/controls",
            "layout": "IPY_MODEL_8f9494698a544841800dcd9cdccdbb22"
          }
        },
        "f727785127e54a5aadfc844a8cabf9eb": {
          "model_module": "@jupyter-widgets/controls",
          "model_name": "ProgressStyleModel",
          "state": {
            "_view_name": "StyleView",
            "_model_name": "ProgressStyleModel",
            "description_width": "initial",
            "_view_module": "@jupyter-widgets/base",
            "_model_module_version": "1.5.0",
            "_view_count": null,
            "_view_module_version": "1.2.0",
            "bar_color": null,
            "_model_module": "@jupyter-widgets/controls"
          }
        },
        "10add49b89974a8c89a547b07a565589": {
          "model_module": "@jupyter-widgets/base",
          "model_name": "LayoutModel",
          "state": {
            "_view_name": "LayoutView",
            "grid_template_rows": null,
            "right": null,
            "justify_content": null,
            "_view_module": "@jupyter-widgets/base",
            "overflow": null,
            "_model_module_version": "1.2.0",
            "_view_count": null,
            "flex_flow": null,
            "width": null,
            "min_width": null,
            "border": null,
            "align_items": null,
            "bottom": null,
            "_model_module": "@jupyter-widgets/base",
            "top": null,
            "grid_column": null,
            "overflow_y": null,
            "overflow_x": null,
            "grid_auto_flow": null,
            "grid_area": null,
            "grid_template_columns": null,
            "flex": null,
            "_model_name": "LayoutModel",
            "justify_items": null,
            "grid_row": null,
            "max_height": null,
            "align_content": null,
            "visibility": null,
            "align_self": null,
            "height": null,
            "min_height": null,
            "padding": null,
            "grid_auto_rows": null,
            "grid_gap": null,
            "max_width": null,
            "order": null,
            "_view_module_version": "1.2.0",
            "grid_template_areas": null,
            "object_position": null,
            "object_fit": null,
            "grid_auto_columns": null,
            "margin": null,
            "display": null,
            "left": null
          }
        },
        "a430ccc1f45b4683b86e729566d36741": {
          "model_module": "@jupyter-widgets/controls",
          "model_name": "DescriptionStyleModel",
          "state": {
            "_view_name": "StyleView",
            "_model_name": "DescriptionStyleModel",
            "description_width": "",
            "_view_module": "@jupyter-widgets/base",
            "_model_module_version": "1.5.0",
            "_view_count": null,
            "_view_module_version": "1.2.0",
            "_model_module": "@jupyter-widgets/controls"
          }
        },
        "8f9494698a544841800dcd9cdccdbb22": {
          "model_module": "@jupyter-widgets/base",
          "model_name": "LayoutModel",
          "state": {
            "_view_name": "LayoutView",
            "grid_template_rows": null,
            "right": null,
            "justify_content": null,
            "_view_module": "@jupyter-widgets/base",
            "overflow": null,
            "_model_module_version": "1.2.0",
            "_view_count": null,
            "flex_flow": null,
            "width": null,
            "min_width": null,
            "border": null,
            "align_items": null,
            "bottom": null,
            "_model_module": "@jupyter-widgets/base",
            "top": null,
            "grid_column": null,
            "overflow_y": null,
            "overflow_x": null,
            "grid_auto_flow": null,
            "grid_area": null,
            "grid_template_columns": null,
            "flex": null,
            "_model_name": "LayoutModel",
            "justify_items": null,
            "grid_row": null,
            "max_height": null,
            "align_content": null,
            "visibility": null,
            "align_self": null,
            "height": null,
            "min_height": null,
            "padding": null,
            "grid_auto_rows": null,
            "grid_gap": null,
            "max_width": null,
            "order": null,
            "_view_module_version": "1.2.0",
            "grid_template_areas": null,
            "object_position": null,
            "object_fit": null,
            "grid_auto_columns": null,
            "margin": null,
            "display": null,
            "left": null
          }
        },
        "9d400333bc9747e986b69bc819f348de": {
          "model_module": "@jupyter-widgets/controls",
          "model_name": "HBoxModel",
          "state": {
            "_view_name": "HBoxView",
            "_dom_classes": [],
            "_model_name": "HBoxModel",
            "_view_module": "@jupyter-widgets/controls",
            "_model_module_version": "1.5.0",
            "_view_count": null,
            "_view_module_version": "1.5.0",
            "box_style": "",
            "layout": "IPY_MODEL_733098f78d174a3ca528c142177ec4e0",
            "_model_module": "@jupyter-widgets/controls",
            "children": [
              "IPY_MODEL_f637493591da47228651b7511cc6a156",
              "IPY_MODEL_6f9eb909480a4cd295e351f52d73429f"
            ]
          }
        },
        "733098f78d174a3ca528c142177ec4e0": {
          "model_module": "@jupyter-widgets/base",
          "model_name": "LayoutModel",
          "state": {
            "_view_name": "LayoutView",
            "grid_template_rows": null,
            "right": null,
            "justify_content": null,
            "_view_module": "@jupyter-widgets/base",
            "overflow": null,
            "_model_module_version": "1.2.0",
            "_view_count": null,
            "flex_flow": null,
            "width": null,
            "min_width": null,
            "border": null,
            "align_items": null,
            "bottom": null,
            "_model_module": "@jupyter-widgets/base",
            "top": null,
            "grid_column": null,
            "overflow_y": null,
            "overflow_x": null,
            "grid_auto_flow": null,
            "grid_area": null,
            "grid_template_columns": null,
            "flex": null,
            "_model_name": "LayoutModel",
            "justify_items": null,
            "grid_row": null,
            "max_height": null,
            "align_content": null,
            "visibility": null,
            "align_self": null,
            "height": null,
            "min_height": null,
            "padding": null,
            "grid_auto_rows": null,
            "grid_gap": null,
            "max_width": null,
            "order": null,
            "_view_module_version": "1.2.0",
            "grid_template_areas": null,
            "object_position": null,
            "object_fit": null,
            "grid_auto_columns": null,
            "margin": null,
            "display": null,
            "left": null
          }
        },
        "f637493591da47228651b7511cc6a156": {
          "model_module": "@jupyter-widgets/controls",
          "model_name": "FloatProgressModel",
          "state": {
            "_view_name": "ProgressView",
            "style": "IPY_MODEL_3a406f4ac1f648408454d2c3b3045356",
            "_dom_classes": [],
            "description": "",
            "_model_name": "FloatProgressModel",
            "bar_style": "success",
            "max": 29515,
            "_view_module": "@jupyter-widgets/controls",
            "_model_module_version": "1.5.0",
            "value": 29515,
            "_view_count": null,
            "_view_module_version": "1.5.0",
            "orientation": "horizontal",
            "min": 0,
            "description_tooltip": null,
            "_model_module": "@jupyter-widgets/controls",
            "layout": "IPY_MODEL_800af1c34ddd448ab2f85ab25d95b778"
          }
        },
        "6f9eb909480a4cd295e351f52d73429f": {
          "model_module": "@jupyter-widgets/controls",
          "model_name": "HTMLModel",
          "state": {
            "_view_name": "HTMLView",
            "style": "IPY_MODEL_e661fed3c9fd420795c223b1f2007e54",
            "_dom_classes": [],
            "description": "",
            "_model_name": "HTMLModel",
            "placeholder": "​",
            "_view_module": "@jupyter-widgets/controls",
            "_model_module_version": "1.5.0",
            "value": " 29696/? [00:00&lt;00:00, 47423.64it/s]",
            "_view_count": null,
            "_view_module_version": "1.5.0",
            "description_tooltip": null,
            "_model_module": "@jupyter-widgets/controls",
            "layout": "IPY_MODEL_2227b0a2b5a7496196a2e231e8f94c41"
          }
        },
        "3a406f4ac1f648408454d2c3b3045356": {
          "model_module": "@jupyter-widgets/controls",
          "model_name": "ProgressStyleModel",
          "state": {
            "_view_name": "StyleView",
            "_model_name": "ProgressStyleModel",
            "description_width": "initial",
            "_view_module": "@jupyter-widgets/base",
            "_model_module_version": "1.5.0",
            "_view_count": null,
            "_view_module_version": "1.2.0",
            "bar_color": null,
            "_model_module": "@jupyter-widgets/controls"
          }
        },
        "800af1c34ddd448ab2f85ab25d95b778": {
          "model_module": "@jupyter-widgets/base",
          "model_name": "LayoutModel",
          "state": {
            "_view_name": "LayoutView",
            "grid_template_rows": null,
            "right": null,
            "justify_content": null,
            "_view_module": "@jupyter-widgets/base",
            "overflow": null,
            "_model_module_version": "1.2.0",
            "_view_count": null,
            "flex_flow": null,
            "width": null,
            "min_width": null,
            "border": null,
            "align_items": null,
            "bottom": null,
            "_model_module": "@jupyter-widgets/base",
            "top": null,
            "grid_column": null,
            "overflow_y": null,
            "overflow_x": null,
            "grid_auto_flow": null,
            "grid_area": null,
            "grid_template_columns": null,
            "flex": null,
            "_model_name": "LayoutModel",
            "justify_items": null,
            "grid_row": null,
            "max_height": null,
            "align_content": null,
            "visibility": null,
            "align_self": null,
            "height": null,
            "min_height": null,
            "padding": null,
            "grid_auto_rows": null,
            "grid_gap": null,
            "max_width": null,
            "order": null,
            "_view_module_version": "1.2.0",
            "grid_template_areas": null,
            "object_position": null,
            "object_fit": null,
            "grid_auto_columns": null,
            "margin": null,
            "display": null,
            "left": null
          }
        },
        "e661fed3c9fd420795c223b1f2007e54": {
          "model_module": "@jupyter-widgets/controls",
          "model_name": "DescriptionStyleModel",
          "state": {
            "_view_name": "StyleView",
            "_model_name": "DescriptionStyleModel",
            "description_width": "",
            "_view_module": "@jupyter-widgets/base",
            "_model_module_version": "1.5.0",
            "_view_count": null,
            "_view_module_version": "1.2.0",
            "_model_module": "@jupyter-widgets/controls"
          }
        },
        "2227b0a2b5a7496196a2e231e8f94c41": {
          "model_module": "@jupyter-widgets/base",
          "model_name": "LayoutModel",
          "state": {
            "_view_name": "LayoutView",
            "grid_template_rows": null,
            "right": null,
            "justify_content": null,
            "_view_module": "@jupyter-widgets/base",
            "overflow": null,
            "_model_module_version": "1.2.0",
            "_view_count": null,
            "flex_flow": null,
            "width": null,
            "min_width": null,
            "border": null,
            "align_items": null,
            "bottom": null,
            "_model_module": "@jupyter-widgets/base",
            "top": null,
            "grid_column": null,
            "overflow_y": null,
            "overflow_x": null,
            "grid_auto_flow": null,
            "grid_area": null,
            "grid_template_columns": null,
            "flex": null,
            "_model_name": "LayoutModel",
            "justify_items": null,
            "grid_row": null,
            "max_height": null,
            "align_content": null,
            "visibility": null,
            "align_self": null,
            "height": null,
            "min_height": null,
            "padding": null,
            "grid_auto_rows": null,
            "grid_gap": null,
            "max_width": null,
            "order": null,
            "_view_module_version": "1.2.0",
            "grid_template_areas": null,
            "object_position": null,
            "object_fit": null,
            "grid_auto_columns": null,
            "margin": null,
            "display": null,
            "left": null
          }
        },
        "1e76361189214b8f93399c622367d15b": {
          "model_module": "@jupyter-widgets/controls",
          "model_name": "HBoxModel",
          "state": {
            "_view_name": "HBoxView",
            "_dom_classes": [],
            "_model_name": "HBoxModel",
            "_view_module": "@jupyter-widgets/controls",
            "_model_module_version": "1.5.0",
            "_view_count": null,
            "_view_module_version": "1.5.0",
            "box_style": "",
            "layout": "IPY_MODEL_59d5589c74f543499cdedf1ba031eb91",
            "_model_module": "@jupyter-widgets/controls",
            "children": [
              "IPY_MODEL_cd876410543a4f4eb4eb9ef23b67764b",
              "IPY_MODEL_68f35826e58048d7908a98ebe2d90718"
            ]
          }
        },
        "59d5589c74f543499cdedf1ba031eb91": {
          "model_module": "@jupyter-widgets/base",
          "model_name": "LayoutModel",
          "state": {
            "_view_name": "LayoutView",
            "grid_template_rows": null,
            "right": null,
            "justify_content": null,
            "_view_module": "@jupyter-widgets/base",
            "overflow": null,
            "_model_module_version": "1.2.0",
            "_view_count": null,
            "flex_flow": null,
            "width": null,
            "min_width": null,
            "border": null,
            "align_items": null,
            "bottom": null,
            "_model_module": "@jupyter-widgets/base",
            "top": null,
            "grid_column": null,
            "overflow_y": null,
            "overflow_x": null,
            "grid_auto_flow": null,
            "grid_area": null,
            "grid_template_columns": null,
            "flex": null,
            "_model_name": "LayoutModel",
            "justify_items": null,
            "grid_row": null,
            "max_height": null,
            "align_content": null,
            "visibility": null,
            "align_self": null,
            "height": null,
            "min_height": null,
            "padding": null,
            "grid_auto_rows": null,
            "grid_gap": null,
            "max_width": null,
            "order": null,
            "_view_module_version": "1.2.0",
            "grid_template_areas": null,
            "object_position": null,
            "object_fit": null,
            "grid_auto_columns": null,
            "margin": null,
            "display": null,
            "left": null
          }
        },
        "cd876410543a4f4eb4eb9ef23b67764b": {
          "model_module": "@jupyter-widgets/controls",
          "model_name": "FloatProgressModel",
          "state": {
            "_view_name": "ProgressView",
            "style": "IPY_MODEL_f0352b45bf924377b588e653e8f23118",
            "_dom_classes": [],
            "description": "",
            "_model_name": "FloatProgressModel",
            "bar_style": "success",
            "max": 4422102,
            "_view_module": "@jupyter-widgets/controls",
            "_model_module_version": "1.5.0",
            "value": 4422102,
            "_view_count": null,
            "_view_module_version": "1.5.0",
            "orientation": "horizontal",
            "min": 0,
            "description_tooltip": null,
            "_model_module": "@jupyter-widgets/controls",
            "layout": "IPY_MODEL_82c6159bfe67442ca7ba93e4cfc461f6"
          }
        },
        "68f35826e58048d7908a98ebe2d90718": {
          "model_module": "@jupyter-widgets/controls",
          "model_name": "HTMLModel",
          "state": {
            "_view_name": "HTMLView",
            "style": "IPY_MODEL_41952de5c1744e4a918554d6d5ec1824",
            "_dom_classes": [],
            "description": "",
            "_model_name": "HTMLModel",
            "placeholder": "​",
            "_view_module": "@jupyter-widgets/controls",
            "_model_module_version": "1.5.0",
            "value": " 4422656/? [21:27&lt;00:00, 3433.79it/s]",
            "_view_count": null,
            "_view_module_version": "1.5.0",
            "description_tooltip": null,
            "_model_module": "@jupyter-widgets/controls",
            "layout": "IPY_MODEL_9815f16520094d8fb9d363282b7df03f"
          }
        },
        "f0352b45bf924377b588e653e8f23118": {
          "model_module": "@jupyter-widgets/controls",
          "model_name": "ProgressStyleModel",
          "state": {
            "_view_name": "StyleView",
            "_model_name": "ProgressStyleModel",
            "description_width": "initial",
            "_view_module": "@jupyter-widgets/base",
            "_model_module_version": "1.5.0",
            "_view_count": null,
            "_view_module_version": "1.2.0",
            "bar_color": null,
            "_model_module": "@jupyter-widgets/controls"
          }
        },
        "82c6159bfe67442ca7ba93e4cfc461f6": {
          "model_module": "@jupyter-widgets/base",
          "model_name": "LayoutModel",
          "state": {
            "_view_name": "LayoutView",
            "grid_template_rows": null,
            "right": null,
            "justify_content": null,
            "_view_module": "@jupyter-widgets/base",
            "overflow": null,
            "_model_module_version": "1.2.0",
            "_view_count": null,
            "flex_flow": null,
            "width": null,
            "min_width": null,
            "border": null,
            "align_items": null,
            "bottom": null,
            "_model_module": "@jupyter-widgets/base",
            "top": null,
            "grid_column": null,
            "overflow_y": null,
            "overflow_x": null,
            "grid_auto_flow": null,
            "grid_area": null,
            "grid_template_columns": null,
            "flex": null,
            "_model_name": "LayoutModel",
            "justify_items": null,
            "grid_row": null,
            "max_height": null,
            "align_content": null,
            "visibility": null,
            "align_self": null,
            "height": null,
            "min_height": null,
            "padding": null,
            "grid_auto_rows": null,
            "grid_gap": null,
            "max_width": null,
            "order": null,
            "_view_module_version": "1.2.0",
            "grid_template_areas": null,
            "object_position": null,
            "object_fit": null,
            "grid_auto_columns": null,
            "margin": null,
            "display": null,
            "left": null
          }
        },
        "41952de5c1744e4a918554d6d5ec1824": {
          "model_module": "@jupyter-widgets/controls",
          "model_name": "DescriptionStyleModel",
          "state": {
            "_view_name": "StyleView",
            "_model_name": "DescriptionStyleModel",
            "description_width": "",
            "_view_module": "@jupyter-widgets/base",
            "_model_module_version": "1.5.0",
            "_view_count": null,
            "_view_module_version": "1.2.0",
            "_model_module": "@jupyter-widgets/controls"
          }
        },
        "9815f16520094d8fb9d363282b7df03f": {
          "model_module": "@jupyter-widgets/base",
          "model_name": "LayoutModel",
          "state": {
            "_view_name": "LayoutView",
            "grid_template_rows": null,
            "right": null,
            "justify_content": null,
            "_view_module": "@jupyter-widgets/base",
            "overflow": null,
            "_model_module_version": "1.2.0",
            "_view_count": null,
            "flex_flow": null,
            "width": null,
            "min_width": null,
            "border": null,
            "align_items": null,
            "bottom": null,
            "_model_module": "@jupyter-widgets/base",
            "top": null,
            "grid_column": null,
            "overflow_y": null,
            "overflow_x": null,
            "grid_auto_flow": null,
            "grid_area": null,
            "grid_template_columns": null,
            "flex": null,
            "_model_name": "LayoutModel",
            "justify_items": null,
            "grid_row": null,
            "max_height": null,
            "align_content": null,
            "visibility": null,
            "align_self": null,
            "height": null,
            "min_height": null,
            "padding": null,
            "grid_auto_rows": null,
            "grid_gap": null,
            "max_width": null,
            "order": null,
            "_view_module_version": "1.2.0",
            "grid_template_areas": null,
            "object_position": null,
            "object_fit": null,
            "grid_auto_columns": null,
            "margin": null,
            "display": null,
            "left": null
          }
        },
        "d227554b56d44a12afc557e7d4e9e9e1": {
          "model_module": "@jupyter-widgets/controls",
          "model_name": "HBoxModel",
          "state": {
            "_view_name": "HBoxView",
            "_dom_classes": [],
            "_model_name": "HBoxModel",
            "_view_module": "@jupyter-widgets/controls",
            "_model_module_version": "1.5.0",
            "_view_count": null,
            "_view_module_version": "1.5.0",
            "box_style": "",
            "layout": "IPY_MODEL_b6d325cadf2b486a9e93b82d69d9631f",
            "_model_module": "@jupyter-widgets/controls",
            "children": [
              "IPY_MODEL_a089368d56594b98b927aaaa2143c7c5",
              "IPY_MODEL_b9e2f39655d34943ade771f7ef7f66f0"
            ]
          }
        },
        "b6d325cadf2b486a9e93b82d69d9631f": {
          "model_module": "@jupyter-widgets/base",
          "model_name": "LayoutModel",
          "state": {
            "_view_name": "LayoutView",
            "grid_template_rows": null,
            "right": null,
            "justify_content": null,
            "_view_module": "@jupyter-widgets/base",
            "overflow": null,
            "_model_module_version": "1.2.0",
            "_view_count": null,
            "flex_flow": null,
            "width": null,
            "min_width": null,
            "border": null,
            "align_items": null,
            "bottom": null,
            "_model_module": "@jupyter-widgets/base",
            "top": null,
            "grid_column": null,
            "overflow_y": null,
            "overflow_x": null,
            "grid_auto_flow": null,
            "grid_area": null,
            "grid_template_columns": null,
            "flex": null,
            "_model_name": "LayoutModel",
            "justify_items": null,
            "grid_row": null,
            "max_height": null,
            "align_content": null,
            "visibility": null,
            "align_self": null,
            "height": null,
            "min_height": null,
            "padding": null,
            "grid_auto_rows": null,
            "grid_gap": null,
            "max_width": null,
            "order": null,
            "_view_module_version": "1.2.0",
            "grid_template_areas": null,
            "object_position": null,
            "object_fit": null,
            "grid_auto_columns": null,
            "margin": null,
            "display": null,
            "left": null
          }
        },
        "a089368d56594b98b927aaaa2143c7c5": {
          "model_module": "@jupyter-widgets/controls",
          "model_name": "FloatProgressModel",
          "state": {
            "_view_name": "ProgressView",
            "style": "IPY_MODEL_0617b18d61244e9f87871bb32405b073",
            "_dom_classes": [],
            "description": "",
            "_model_name": "FloatProgressModel",
            "bar_style": "success",
            "max": 5148,
            "_view_module": "@jupyter-widgets/controls",
            "_model_module_version": "1.5.0",
            "value": 5148,
            "_view_count": null,
            "_view_module_version": "1.5.0",
            "orientation": "horizontal",
            "min": 0,
            "description_tooltip": null,
            "_model_module": "@jupyter-widgets/controls",
            "layout": "IPY_MODEL_d846ea6a124146ac87c81e6c79bc7923"
          }
        },
        "b9e2f39655d34943ade771f7ef7f66f0": {
          "model_module": "@jupyter-widgets/controls",
          "model_name": "HTMLModel",
          "state": {
            "_view_name": "HTMLView",
            "style": "IPY_MODEL_262e6a2985d24f57b4b6fc379ba0eb09",
            "_dom_classes": [],
            "description": "",
            "_model_name": "HTMLModel",
            "placeholder": "​",
            "_view_module": "@jupyter-widgets/controls",
            "_model_module_version": "1.5.0",
            "value": " 6144/? [00:03&lt;00:00, 1775.53it/s]",
            "_view_count": null,
            "_view_module_version": "1.5.0",
            "description_tooltip": null,
            "_model_module": "@jupyter-widgets/controls",
            "layout": "IPY_MODEL_14fe5957467d4a3482c45544d7f4a9eb"
          }
        },
        "0617b18d61244e9f87871bb32405b073": {
          "model_module": "@jupyter-widgets/controls",
          "model_name": "ProgressStyleModel",
          "state": {
            "_view_name": "StyleView",
            "_model_name": "ProgressStyleModel",
            "description_width": "initial",
            "_view_module": "@jupyter-widgets/base",
            "_model_module_version": "1.5.0",
            "_view_count": null,
            "_view_module_version": "1.2.0",
            "bar_color": null,
            "_model_module": "@jupyter-widgets/controls"
          }
        },
        "d846ea6a124146ac87c81e6c79bc7923": {
          "model_module": "@jupyter-widgets/base",
          "model_name": "LayoutModel",
          "state": {
            "_view_name": "LayoutView",
            "grid_template_rows": null,
            "right": null,
            "justify_content": null,
            "_view_module": "@jupyter-widgets/base",
            "overflow": null,
            "_model_module_version": "1.2.0",
            "_view_count": null,
            "flex_flow": null,
            "width": null,
            "min_width": null,
            "border": null,
            "align_items": null,
            "bottom": null,
            "_model_module": "@jupyter-widgets/base",
            "top": null,
            "grid_column": null,
            "overflow_y": null,
            "overflow_x": null,
            "grid_auto_flow": null,
            "grid_area": null,
            "grid_template_columns": null,
            "flex": null,
            "_model_name": "LayoutModel",
            "justify_items": null,
            "grid_row": null,
            "max_height": null,
            "align_content": null,
            "visibility": null,
            "align_self": null,
            "height": null,
            "min_height": null,
            "padding": null,
            "grid_auto_rows": null,
            "grid_gap": null,
            "max_width": null,
            "order": null,
            "_view_module_version": "1.2.0",
            "grid_template_areas": null,
            "object_position": null,
            "object_fit": null,
            "grid_auto_columns": null,
            "margin": null,
            "display": null,
            "left": null
          }
        },
        "262e6a2985d24f57b4b6fc379ba0eb09": {
          "model_module": "@jupyter-widgets/controls",
          "model_name": "DescriptionStyleModel",
          "state": {
            "_view_name": "StyleView",
            "_model_name": "DescriptionStyleModel",
            "description_width": "",
            "_view_module": "@jupyter-widgets/base",
            "_model_module_version": "1.5.0",
            "_view_count": null,
            "_view_module_version": "1.2.0",
            "_model_module": "@jupyter-widgets/controls"
          }
        },
        "14fe5957467d4a3482c45544d7f4a9eb": {
          "model_module": "@jupyter-widgets/base",
          "model_name": "LayoutModel",
          "state": {
            "_view_name": "LayoutView",
            "grid_template_rows": null,
            "right": null,
            "justify_content": null,
            "_view_module": "@jupyter-widgets/base",
            "overflow": null,
            "_model_module_version": "1.2.0",
            "_view_count": null,
            "flex_flow": null,
            "width": null,
            "min_width": null,
            "border": null,
            "align_items": null,
            "bottom": null,
            "_model_module": "@jupyter-widgets/base",
            "top": null,
            "grid_column": null,
            "overflow_y": null,
            "overflow_x": null,
            "grid_auto_flow": null,
            "grid_area": null,
            "grid_template_columns": null,
            "flex": null,
            "_model_name": "LayoutModel",
            "justify_items": null,
            "grid_row": null,
            "max_height": null,
            "align_content": null,
            "visibility": null,
            "align_self": null,
            "height": null,
            "min_height": null,
            "padding": null,
            "grid_auto_rows": null,
            "grid_gap": null,
            "max_width": null,
            "order": null,
            "_view_module_version": "1.2.0",
            "grid_template_areas": null,
            "object_position": null,
            "object_fit": null,
            "grid_auto_columns": null,
            "margin": null,
            "display": null,
            "left": null
          }
        },
        "b8ee925ea40147b19248e46a7df6b0c2": {
          "model_module": "@jupyter-widgets/controls",
          "model_name": "HBoxModel",
          "state": {
            "_view_name": "HBoxView",
            "_dom_classes": [],
            "_model_name": "HBoxModel",
            "_view_module": "@jupyter-widgets/controls",
            "_model_module_version": "1.5.0",
            "_view_count": null,
            "_view_module_version": "1.5.0",
            "box_style": "",
            "layout": "IPY_MODEL_289d7daaa38d45a2ae20c9a4a40e82ac",
            "_model_module": "@jupyter-widgets/controls",
            "children": [
              "IPY_MODEL_36e48385ca3d4391a430a136fc02d525",
              "IPY_MODEL_5badd563d3af4eb1babb7a3ca4b684dd"
            ]
          }
        },
        "289d7daaa38d45a2ae20c9a4a40e82ac": {
          "model_module": "@jupyter-widgets/base",
          "model_name": "LayoutModel",
          "state": {
            "_view_name": "LayoutView",
            "grid_template_rows": null,
            "right": null,
            "justify_content": null,
            "_view_module": "@jupyter-widgets/base",
            "overflow": null,
            "_model_module_version": "1.2.0",
            "_view_count": null,
            "flex_flow": null,
            "width": null,
            "min_width": null,
            "border": null,
            "align_items": null,
            "bottom": null,
            "_model_module": "@jupyter-widgets/base",
            "top": null,
            "grid_column": null,
            "overflow_y": null,
            "overflow_x": null,
            "grid_auto_flow": null,
            "grid_area": null,
            "grid_template_columns": null,
            "flex": null,
            "_model_name": "LayoutModel",
            "justify_items": null,
            "grid_row": null,
            "max_height": null,
            "align_content": null,
            "visibility": null,
            "align_self": null,
            "height": null,
            "min_height": null,
            "padding": null,
            "grid_auto_rows": null,
            "grid_gap": null,
            "max_width": null,
            "order": null,
            "_view_module_version": "1.2.0",
            "grid_template_areas": null,
            "object_position": null,
            "object_fit": null,
            "grid_auto_columns": null,
            "margin": null,
            "display": null,
            "left": null
          }
        },
        "36e48385ca3d4391a430a136fc02d525": {
          "model_module": "@jupyter-widgets/controls",
          "model_name": "FloatProgressModel",
          "state": {
            "_view_name": "ProgressView",
            "style": "IPY_MODEL_7cd3f8e7ee2245e3b1257ba8b3023b7c",
            "_dom_classes": [],
            "description": "",
            "_model_name": "FloatProgressModel",
            "bar_style": "success",
            "max": 26421880,
            "_view_module": "@jupyter-widgets/controls",
            "_model_module_version": "1.5.0",
            "value": 26421880,
            "_view_count": null,
            "_view_module_version": "1.5.0",
            "orientation": "horizontal",
            "min": 0,
            "description_tooltip": null,
            "_model_module": "@jupyter-widgets/controls",
            "layout": "IPY_MODEL_76c6014f3585400598ac7227686faa87"
          }
        },
        "5badd563d3af4eb1babb7a3ca4b684dd": {
          "model_module": "@jupyter-widgets/controls",
          "model_name": "HTMLModel",
          "state": {
            "_view_name": "HTMLView",
            "style": "IPY_MODEL_1c733931145148ffa5992876f3f16f8c",
            "_dom_classes": [],
            "description": "",
            "_model_name": "HTMLModel",
            "placeholder": "​",
            "_view_module": "@jupyter-widgets/controls",
            "_model_module_version": "1.5.0",
            "value": " 26422272/? [00:02&lt;00:00, 9659254.45it/s]",
            "_view_count": null,
            "_view_module_version": "1.5.0",
            "description_tooltip": null,
            "_model_module": "@jupyter-widgets/controls",
            "layout": "IPY_MODEL_c5d308bbae7348db8cfb8e6ac8af4ede"
          }
        },
        "7cd3f8e7ee2245e3b1257ba8b3023b7c": {
          "model_module": "@jupyter-widgets/controls",
          "model_name": "ProgressStyleModel",
          "state": {
            "_view_name": "StyleView",
            "_model_name": "ProgressStyleModel",
            "description_width": "initial",
            "_view_module": "@jupyter-widgets/base",
            "_model_module_version": "1.5.0",
            "_view_count": null,
            "_view_module_version": "1.2.0",
            "bar_color": null,
            "_model_module": "@jupyter-widgets/controls"
          }
        },
        "76c6014f3585400598ac7227686faa87": {
          "model_module": "@jupyter-widgets/base",
          "model_name": "LayoutModel",
          "state": {
            "_view_name": "LayoutView",
            "grid_template_rows": null,
            "right": null,
            "justify_content": null,
            "_view_module": "@jupyter-widgets/base",
            "overflow": null,
            "_model_module_version": "1.2.0",
            "_view_count": null,
            "flex_flow": null,
            "width": null,
            "min_width": null,
            "border": null,
            "align_items": null,
            "bottom": null,
            "_model_module": "@jupyter-widgets/base",
            "top": null,
            "grid_column": null,
            "overflow_y": null,
            "overflow_x": null,
            "grid_auto_flow": null,
            "grid_area": null,
            "grid_template_columns": null,
            "flex": null,
            "_model_name": "LayoutModel",
            "justify_items": null,
            "grid_row": null,
            "max_height": null,
            "align_content": null,
            "visibility": null,
            "align_self": null,
            "height": null,
            "min_height": null,
            "padding": null,
            "grid_auto_rows": null,
            "grid_gap": null,
            "max_width": null,
            "order": null,
            "_view_module_version": "1.2.0",
            "grid_template_areas": null,
            "object_position": null,
            "object_fit": null,
            "grid_auto_columns": null,
            "margin": null,
            "display": null,
            "left": null
          }
        },
        "1c733931145148ffa5992876f3f16f8c": {
          "model_module": "@jupyter-widgets/controls",
          "model_name": "DescriptionStyleModel",
          "state": {
            "_view_name": "StyleView",
            "_model_name": "DescriptionStyleModel",
            "description_width": "",
            "_view_module": "@jupyter-widgets/base",
            "_model_module_version": "1.5.0",
            "_view_count": null,
            "_view_module_version": "1.2.0",
            "_model_module": "@jupyter-widgets/controls"
          }
        },
        "c5d308bbae7348db8cfb8e6ac8af4ede": {
          "model_module": "@jupyter-widgets/base",
          "model_name": "LayoutModel",
          "state": {
            "_view_name": "LayoutView",
            "grid_template_rows": null,
            "right": null,
            "justify_content": null,
            "_view_module": "@jupyter-widgets/base",
            "overflow": null,
            "_model_module_version": "1.2.0",
            "_view_count": null,
            "flex_flow": null,
            "width": null,
            "min_width": null,
            "border": null,
            "align_items": null,
            "bottom": null,
            "_model_module": "@jupyter-widgets/base",
            "top": null,
            "grid_column": null,
            "overflow_y": null,
            "overflow_x": null,
            "grid_auto_flow": null,
            "grid_area": null,
            "grid_template_columns": null,
            "flex": null,
            "_model_name": "LayoutModel",
            "justify_items": null,
            "grid_row": null,
            "max_height": null,
            "align_content": null,
            "visibility": null,
            "align_self": null,
            "height": null,
            "min_height": null,
            "padding": null,
            "grid_auto_rows": null,
            "grid_gap": null,
            "max_width": null,
            "order": null,
            "_view_module_version": "1.2.0",
            "grid_template_areas": null,
            "object_position": null,
            "object_fit": null,
            "grid_auto_columns": null,
            "margin": null,
            "display": null,
            "left": null
          }
        },
        "df31ad9704b14f6e8c00845b987ff618": {
          "model_module": "@jupyter-widgets/controls",
          "model_name": "HBoxModel",
          "state": {
            "_view_name": "HBoxView",
            "_dom_classes": [],
            "_model_name": "HBoxModel",
            "_view_module": "@jupyter-widgets/controls",
            "_model_module_version": "1.5.0",
            "_view_count": null,
            "_view_module_version": "1.5.0",
            "box_style": "",
            "layout": "IPY_MODEL_315a418ecce5451085138a2a9f344efc",
            "_model_module": "@jupyter-widgets/controls",
            "children": [
              "IPY_MODEL_76cfd5cf1397415eb2e19b5025d48eaf",
              "IPY_MODEL_1085ebe29180410f904b7ff1adce193b"
            ]
          }
        },
        "315a418ecce5451085138a2a9f344efc": {
          "model_module": "@jupyter-widgets/base",
          "model_name": "LayoutModel",
          "state": {
            "_view_name": "LayoutView",
            "grid_template_rows": null,
            "right": null,
            "justify_content": null,
            "_view_module": "@jupyter-widgets/base",
            "overflow": null,
            "_model_module_version": "1.2.0",
            "_view_count": null,
            "flex_flow": null,
            "width": null,
            "min_width": null,
            "border": null,
            "align_items": null,
            "bottom": null,
            "_model_module": "@jupyter-widgets/base",
            "top": null,
            "grid_column": null,
            "overflow_y": null,
            "overflow_x": null,
            "grid_auto_flow": null,
            "grid_area": null,
            "grid_template_columns": null,
            "flex": null,
            "_model_name": "LayoutModel",
            "justify_items": null,
            "grid_row": null,
            "max_height": null,
            "align_content": null,
            "visibility": null,
            "align_self": null,
            "height": null,
            "min_height": null,
            "padding": null,
            "grid_auto_rows": null,
            "grid_gap": null,
            "max_width": null,
            "order": null,
            "_view_module_version": "1.2.0",
            "grid_template_areas": null,
            "object_position": null,
            "object_fit": null,
            "grid_auto_columns": null,
            "margin": null,
            "display": null,
            "left": null
          }
        },
        "76cfd5cf1397415eb2e19b5025d48eaf": {
          "model_module": "@jupyter-widgets/controls",
          "model_name": "FloatProgressModel",
          "state": {
            "_view_name": "ProgressView",
            "style": "IPY_MODEL_c6739fbd7fc846099456ea47344b7e8f",
            "_dom_classes": [],
            "description": "",
            "_model_name": "FloatProgressModel",
            "bar_style": "success",
            "max": 29515,
            "_view_module": "@jupyter-widgets/controls",
            "_model_module_version": "1.5.0",
            "value": 29515,
            "_view_count": null,
            "_view_module_version": "1.5.0",
            "orientation": "horizontal",
            "min": 0,
            "description_tooltip": null,
            "_model_module": "@jupyter-widgets/controls",
            "layout": "IPY_MODEL_02254ce9ed364681ac24945786d29f4d"
          }
        },
        "1085ebe29180410f904b7ff1adce193b": {
          "model_module": "@jupyter-widgets/controls",
          "model_name": "HTMLModel",
          "state": {
            "_view_name": "HTMLView",
            "style": "IPY_MODEL_4ece33b3996b4935ace187b43327e33f",
            "_dom_classes": [],
            "description": "",
            "_model_name": "HTMLModel",
            "placeholder": "​",
            "_view_module": "@jupyter-widgets/controls",
            "_model_module_version": "1.5.0",
            "value": " 29696/? [21:23&lt;00:00, 23.14it/s]",
            "_view_count": null,
            "_view_module_version": "1.5.0",
            "description_tooltip": null,
            "_model_module": "@jupyter-widgets/controls",
            "layout": "IPY_MODEL_5a01957112d247ef814e1a780e1eb2c8"
          }
        },
        "c6739fbd7fc846099456ea47344b7e8f": {
          "model_module": "@jupyter-widgets/controls",
          "model_name": "ProgressStyleModel",
          "state": {
            "_view_name": "StyleView",
            "_model_name": "ProgressStyleModel",
            "description_width": "initial",
            "_view_module": "@jupyter-widgets/base",
            "_model_module_version": "1.5.0",
            "_view_count": null,
            "_view_module_version": "1.2.0",
            "bar_color": null,
            "_model_module": "@jupyter-widgets/controls"
          }
        },
        "02254ce9ed364681ac24945786d29f4d": {
          "model_module": "@jupyter-widgets/base",
          "model_name": "LayoutModel",
          "state": {
            "_view_name": "LayoutView",
            "grid_template_rows": null,
            "right": null,
            "justify_content": null,
            "_view_module": "@jupyter-widgets/base",
            "overflow": null,
            "_model_module_version": "1.2.0",
            "_view_count": null,
            "flex_flow": null,
            "width": null,
            "min_width": null,
            "border": null,
            "align_items": null,
            "bottom": null,
            "_model_module": "@jupyter-widgets/base",
            "top": null,
            "grid_column": null,
            "overflow_y": null,
            "overflow_x": null,
            "grid_auto_flow": null,
            "grid_area": null,
            "grid_template_columns": null,
            "flex": null,
            "_model_name": "LayoutModel",
            "justify_items": null,
            "grid_row": null,
            "max_height": null,
            "align_content": null,
            "visibility": null,
            "align_self": null,
            "height": null,
            "min_height": null,
            "padding": null,
            "grid_auto_rows": null,
            "grid_gap": null,
            "max_width": null,
            "order": null,
            "_view_module_version": "1.2.0",
            "grid_template_areas": null,
            "object_position": null,
            "object_fit": null,
            "grid_auto_columns": null,
            "margin": null,
            "display": null,
            "left": null
          }
        },
        "4ece33b3996b4935ace187b43327e33f": {
          "model_module": "@jupyter-widgets/controls",
          "model_name": "DescriptionStyleModel",
          "state": {
            "_view_name": "StyleView",
            "_model_name": "DescriptionStyleModel",
            "description_width": "",
            "_view_module": "@jupyter-widgets/base",
            "_model_module_version": "1.5.0",
            "_view_count": null,
            "_view_module_version": "1.2.0",
            "_model_module": "@jupyter-widgets/controls"
          }
        },
        "5a01957112d247ef814e1a780e1eb2c8": {
          "model_module": "@jupyter-widgets/base",
          "model_name": "LayoutModel",
          "state": {
            "_view_name": "LayoutView",
            "grid_template_rows": null,
            "right": null,
            "justify_content": null,
            "_view_module": "@jupyter-widgets/base",
            "overflow": null,
            "_model_module_version": "1.2.0",
            "_view_count": null,
            "flex_flow": null,
            "width": null,
            "min_width": null,
            "border": null,
            "align_items": null,
            "bottom": null,
            "_model_module": "@jupyter-widgets/base",
            "top": null,
            "grid_column": null,
            "overflow_y": null,
            "overflow_x": null,
            "grid_auto_flow": null,
            "grid_area": null,
            "grid_template_columns": null,
            "flex": null,
            "_model_name": "LayoutModel",
            "justify_items": null,
            "grid_row": null,
            "max_height": null,
            "align_content": null,
            "visibility": null,
            "align_self": null,
            "height": null,
            "min_height": null,
            "padding": null,
            "grid_auto_rows": null,
            "grid_gap": null,
            "max_width": null,
            "order": null,
            "_view_module_version": "1.2.0",
            "grid_template_areas": null,
            "object_position": null,
            "object_fit": null,
            "grid_auto_columns": null,
            "margin": null,
            "display": null,
            "left": null
          }
        },
        "e6bd12ceda954a43aa9818643fde69aa": {
          "model_module": "@jupyter-widgets/controls",
          "model_name": "HBoxModel",
          "state": {
            "_view_name": "HBoxView",
            "_dom_classes": [],
            "_model_name": "HBoxModel",
            "_view_module": "@jupyter-widgets/controls",
            "_model_module_version": "1.5.0",
            "_view_count": null,
            "_view_module_version": "1.5.0",
            "box_style": "",
            "layout": "IPY_MODEL_0be64f65bb5b4c3da854d8784d0ef321",
            "_model_module": "@jupyter-widgets/controls",
            "children": [
              "IPY_MODEL_68be50d4bc984d12b09ee42128dba5a0",
              "IPY_MODEL_adccfa593e694c27a23c2399dbee837c"
            ]
          }
        },
        "0be64f65bb5b4c3da854d8784d0ef321": {
          "model_module": "@jupyter-widgets/base",
          "model_name": "LayoutModel",
          "state": {
            "_view_name": "LayoutView",
            "grid_template_rows": null,
            "right": null,
            "justify_content": null,
            "_view_module": "@jupyter-widgets/base",
            "overflow": null,
            "_model_module_version": "1.2.0",
            "_view_count": null,
            "flex_flow": null,
            "width": null,
            "min_width": null,
            "border": null,
            "align_items": null,
            "bottom": null,
            "_model_module": "@jupyter-widgets/base",
            "top": null,
            "grid_column": null,
            "overflow_y": null,
            "overflow_x": null,
            "grid_auto_flow": null,
            "grid_area": null,
            "grid_template_columns": null,
            "flex": null,
            "_model_name": "LayoutModel",
            "justify_items": null,
            "grid_row": null,
            "max_height": null,
            "align_content": null,
            "visibility": null,
            "align_self": null,
            "height": null,
            "min_height": null,
            "padding": null,
            "grid_auto_rows": null,
            "grid_gap": null,
            "max_width": null,
            "order": null,
            "_view_module_version": "1.2.0",
            "grid_template_areas": null,
            "object_position": null,
            "object_fit": null,
            "grid_auto_columns": null,
            "margin": null,
            "display": null,
            "left": null
          }
        },
        "68be50d4bc984d12b09ee42128dba5a0": {
          "model_module": "@jupyter-widgets/controls",
          "model_name": "FloatProgressModel",
          "state": {
            "_view_name": "ProgressView",
            "style": "IPY_MODEL_312e91670a404ba3b928e87378d03958",
            "_dom_classes": [],
            "description": "",
            "_model_name": "FloatProgressModel",
            "bar_style": "success",
            "max": 4422102,
            "_view_module": "@jupyter-widgets/controls",
            "_model_module_version": "1.5.0",
            "value": 4422102,
            "_view_count": null,
            "_view_module_version": "1.5.0",
            "orientation": "horizontal",
            "min": 0,
            "description_tooltip": null,
            "_model_module": "@jupyter-widgets/controls",
            "layout": "IPY_MODEL_76e44264edce49e185896df03a618854"
          }
        },
        "adccfa593e694c27a23c2399dbee837c": {
          "model_module": "@jupyter-widgets/controls",
          "model_name": "HTMLModel",
          "state": {
            "_view_name": "HTMLView",
            "style": "IPY_MODEL_e44c10cc43ca45be9d30c3ccc06d88d3",
            "_dom_classes": [],
            "description": "",
            "_model_name": "HTMLModel",
            "placeholder": "​",
            "_view_module": "@jupyter-widgets/controls",
            "_model_module_version": "1.5.0",
            "value": " 4422656/? [00:29&lt;00:00, 149450.35it/s]",
            "_view_count": null,
            "_view_module_version": "1.5.0",
            "description_tooltip": null,
            "_model_module": "@jupyter-widgets/controls",
            "layout": "IPY_MODEL_3ef6f4e3b04c435ba4bd856261ce1412"
          }
        },
        "312e91670a404ba3b928e87378d03958": {
          "model_module": "@jupyter-widgets/controls",
          "model_name": "ProgressStyleModel",
          "state": {
            "_view_name": "StyleView",
            "_model_name": "ProgressStyleModel",
            "description_width": "initial",
            "_view_module": "@jupyter-widgets/base",
            "_model_module_version": "1.5.0",
            "_view_count": null,
            "_view_module_version": "1.2.0",
            "bar_color": null,
            "_model_module": "@jupyter-widgets/controls"
          }
        },
        "76e44264edce49e185896df03a618854": {
          "model_module": "@jupyter-widgets/base",
          "model_name": "LayoutModel",
          "state": {
            "_view_name": "LayoutView",
            "grid_template_rows": null,
            "right": null,
            "justify_content": null,
            "_view_module": "@jupyter-widgets/base",
            "overflow": null,
            "_model_module_version": "1.2.0",
            "_view_count": null,
            "flex_flow": null,
            "width": null,
            "min_width": null,
            "border": null,
            "align_items": null,
            "bottom": null,
            "_model_module": "@jupyter-widgets/base",
            "top": null,
            "grid_column": null,
            "overflow_y": null,
            "overflow_x": null,
            "grid_auto_flow": null,
            "grid_area": null,
            "grid_template_columns": null,
            "flex": null,
            "_model_name": "LayoutModel",
            "justify_items": null,
            "grid_row": null,
            "max_height": null,
            "align_content": null,
            "visibility": null,
            "align_self": null,
            "height": null,
            "min_height": null,
            "padding": null,
            "grid_auto_rows": null,
            "grid_gap": null,
            "max_width": null,
            "order": null,
            "_view_module_version": "1.2.0",
            "grid_template_areas": null,
            "object_position": null,
            "object_fit": null,
            "grid_auto_columns": null,
            "margin": null,
            "display": null,
            "left": null
          }
        },
        "e44c10cc43ca45be9d30c3ccc06d88d3": {
          "model_module": "@jupyter-widgets/controls",
          "model_name": "DescriptionStyleModel",
          "state": {
            "_view_name": "StyleView",
            "_model_name": "DescriptionStyleModel",
            "description_width": "",
            "_view_module": "@jupyter-widgets/base",
            "_model_module_version": "1.5.0",
            "_view_count": null,
            "_view_module_version": "1.2.0",
            "_model_module": "@jupyter-widgets/controls"
          }
        },
        "3ef6f4e3b04c435ba4bd856261ce1412": {
          "model_module": "@jupyter-widgets/base",
          "model_name": "LayoutModel",
          "state": {
            "_view_name": "LayoutView",
            "grid_template_rows": null,
            "right": null,
            "justify_content": null,
            "_view_module": "@jupyter-widgets/base",
            "overflow": null,
            "_model_module_version": "1.2.0",
            "_view_count": null,
            "flex_flow": null,
            "width": null,
            "min_width": null,
            "border": null,
            "align_items": null,
            "bottom": null,
            "_model_module": "@jupyter-widgets/base",
            "top": null,
            "grid_column": null,
            "overflow_y": null,
            "overflow_x": null,
            "grid_auto_flow": null,
            "grid_area": null,
            "grid_template_columns": null,
            "flex": null,
            "_model_name": "LayoutModel",
            "justify_items": null,
            "grid_row": null,
            "max_height": null,
            "align_content": null,
            "visibility": null,
            "align_self": null,
            "height": null,
            "min_height": null,
            "padding": null,
            "grid_auto_rows": null,
            "grid_gap": null,
            "max_width": null,
            "order": null,
            "_view_module_version": "1.2.0",
            "grid_template_areas": null,
            "object_position": null,
            "object_fit": null,
            "grid_auto_columns": null,
            "margin": null,
            "display": null,
            "left": null
          }
        },
        "6c91a4f895cc430580cf08c3c1343887": {
          "model_module": "@jupyter-widgets/controls",
          "model_name": "HBoxModel",
          "state": {
            "_view_name": "HBoxView",
            "_dom_classes": [],
            "_model_name": "HBoxModel",
            "_view_module": "@jupyter-widgets/controls",
            "_model_module_version": "1.5.0",
            "_view_count": null,
            "_view_module_version": "1.5.0",
            "box_style": "",
            "layout": "IPY_MODEL_5d61ec3f3e3b48c5ad13e9039b27784b",
            "_model_module": "@jupyter-widgets/controls",
            "children": [
              "IPY_MODEL_a51f974861794503b939589f82527bcc",
              "IPY_MODEL_979481a2755147b7bca332d333d0d04d"
            ]
          }
        },
        "5d61ec3f3e3b48c5ad13e9039b27784b": {
          "model_module": "@jupyter-widgets/base",
          "model_name": "LayoutModel",
          "state": {
            "_view_name": "LayoutView",
            "grid_template_rows": null,
            "right": null,
            "justify_content": null,
            "_view_module": "@jupyter-widgets/base",
            "overflow": null,
            "_model_module_version": "1.2.0",
            "_view_count": null,
            "flex_flow": null,
            "width": null,
            "min_width": null,
            "border": null,
            "align_items": null,
            "bottom": null,
            "_model_module": "@jupyter-widgets/base",
            "top": null,
            "grid_column": null,
            "overflow_y": null,
            "overflow_x": null,
            "grid_auto_flow": null,
            "grid_area": null,
            "grid_template_columns": null,
            "flex": null,
            "_model_name": "LayoutModel",
            "justify_items": null,
            "grid_row": null,
            "max_height": null,
            "align_content": null,
            "visibility": null,
            "align_self": null,
            "height": null,
            "min_height": null,
            "padding": null,
            "grid_auto_rows": null,
            "grid_gap": null,
            "max_width": null,
            "order": null,
            "_view_module_version": "1.2.0",
            "grid_template_areas": null,
            "object_position": null,
            "object_fit": null,
            "grid_auto_columns": null,
            "margin": null,
            "display": null,
            "left": null
          }
        },
        "a51f974861794503b939589f82527bcc": {
          "model_module": "@jupyter-widgets/controls",
          "model_name": "FloatProgressModel",
          "state": {
            "_view_name": "ProgressView",
            "style": "IPY_MODEL_265b487d1020444ca48d0bf0427b22c9",
            "_dom_classes": [],
            "description": "",
            "_model_name": "FloatProgressModel",
            "bar_style": "success",
            "max": 5148,
            "_view_module": "@jupyter-widgets/controls",
            "_model_module_version": "1.5.0",
            "value": 5148,
            "_view_count": null,
            "_view_module_version": "1.5.0",
            "orientation": "horizontal",
            "min": 0,
            "description_tooltip": null,
            "_model_module": "@jupyter-widgets/controls",
            "layout": "IPY_MODEL_72c2e549140642fd825d03130e6ad2b0"
          }
        },
        "979481a2755147b7bca332d333d0d04d": {
          "model_module": "@jupyter-widgets/controls",
          "model_name": "HTMLModel",
          "state": {
            "_view_name": "HTMLView",
            "style": "IPY_MODEL_d75f03a6a12d4c8e88649e5497733f3d",
            "_dom_classes": [],
            "description": "",
            "_model_name": "HTMLModel",
            "placeholder": "​",
            "_view_module": "@jupyter-widgets/controls",
            "_model_module_version": "1.5.0",
            "value": " 6144/? [00:28&lt;00:00, 218.78it/s]",
            "_view_count": null,
            "_view_module_version": "1.5.0",
            "description_tooltip": null,
            "_model_module": "@jupyter-widgets/controls",
            "layout": "IPY_MODEL_dc57a7a685314a8fa4d8b1cca3466214"
          }
        },
        "265b487d1020444ca48d0bf0427b22c9": {
          "model_module": "@jupyter-widgets/controls",
          "model_name": "ProgressStyleModel",
          "state": {
            "_view_name": "StyleView",
            "_model_name": "ProgressStyleModel",
            "description_width": "initial",
            "_view_module": "@jupyter-widgets/base",
            "_model_module_version": "1.5.0",
            "_view_count": null,
            "_view_module_version": "1.2.0",
            "bar_color": null,
            "_model_module": "@jupyter-widgets/controls"
          }
        },
        "72c2e549140642fd825d03130e6ad2b0": {
          "model_module": "@jupyter-widgets/base",
          "model_name": "LayoutModel",
          "state": {
            "_view_name": "LayoutView",
            "grid_template_rows": null,
            "right": null,
            "justify_content": null,
            "_view_module": "@jupyter-widgets/base",
            "overflow": null,
            "_model_module_version": "1.2.0",
            "_view_count": null,
            "flex_flow": null,
            "width": null,
            "min_width": null,
            "border": null,
            "align_items": null,
            "bottom": null,
            "_model_module": "@jupyter-widgets/base",
            "top": null,
            "grid_column": null,
            "overflow_y": null,
            "overflow_x": null,
            "grid_auto_flow": null,
            "grid_area": null,
            "grid_template_columns": null,
            "flex": null,
            "_model_name": "LayoutModel",
            "justify_items": null,
            "grid_row": null,
            "max_height": null,
            "align_content": null,
            "visibility": null,
            "align_self": null,
            "height": null,
            "min_height": null,
            "padding": null,
            "grid_auto_rows": null,
            "grid_gap": null,
            "max_width": null,
            "order": null,
            "_view_module_version": "1.2.0",
            "grid_template_areas": null,
            "object_position": null,
            "object_fit": null,
            "grid_auto_columns": null,
            "margin": null,
            "display": null,
            "left": null
          }
        },
        "d75f03a6a12d4c8e88649e5497733f3d": {
          "model_module": "@jupyter-widgets/controls",
          "model_name": "DescriptionStyleModel",
          "state": {
            "_view_name": "StyleView",
            "_model_name": "DescriptionStyleModel",
            "description_width": "",
            "_view_module": "@jupyter-widgets/base",
            "_model_module_version": "1.5.0",
            "_view_count": null,
            "_view_module_version": "1.2.0",
            "_model_module": "@jupyter-widgets/controls"
          }
        },
        "dc57a7a685314a8fa4d8b1cca3466214": {
          "model_module": "@jupyter-widgets/base",
          "model_name": "LayoutModel",
          "state": {
            "_view_name": "LayoutView",
            "grid_template_rows": null,
            "right": null,
            "justify_content": null,
            "_view_module": "@jupyter-widgets/base",
            "overflow": null,
            "_model_module_version": "1.2.0",
            "_view_count": null,
            "flex_flow": null,
            "width": null,
            "min_width": null,
            "border": null,
            "align_items": null,
            "bottom": null,
            "_model_module": "@jupyter-widgets/base",
            "top": null,
            "grid_column": null,
            "overflow_y": null,
            "overflow_x": null,
            "grid_auto_flow": null,
            "grid_area": null,
            "grid_template_columns": null,
            "flex": null,
            "_model_name": "LayoutModel",
            "justify_items": null,
            "grid_row": null,
            "max_height": null,
            "align_content": null,
            "visibility": null,
            "align_self": null,
            "height": null,
            "min_height": null,
            "padding": null,
            "grid_auto_rows": null,
            "grid_gap": null,
            "max_width": null,
            "order": null,
            "_view_module_version": "1.2.0",
            "grid_template_areas": null,
            "object_position": null,
            "object_fit": null,
            "grid_auto_columns": null,
            "margin": null,
            "display": null,
            "left": null
          }
        }
      }
    },
    "accelerator": "GPU"
  },
  "cells": [
    {
      "cell_type": "markdown",
      "metadata": {
        "id": "f7EqmCOfJ0RU"
      },
      "source": [
        "# Project3"
      ]
    },
    {
      "cell_type": "code",
      "metadata": {
        "id": "PhiHdFgz4Nlt"
      },
      "source": [
        "import torch\n",
        "import torchvision\n",
        "import matplotlib.pyplot as plt\n",
        "import numpy as np\n",
        "from torchvision.transforms import ToTensor\n",
        "torch.set_default_dtype(torch.float64)"
      ],
      "execution_count": 1,
      "outputs": []
    },
    {
      "cell_type": "code",
      "metadata": {
        "colab": {
          "base_uri": "https://localhost:8080/",
          "height": 1000,
          "referenced_widgets": [
            "8b1ef6de789747709b36b8cf34f6f710",
            "6e469e60271440d698b261fb59ff9dd4",
            "8d9464ce65fd4396af6c314666ba3695",
            "e7739b862a3d4e9aa22e2ee76074c248",
            "f727785127e54a5aadfc844a8cabf9eb",
            "10add49b89974a8c89a547b07a565589",
            "a430ccc1f45b4683b86e729566d36741",
            "8f9494698a544841800dcd9cdccdbb22",
            "9d400333bc9747e986b69bc819f348de",
            "733098f78d174a3ca528c142177ec4e0",
            "f637493591da47228651b7511cc6a156",
            "6f9eb909480a4cd295e351f52d73429f",
            "3a406f4ac1f648408454d2c3b3045356",
            "800af1c34ddd448ab2f85ab25d95b778",
            "e661fed3c9fd420795c223b1f2007e54",
            "2227b0a2b5a7496196a2e231e8f94c41",
            "1e76361189214b8f93399c622367d15b",
            "59d5589c74f543499cdedf1ba031eb91",
            "cd876410543a4f4eb4eb9ef23b67764b",
            "68f35826e58048d7908a98ebe2d90718",
            "f0352b45bf924377b588e653e8f23118",
            "82c6159bfe67442ca7ba93e4cfc461f6",
            "41952de5c1744e4a918554d6d5ec1824",
            "9815f16520094d8fb9d363282b7df03f",
            "d227554b56d44a12afc557e7d4e9e9e1",
            "b6d325cadf2b486a9e93b82d69d9631f",
            "a089368d56594b98b927aaaa2143c7c5",
            "b9e2f39655d34943ade771f7ef7f66f0",
            "0617b18d61244e9f87871bb32405b073",
            "d846ea6a124146ac87c81e6c79bc7923",
            "262e6a2985d24f57b4b6fc379ba0eb09",
            "14fe5957467d4a3482c45544d7f4a9eb",
            "b8ee925ea40147b19248e46a7df6b0c2",
            "289d7daaa38d45a2ae20c9a4a40e82ac",
            "36e48385ca3d4391a430a136fc02d525",
            "5badd563d3af4eb1babb7a3ca4b684dd",
            "7cd3f8e7ee2245e3b1257ba8b3023b7c",
            "76c6014f3585400598ac7227686faa87",
            "1c733931145148ffa5992876f3f16f8c",
            "c5d308bbae7348db8cfb8e6ac8af4ede",
            "df31ad9704b14f6e8c00845b987ff618",
            "315a418ecce5451085138a2a9f344efc",
            "76cfd5cf1397415eb2e19b5025d48eaf",
            "1085ebe29180410f904b7ff1adce193b",
            "c6739fbd7fc846099456ea47344b7e8f",
            "02254ce9ed364681ac24945786d29f4d",
            "4ece33b3996b4935ace187b43327e33f",
            "5a01957112d247ef814e1a780e1eb2c8",
            "e6bd12ceda954a43aa9818643fde69aa",
            "0be64f65bb5b4c3da854d8784d0ef321",
            "68be50d4bc984d12b09ee42128dba5a0",
            "adccfa593e694c27a23c2399dbee837c",
            "312e91670a404ba3b928e87378d03958",
            "76e44264edce49e185896df03a618854",
            "e44c10cc43ca45be9d30c3ccc06d88d3",
            "3ef6f4e3b04c435ba4bd856261ce1412",
            "6c91a4f895cc430580cf08c3c1343887",
            "5d61ec3f3e3b48c5ad13e9039b27784b",
            "a51f974861794503b939589f82527bcc",
            "979481a2755147b7bca332d333d0d04d",
            "265b487d1020444ca48d0bf0427b22c9",
            "72c2e549140642fd825d03130e6ad2b0",
            "d75f03a6a12d4c8e88649e5497733f3d",
            "dc57a7a685314a8fa4d8b1cca3466214"
          ]
        },
        "id": "fZOrhLAs4Pmj",
        "outputId": "b6269b0c-96ee-4467-954a-535482bbe4d4"
      },
      "source": [
        "train_data = torchvision.datasets.FashionMNIST('./train/', train=True, download=True, transform=ToTensor())\n",
        "test_data = torchvision.datasets.FashionMNIST('./test/', train=False, download=True, transform=ToTensor())"
      ],
      "execution_count": 2,
      "outputs": [
        {
          "output_type": "stream",
          "text": [
            "Downloading http://fashion-mnist.s3-website.eu-central-1.amazonaws.com/train-images-idx3-ubyte.gz\n",
            "Downloading http://fashion-mnist.s3-website.eu-central-1.amazonaws.com/train-images-idx3-ubyte.gz to ./train/FashionMNIST/raw/train-images-idx3-ubyte.gz\n"
          ],
          "name": "stdout"
        },
        {
          "output_type": "display_data",
          "data": {
            "application/vnd.jupyter.widget-view+json": {
              "model_id": "8b1ef6de789747709b36b8cf34f6f710",
              "version_minor": 0,
              "version_major": 2
            },
            "text/plain": [
              "HBox(children=(FloatProgress(value=0.0, max=26421880.0), HTML(value='')))"
            ]
          },
          "metadata": {
            "tags": []
          }
        },
        {
          "output_type": "stream",
          "text": [
            "\n",
            "Extracting ./train/FashionMNIST/raw/train-images-idx3-ubyte.gz to ./train/FashionMNIST/raw\n",
            "\n",
            "Downloading http://fashion-mnist.s3-website.eu-central-1.amazonaws.com/train-labels-idx1-ubyte.gz\n",
            "Downloading http://fashion-mnist.s3-website.eu-central-1.amazonaws.com/train-labels-idx1-ubyte.gz to ./train/FashionMNIST/raw/train-labels-idx1-ubyte.gz\n"
          ],
          "name": "stdout"
        },
        {
          "output_type": "display_data",
          "data": {
            "application/vnd.jupyter.widget-view+json": {
              "model_id": "9d400333bc9747e986b69bc819f348de",
              "version_minor": 0,
              "version_major": 2
            },
            "text/plain": [
              "HBox(children=(FloatProgress(value=0.0, max=29515.0), HTML(value='')))"
            ]
          },
          "metadata": {
            "tags": []
          }
        },
        {
          "output_type": "stream",
          "text": [
            "\n",
            "Extracting ./train/FashionMNIST/raw/train-labels-idx1-ubyte.gz to ./train/FashionMNIST/raw\n",
            "\n",
            "Downloading http://fashion-mnist.s3-website.eu-central-1.amazonaws.com/t10k-images-idx3-ubyte.gz\n",
            "Downloading http://fashion-mnist.s3-website.eu-central-1.amazonaws.com/t10k-images-idx3-ubyte.gz to ./train/FashionMNIST/raw/t10k-images-idx3-ubyte.gz\n"
          ],
          "name": "stdout"
        },
        {
          "output_type": "display_data",
          "data": {
            "application/vnd.jupyter.widget-view+json": {
              "model_id": "1e76361189214b8f93399c622367d15b",
              "version_minor": 0,
              "version_major": 2
            },
            "text/plain": [
              "HBox(children=(FloatProgress(value=0.0, max=4422102.0), HTML(value='')))"
            ]
          },
          "metadata": {
            "tags": []
          }
        },
        {
          "output_type": "stream",
          "text": [
            "\n",
            "Extracting ./train/FashionMNIST/raw/t10k-images-idx3-ubyte.gz to ./train/FashionMNIST/raw\n",
            "\n",
            "Downloading http://fashion-mnist.s3-website.eu-central-1.amazonaws.com/t10k-labels-idx1-ubyte.gz\n",
            "Downloading http://fashion-mnist.s3-website.eu-central-1.amazonaws.com/t10k-labels-idx1-ubyte.gz to ./train/FashionMNIST/raw/t10k-labels-idx1-ubyte.gz\n"
          ],
          "name": "stdout"
        },
        {
          "output_type": "display_data",
          "data": {
            "application/vnd.jupyter.widget-view+json": {
              "model_id": "d227554b56d44a12afc557e7d4e9e9e1",
              "version_minor": 0,
              "version_major": 2
            },
            "text/plain": [
              "HBox(children=(FloatProgress(value=0.0, max=5148.0), HTML(value='')))"
            ]
          },
          "metadata": {
            "tags": []
          }
        },
        {
          "output_type": "stream",
          "text": [
            "\n",
            "Extracting ./train/FashionMNIST/raw/t10k-labels-idx1-ubyte.gz to ./train/FashionMNIST/raw\n",
            "\n",
            "Processing...\n",
            "Done!\n"
          ],
          "name": "stdout"
        },
        {
          "output_type": "stream",
          "text": [
            "/usr/local/lib/python3.7/dist-packages/torchvision/datasets/mnist.py:502: UserWarning: The given NumPy array is not writeable, and PyTorch does not support non-writeable tensors. This means you can write to the underlying (supposedly non-writeable) NumPy array using the tensor. You may want to copy the array to protect its data or make it writeable before converting it to a tensor. This type of warning will be suppressed for the rest of this program. (Triggered internally at  /pytorch/torch/csrc/utils/tensor_numpy.cpp:143.)\n",
            "  return torch.from_numpy(parsed.astype(m[2], copy=False)).view(*s)\n"
          ],
          "name": "stderr"
        },
        {
          "output_type": "stream",
          "text": [
            "Downloading http://fashion-mnist.s3-website.eu-central-1.amazonaws.com/train-images-idx3-ubyte.gz\n",
            "Downloading http://fashion-mnist.s3-website.eu-central-1.amazonaws.com/train-images-idx3-ubyte.gz to ./test/FashionMNIST/raw/train-images-idx3-ubyte.gz\n"
          ],
          "name": "stdout"
        },
        {
          "output_type": "display_data",
          "data": {
            "application/vnd.jupyter.widget-view+json": {
              "model_id": "b8ee925ea40147b19248e46a7df6b0c2",
              "version_minor": 0,
              "version_major": 2
            },
            "text/plain": [
              "HBox(children=(FloatProgress(value=0.0, max=26421880.0), HTML(value='')))"
            ]
          },
          "metadata": {
            "tags": []
          }
        },
        {
          "output_type": "stream",
          "text": [
            "\n",
            "Extracting ./test/FashionMNIST/raw/train-images-idx3-ubyte.gz to ./test/FashionMNIST/raw\n",
            "\n",
            "Downloading http://fashion-mnist.s3-website.eu-central-1.amazonaws.com/train-labels-idx1-ubyte.gz\n",
            "Downloading http://fashion-mnist.s3-website.eu-central-1.amazonaws.com/train-labels-idx1-ubyte.gz to ./test/FashionMNIST/raw/train-labels-idx1-ubyte.gz\n"
          ],
          "name": "stdout"
        },
        {
          "output_type": "display_data",
          "data": {
            "application/vnd.jupyter.widget-view+json": {
              "model_id": "df31ad9704b14f6e8c00845b987ff618",
              "version_minor": 0,
              "version_major": 2
            },
            "text/plain": [
              "HBox(children=(FloatProgress(value=0.0, max=29515.0), HTML(value='')))"
            ]
          },
          "metadata": {
            "tags": []
          }
        },
        {
          "output_type": "stream",
          "text": [
            "\n",
            "Extracting ./test/FashionMNIST/raw/train-labels-idx1-ubyte.gz to ./test/FashionMNIST/raw\n",
            "\n",
            "Downloading http://fashion-mnist.s3-website.eu-central-1.amazonaws.com/t10k-images-idx3-ubyte.gz\n",
            "Downloading http://fashion-mnist.s3-website.eu-central-1.amazonaws.com/t10k-images-idx3-ubyte.gz to ./test/FashionMNIST/raw/t10k-images-idx3-ubyte.gz\n"
          ],
          "name": "stdout"
        },
        {
          "output_type": "display_data",
          "data": {
            "application/vnd.jupyter.widget-view+json": {
              "model_id": "e6bd12ceda954a43aa9818643fde69aa",
              "version_minor": 0,
              "version_major": 2
            },
            "text/plain": [
              "HBox(children=(FloatProgress(value=0.0, max=4422102.0), HTML(value='')))"
            ]
          },
          "metadata": {
            "tags": []
          }
        },
        {
          "output_type": "stream",
          "text": [
            "\n",
            "Extracting ./test/FashionMNIST/raw/t10k-images-idx3-ubyte.gz to ./test/FashionMNIST/raw\n",
            "\n",
            "Downloading http://fashion-mnist.s3-website.eu-central-1.amazonaws.com/t10k-labels-idx1-ubyte.gz\n",
            "Downloading http://fashion-mnist.s3-website.eu-central-1.amazonaws.com/t10k-labels-idx1-ubyte.gz to ./test/FashionMNIST/raw/t10k-labels-idx1-ubyte.gz\n"
          ],
          "name": "stdout"
        },
        {
          "output_type": "display_data",
          "data": {
            "application/vnd.jupyter.widget-view+json": {
              "model_id": "6c91a4f895cc430580cf08c3c1343887",
              "version_minor": 0,
              "version_major": 2
            },
            "text/plain": [
              "HBox(children=(FloatProgress(value=0.0, max=5148.0), HTML(value='')))"
            ]
          },
          "metadata": {
            "tags": []
          }
        },
        {
          "output_type": "stream",
          "text": [
            "\n",
            "Extracting ./test/FashionMNIST/raw/t10k-labels-idx1-ubyte.gz to ./test/FashionMNIST/raw\n",
            "\n",
            "Processing...\n",
            "Done!\n"
          ],
          "name": "stdout"
        }
      ]
    },
    {
      "cell_type": "code",
      "metadata": {
        "colab": {
          "base_uri": "https://localhost:8080/"
        },
        "id": "wL0npkFhKol9",
        "outputId": "2da7f4a9-1692-4989-ae73-ad601694d691"
      },
      "source": [
        "%%bash\n",
        "python --version"
      ],
      "execution_count": 3,
      "outputs": [
        {
          "output_type": "stream",
          "text": [
            "Python 3.7.10\n"
          ],
          "name": "stdout"
        }
      ]
    },
    {
      "cell_type": "code",
      "metadata": {
        "colab": {
          "base_uri": "https://localhost:8080/"
        },
        "id": "iPZ2cl7c9Ag-",
        "outputId": "c30fcdd5-d7b6-4af2-ab3a-97415faf8cff"
      },
      "source": [
        "print(torch.__version__)"
      ],
      "execution_count": 4,
      "outputs": [
        {
          "output_type": "stream",
          "text": [
            "1.8.1+cu101\n"
          ],
          "name": "stdout"
        }
      ]
    },
    {
      "cell_type": "code",
      "metadata": {
        "id": "hnccu8-VL2oD"
      },
      "source": [
        "if torch.cuda.is_available():\n",
        "  device = 'cuda:0'\n",
        "else:\n",
        "  device = 'cpu'"
      ],
      "execution_count": 5,
      "outputs": []
    },
    {
      "cell_type": "code",
      "metadata": {
        "colab": {
          "base_uri": "https://localhost:8080/",
          "height": 35
        },
        "id": "7AGdelV6P9_K",
        "outputId": "788399f9-2fd7-43f7-e5a7-199395adc6cc"
      },
      "source": [
        "device"
      ],
      "execution_count": 6,
      "outputs": [
        {
          "output_type": "execute_result",
          "data": {
            "application/vnd.google.colaboratory.intrinsic+json": {
              "type": "string"
            },
            "text/plain": [
              "'cuda:0'"
            ]
          },
          "metadata": {
            "tags": []
          },
          "execution_count": 6
        }
      ]
    },
    {
      "cell_type": "code",
      "metadata": {
        "id": "c7kFzMcA8WSs"
      },
      "source": [
        "# Hyperparameter\n",
        "batch_size = 64\n",
        "learning_rate = 1e-3\n",
        "epochs = 100"
      ],
      "execution_count": 41,
      "outputs": []
    },
    {
      "cell_type": "code",
      "metadata": {
        "id": "n3AieIMC5F-I"
      },
      "source": [
        "train_loader = torch.utils.data.DataLoader(train_data, batch_size=batch_size, shuffle=True)\n",
        "#test_loader = torch.utils.data.DataLoader(test_data, batch_size=batch_size, shuffle=True)"
      ],
      "execution_count": 42,
      "outputs": []
    },
    {
      "cell_type": "markdown",
      "metadata": {
        "id": "sb1uu5ppA4Qs"
      },
      "source": [
        "# Fully Connected Network"
      ]
    },
    {
      "cell_type": "code",
      "metadata": {
        "id": "VcnF8HH15u6X"
      },
      "source": [
        "# Fully Connected Network\n",
        "# input shape : (channel, height, width) of input image\n",
        "# output shape : # class dimension vector\n",
        "# You can adjust # of hidden layers and units per layer\n",
        "class FC(torch.nn.Module):\n",
        "  def __init__(self, num_in):\n",
        "    super(FC, self).__init__()\n",
        "    self.flatten = torch.nn.Flatten()\n",
        "    self.fc1 = torch.nn.Linear(num_in, 512)\n",
        "    self.fc2 = torch.nn.Linear(512,256)\n",
        "    self.fc3 = torch.nn.Linear(256,128)\n",
        "    self.output = torch.nn.Linear(128,10)\n",
        "\n",
        "  def forward(self, x):\n",
        "    x = self.flatten(x)\n",
        "    \n",
        "    x = torch.nn.functional.relu(self.fc1(x))\n",
        "    x = torch.nn.functional.relu(self.fc2(x))\n",
        "    x = torch.nn.functional.relu(self.fc3(x))\n",
        "\n",
        "    x = self.output(x)\n",
        "    return x"
      ],
      "execution_count": 43,
      "outputs": []
    },
    {
      "cell_type": "code",
      "metadata": {
        "id": "HGYWwnjM6fM3",
        "colab": {
          "base_uri": "https://localhost:8080/"
        },
        "outputId": "82559ed3-b82c-4998-81fd-523aaa1315e5"
      },
      "source": [
        "# Train\n",
        "# Define loss function, optimizer\n",
        "# print loss periodically\n",
        "# ex) [1, 500] loss: 0.5765465737434\n",
        "FCN = FC(28*28*1)\n",
        "FCN = FCN.to(device)\n",
        "#LeNet = LeNet5(32*32*1)\n",
        "optimizer = torch.optim.Adam(FCN.parameters(), lr=learning_rate)\n",
        "loss_function = torch.nn.CrossEntropyLoss()\n",
        "loss_list = []\n",
        "for epoch in range(epochs):\n",
        "  temporal_loss = 0.0\n",
        "  num_minibatches = 0\n",
        "  for idx, feature in enumerate(train_loader):\n",
        "    x, y = feature\n",
        "    x = x.to(device)\n",
        "    y = y.to(device)\n",
        "    optimizer.zero_grad()\n",
        "\n",
        "    y_pred = FCN(x)\n",
        "\n",
        "    loss = loss_function(y_pred, y)\n",
        "\n",
        "    loss.backward()\n",
        "\n",
        "    temporal_loss += loss.item()\n",
        "    num_minibatches += 1\n",
        "\n",
        "    optimizer.step()\n",
        "  loss_list.append(temporal_loss / num_minibatches)\n",
        "  print(\"[%d, %d] loss: %.4f\" %(epoch+1, epochs, temporal_loss / num_minibatches))"
      ],
      "execution_count": 44,
      "outputs": [
        {
          "output_type": "stream",
          "text": [
            "[1, 100] loss: 0.5185\n",
            "[2, 100] loss: 0.3650\n",
            "[3, 100] loss: 0.3277\n",
            "[4, 100] loss: 0.3035\n",
            "[5, 100] loss: 0.2843\n",
            "[6, 100] loss: 0.2683\n",
            "[7, 100] loss: 0.2545\n",
            "[8, 100] loss: 0.2452\n",
            "[9, 100] loss: 0.2302\n",
            "[10, 100] loss: 0.2226\n",
            "[11, 100] loss: 0.2155\n",
            "[12, 100] loss: 0.2059\n",
            "[13, 100] loss: 0.1966\n",
            "[14, 100] loss: 0.1908\n",
            "[15, 100] loss: 0.1796\n",
            "[16, 100] loss: 0.1787\n",
            "[17, 100] loss: 0.1710\n",
            "[18, 100] loss: 0.1654\n",
            "[19, 100] loss: 0.1590\n",
            "[20, 100] loss: 0.1542\n",
            "[21, 100] loss: 0.1482\n",
            "[22, 100] loss: 0.1463\n",
            "[23, 100] loss: 0.1389\n",
            "[24, 100] loss: 0.1356\n",
            "[25, 100] loss: 0.1361\n",
            "[26, 100] loss: 0.1273\n",
            "[27, 100] loss: 0.1244\n",
            "[28, 100] loss: 0.1228\n",
            "[29, 100] loss: 0.1163\n",
            "[30, 100] loss: 0.1118\n",
            "[31, 100] loss: 0.1091\n",
            "[32, 100] loss: 0.1123\n",
            "[33, 100] loss: 0.1036\n",
            "[34, 100] loss: 0.1001\n",
            "[35, 100] loss: 0.1048\n",
            "[36, 100] loss: 0.0980\n",
            "[37, 100] loss: 0.0985\n",
            "[38, 100] loss: 0.0906\n",
            "[39, 100] loss: 0.0907\n",
            "[40, 100] loss: 0.0886\n",
            "[41, 100] loss: 0.0833\n",
            "[42, 100] loss: 0.0907\n",
            "[43, 100] loss: 0.0803\n",
            "[44, 100] loss: 0.0812\n",
            "[45, 100] loss: 0.0805\n",
            "[46, 100] loss: 0.0749\n",
            "[47, 100] loss: 0.0779\n",
            "[48, 100] loss: 0.0761\n",
            "[49, 100] loss: 0.0716\n",
            "[50, 100] loss: 0.0706\n",
            "[51, 100] loss: 0.0686\n",
            "[52, 100] loss: 0.0679\n",
            "[53, 100] loss: 0.0675\n",
            "[54, 100] loss: 0.0649\n",
            "[55, 100] loss: 0.0624\n",
            "[56, 100] loss: 0.0674\n",
            "[57, 100] loss: 0.0641\n",
            "[58, 100] loss: 0.0642\n",
            "[59, 100] loss: 0.0597\n",
            "[60, 100] loss: 0.0588\n",
            "[61, 100] loss: 0.0600\n",
            "[62, 100] loss: 0.0615\n",
            "[63, 100] loss: 0.0552\n",
            "[64, 100] loss: 0.0550\n",
            "[65, 100] loss: 0.0567\n",
            "[66, 100] loss: 0.0537\n",
            "[67, 100] loss: 0.0609\n",
            "[68, 100] loss: 0.0529\n",
            "[69, 100] loss: 0.0486\n",
            "[70, 100] loss: 0.0512\n",
            "[71, 100] loss: 0.0530\n",
            "[72, 100] loss: 0.0474\n",
            "[73, 100] loss: 0.0478\n",
            "[74, 100] loss: 0.0490\n",
            "[75, 100] loss: 0.0512\n",
            "[76, 100] loss: 0.0416\n",
            "[77, 100] loss: 0.0420\n",
            "[78, 100] loss: 0.0504\n",
            "[79, 100] loss: 0.0504\n",
            "[80, 100] loss: 0.0428\n",
            "[81, 100] loss: 0.0396\n",
            "[82, 100] loss: 0.0469\n",
            "[83, 100] loss: 0.0392\n",
            "[84, 100] loss: 0.0473\n",
            "[85, 100] loss: 0.0408\n",
            "[86, 100] loss: 0.0315\n",
            "[87, 100] loss: 0.0469\n",
            "[88, 100] loss: 0.0424\n",
            "[89, 100] loss: 0.0398\n",
            "[90, 100] loss: 0.0421\n",
            "[91, 100] loss: 0.0370\n",
            "[92, 100] loss: 0.0366\n",
            "[93, 100] loss: 0.0428\n",
            "[94, 100] loss: 0.0393\n",
            "[95, 100] loss: 0.0304\n",
            "[96, 100] loss: 0.0380\n",
            "[97, 100] loss: 0.0334\n",
            "[98, 100] loss: 0.0404\n",
            "[99, 100] loss: 0.0390\n",
            "[100, 100] loss: 0.0327\n"
          ],
          "name": "stdout"
        }
      ]
    },
    {
      "cell_type": "code",
      "metadata": {
        "colab": {
          "base_uri": "https://localhost:8080/"
        },
        "id": "BHtzVTJ2A3H8",
        "outputId": "85f84b20-b13e-413a-fdb8-10dc45dbe583"
      },
      "source": [
        "# Test\n",
        "# print accuracy of the test dataset\n",
        "# ex) Accuracy of the network on the 10000 test images: 83 %\n",
        "with torch.no_grad():  \n",
        "  correct = 0\n",
        "  for x, y in test_data:    \n",
        "    x = x.to(device)    \n",
        "    \n",
        "    y_pred = FCN(x)\n",
        "\n",
        "    _, predicted = torch.max(y_pred.data, 1)    \n",
        "    correct += (predicted == y)\n",
        "  accuracy = correct / len(test_data)\n",
        "  print(\"Accuracy of the network on the %d test images: %d %%\" %(len(test_data), accuracy * 100))"
      ],
      "execution_count": 45,
      "outputs": [
        {
          "output_type": "stream",
          "text": [
            "Accuracy of the network on the 10000 test images: 89 %\n"
          ],
          "name": "stdout"
        }
      ]
    },
    {
      "cell_type": "code",
      "metadata": {
        "colab": {
          "base_uri": "https://localhost:8080/",
          "height": 283
        },
        "id": "WsgsY0GYGHH3",
        "outputId": "06f98d5e-5586-4fe5-9f65-90ded39c94b9"
      },
      "source": [
        "step = np.linspace(0, epochs, epochs)\n",
        "plt.plot(step, np.array(loss_list))"
      ],
      "execution_count": 46,
      "outputs": [
        {
          "output_type": "execute_result",
          "data": {
            "text/plain": [
              "[<matplotlib.lines.Line2D at 0x7fc6b0d7b810>]"
            ]
          },
          "metadata": {
            "tags": []
          },
          "execution_count": 46
        },
        {
          "output_type": "display_data",
          "data": {
            "image/png": "[encoded data removed]",
            "text/plain": [
              "<Figure size 432x288 with 1 Axes>"
            ]
          },
          "metadata": {
            "tags": [],
            "needs_background": "light"
          }
        }
      ]
    },
    {
      "cell_type": "markdown",
      "metadata": {
        "id": "O91Ton6NA8ps"
      },
      "source": [
        "# LeNet-5"
      ]
    },
    {
      "cell_type": "code",
      "metadata": {
        "id": "cXQgMIuE52Mf"
      },
      "source": [
        "# LeNet-5\n",
        "# input shape : (32, 32, 1) --> need to use padding\n",
        "# You don't have to do feature map selection at Layer3\n",
        "class LeNet5(torch.nn.Module):\n",
        "  def __init__(self):\n",
        "    super(LeNet5, self).__init__()\n",
        "    self.flatten = torch.nn.Flatten()\n",
        "\n",
        "    self.c1 = torch.nn.Conv2d(1, 6, 5, padding=2)\n",
        "    self.s2 = torch.nn.MaxPool2d(2)\n",
        "    self.c3 = torch.nn.Conv2d(6, 16, 5)\n",
        "    self.s4 = torch.nn.MaxPool2d(2)\n",
        "    self.c5 = torch.nn.Conv2d(16, 120, 5)\n",
        "    self.f6 = torch.nn.Linear(120, 84)\n",
        "\n",
        "    self.output = torch.nn.Linear(84,10)\n",
        "\n",
        "  def forward(self, x):    \n",
        "    x = torch.nn.functional.relu(self.c1(x))    \n",
        "    x = torch.nn.functional.relu(self.s2(x))    \n",
        "    x = torch.nn.functional.relu(self.c3(x))    \n",
        "    x = torch.nn.functional.relu(self.s4(x))    \n",
        "    x = torch.nn.functional.relu(self.c5(x))    \n",
        "    x = self.flatten(x)    \n",
        "    x = torch.nn.functional.relu(self.f6(x))    \n",
        "\n",
        "    x = self.output(x)    \n",
        "    return x"
      ],
      "execution_count": 47,
      "outputs": []
    },
    {
      "cell_type": "code",
      "metadata": {
        "id": "EHfe4izGbTIV"
      },
      "source": [
        "# Task 2 Parameters\n",
        "# 1. Optimizier parameter --> adjust parameter related with optimizer and compare the result\n",
        "# 2. Loss function --> use different loss function and compare the result\n",
        "# 3. Batch size --> use different batch size and compare the result\n",
        "# 4. Be creative and analytical --> change other hyperparameter or model elements\n",
        "LeNet = LeNet5()\n",
        "LeNet = LeNet.to(device)\n",
        "\n",
        "# optimizer parameters: learning rate(default: 1e-3), betas(default: (0.9, 0.999)), weight decay(default: 0)\n",
        "learning_rate = 1e-3 # 1e-3 vs 1e-4\n",
        "bt = (0.9, 0.999) # (0.9, 0.999) vs (0.8, 0.900)\n",
        "wd = 0 # 0 vs 1e-3\n",
        "optimizer = torch.optim.Adam(LeNet.parameters(), lr=learning_rate, betas=bt, weight_decay=wd)\n",
        "\n",
        "# loss_function: nn.CrossEntropyLoss(), nn.NLLLoss(), nn.KLDivLoss()\n",
        "loss_function = torch.nn.CrossEntropyLoss()\n",
        "\n",
        "# batch_size: 64, 128, 256\n",
        "batch_size = 64\n",
        "train_loader = torch.utils.data.DataLoader(train_data, batch_size=batch_size, shuffle=True)\n",
        "\n",
        "# Initialization: xavier_uniform_, xavier_normal_\n",
        "def initialization(m):\n",
        "  if type(m) == torch.nn.Linear:\n",
        "    torch.nn.init.xavier_normal_(m.weight)\n",
        "#LeNet.apply(initialization)\n",
        "# Activation: ReLU, GELU, LeakyReLU"
      ],
      "execution_count": 49,
      "outputs": []
    },
    {
      "cell_type": "code",
      "metadata": {
        "colab": {
          "base_uri": "https://localhost:8080/"
        },
        "id": "5itJTzAD-Lpq",
        "outputId": "6337d290-91ee-4484-df85-8ae94e458508"
      },
      "source": [
        "# Train\n",
        "# Define loss function, optimizer\n",
        "# print loss periodically\n",
        "# ex) [1, 500] loss: 0.5765465737434\n",
        "loss_list_L = []\n",
        "for epoch in range(epochs):\n",
        "  temporal_loss = 0.0\n",
        "  num_minibatches = 0\n",
        "  for idx, feature in enumerate(train_loader):\n",
        "    x, y = feature\n",
        "    x = x.to(device)\n",
        "    y = y.to(device)\n",
        "    optimizer.zero_grad()\n",
        "\n",
        "    y_pred = LeNet(x)\n",
        "\n",
        "    loss = loss_function(y_pred, y)\n",
        "\n",
        "    #y_pred = torch.nn.functional.softmax(y_pred, dim=-1)\n",
        "    #new_y = []\n",
        "    #for label in y:\n",
        "    #  temp = [0,] * 10\n",
        "    #  temp[label] = 1\n",
        "    #  new_y.append(temp)\n",
        "    #loss = loss_function(y_pred, torch.Tensor(new_y).to(device))\n",
        "\n",
        "    loss.backward()\n",
        "\n",
        "    temporal_loss += loss.item()\n",
        "    num_minibatches += 1\n",
        "\n",
        "    optimizer.step()\n",
        "  loss_list_L.append(temporal_loss / num_minibatches)\n",
        "  print(\"[%d, %d] loss: %.4f\" %(epoch+1, epochs, temporal_loss / num_minibatches))"
      ],
      "execution_count": 50,
      "outputs": [
        {
          "output_type": "stream",
          "text": [
            "[1, 100] loss: 0.6757\n",
            "[2, 100] loss: 0.4253\n",
            "[3, 100] loss: 0.3611\n",
            "[4, 100] loss: 0.3262\n",
            "[5, 100] loss: 0.2984\n",
            "[6, 100] loss: 0.2772\n",
            "[7, 100] loss: 0.2610\n",
            "[8, 100] loss: 0.2472\n",
            "[9, 100] loss: 0.2341\n",
            "[10, 100] loss: 0.2222\n",
            "[11, 100] loss: 0.2123\n",
            "[12, 100] loss: 0.2012\n",
            "[13, 100] loss: 0.1911\n",
            "[14, 100] loss: 0.1846\n",
            "[15, 100] loss: 0.1753\n",
            "[16, 100] loss: 0.1683\n",
            "[17, 100] loss: 0.1624\n",
            "[18, 100] loss: 0.1520\n",
            "[19, 100] loss: 0.1451\n",
            "[20, 100] loss: 0.1383\n",
            "[21, 100] loss: 0.1331\n",
            "[22, 100] loss: 0.1261\n",
            "[23, 100] loss: 0.1194\n",
            "[24, 100] loss: 0.1169\n",
            "[25, 100] loss: 0.1109\n",
            "[26, 100] loss: 0.1060\n",
            "[27, 100] loss: 0.0995\n",
            "[28, 100] loss: 0.0959\n",
            "[29, 100] loss: 0.0908\n",
            "[30, 100] loss: 0.0873\n",
            "[31, 100] loss: 0.0839\n",
            "[32, 100] loss: 0.0800\n",
            "[33, 100] loss: 0.0742\n",
            "[34, 100] loss: 0.0749\n",
            "[35, 100] loss: 0.0694\n",
            "[36, 100] loss: 0.0692\n",
            "[37, 100] loss: 0.0623\n",
            "[38, 100] loss: 0.0645\n",
            "[39, 100] loss: 0.0578\n",
            "[40, 100] loss: 0.0639\n",
            "[41, 100] loss: 0.0616\n",
            "[42, 100] loss: 0.0527\n",
            "[43, 100] loss: 0.0506\n",
            "[44, 100] loss: 0.0527\n",
            "[45, 100] loss: 0.0504\n",
            "[46, 100] loss: 0.0444\n",
            "[47, 100] loss: 0.0468\n",
            "[48, 100] loss: 0.0514\n",
            "[49, 100] loss: 0.0399\n",
            "[50, 100] loss: 0.0443\n",
            "[51, 100] loss: 0.0418\n",
            "[52, 100] loss: 0.0397\n",
            "[53, 100] loss: 0.0441\n",
            "[54, 100] loss: 0.0386\n",
            "[55, 100] loss: 0.0343\n",
            "[56, 100] loss: 0.0423\n",
            "[57, 100] loss: 0.0351\n",
            "[58, 100] loss: 0.0396\n",
            "[59, 100] loss: 0.0357\n",
            "[60, 100] loss: 0.0313\n",
            "[61, 100] loss: 0.0366\n",
            "[62, 100] loss: 0.0350\n",
            "[63, 100] loss: 0.0342\n",
            "[64, 100] loss: 0.0303\n",
            "[65, 100] loss: 0.0379\n",
            "[66, 100] loss: 0.0287\n",
            "[67, 100] loss: 0.0340\n",
            "[68, 100] loss: 0.0353\n",
            "[69, 100] loss: 0.0304\n",
            "[70, 100] loss: 0.0246\n",
            "[71, 100] loss: 0.0323\n",
            "[72, 100] loss: 0.0313\n",
            "[73, 100] loss: 0.0353\n",
            "[74, 100] loss: 0.0258\n",
            "[75, 100] loss: 0.0285\n",
            "[76, 100] loss: 0.0280\n",
            "[77, 100] loss: 0.0306\n",
            "[78, 100] loss: 0.0276\n",
            "[79, 100] loss: 0.0273\n",
            "[80, 100] loss: 0.0313\n",
            "[81, 100] loss: 0.0210\n",
            "[82, 100] loss: 0.0293\n",
            "[83, 100] loss: 0.0310\n",
            "[84, 100] loss: 0.0225\n",
            "[85, 100] loss: 0.0315\n",
            "[86, 100] loss: 0.0227\n",
            "[87, 100] loss: 0.0259\n",
            "[88, 100] loss: 0.0303\n",
            "[89, 100] loss: 0.0257\n",
            "[90, 100] loss: 0.0229\n",
            "[91, 100] loss: 0.0254\n",
            "[92, 100] loss: 0.0251\n",
            "[93, 100] loss: 0.0280\n",
            "[94, 100] loss: 0.0243\n",
            "[95, 100] loss: 0.0258\n",
            "[96, 100] loss: 0.0241\n",
            "[97, 100] loss: 0.0245\n",
            "[98, 100] loss: 0.0200\n",
            "[99, 100] loss: 0.0319\n",
            "[100, 100] loss: 0.0202\n"
          ],
          "name": "stdout"
        }
      ]
    },
    {
      "cell_type": "code",
      "metadata": {
        "colab": {
          "base_uri": "https://localhost:8080/"
        },
        "id": "Wew_F8RZIxsi",
        "outputId": "c5a2a4fe-1aad-4a44-9554-8e16a08e4db9"
      },
      "source": [
        "# Test\n",
        "# print accuracy of the test dataset\n",
        "# ex) Accuracy of the network on the 10000 test images: 83 %\n",
        "with torch.no_grad():  \n",
        "  correct = 0\n",
        "  for x, y in test_data:    \n",
        "    x = x.to(device)    \n",
        "    \n",
        "    y_pred = LeNet(torch.unsqueeze(x,0))\n",
        "\n",
        "    _, predicted = torch.max(y_pred.data, 1)    \n",
        "    correct += (predicted == y)\n",
        "  accuracy = correct / len(test_data)\n",
        "  print(\"Accuracy of the network on the %d test images: %d %%\" %(len(test_data), accuracy * 100))"
      ],
      "execution_count": 51,
      "outputs": [
        {
          "output_type": "stream",
          "text": [
            "Accuracy of the network on the 10000 test images: 89 %\n"
          ],
          "name": "stdout"
        }
      ]
    },
    {
      "cell_type": "code",
      "metadata": {
        "colab": {
          "base_uri": "https://localhost:8080/",
          "height": 285
        },
        "id": "u4xLNKLeIzDu",
        "outputId": "4e0ee51b-4ecc-4ace-8532-aa559bbe8c6e"
      },
      "source": [
        "step = np.linspace(0, epochs, epochs)\n",
        "plt.plot(step, np.array(loss_list_L))"
      ],
      "execution_count": 52,
      "outputs": [
        {
          "output_type": "execute_result",
          "data": {
            "text/plain": [
              "[<matplotlib.lines.Line2D at 0x7fc6b0cfc390>]"
            ]
          },
          "metadata": {
            "tags": []
          },
          "execution_count": 52
        },
        {
          "output_type": "display_data",
          "data": {
            "image/png": "[encoded data removed]",
            "text/plain": [
              "<Figure size 432x288 with 1 Axes>"
            ]
          },
          "metadata": {
            "tags": [],
            "needs_background": "light"
          }
        }
      ]
    }
  ]
}