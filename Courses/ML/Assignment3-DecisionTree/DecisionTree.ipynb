{
  "nbformat": 4,
  "nbformat_minor": 0,
  "metadata": {
    "colab": {
      "name": "HW3_2016147538.ipynb",
      "provenance": [],
      "collapsed_sections": []
    },
    "kernelspec": {
      "name": "python3",
      "display_name": "Python 3"
    },
    "language_info": {
      "name": "python"
    }
  },
  "cells": [
    {
      "cell_type": "code",
      "metadata": {
        "id": "Vl7AUnHFZ9-y"
      },
      "source": [
        "class Node:\n",
        "  def __init__(self, column, value, data):\n",
        "    self.column = column\n",
        "    self.value = value\n",
        "    self.data = data\n",
        "    self.left = None\n",
        "    self.right = None\n",
        "    self.height = None"
      ],
      "execution_count": 36,
      "outputs": []
    },
    {
      "cell_type": "code",
      "metadata": {
        "id": "2eI8xfa2GHhq"
      },
      "source": [
        "def gini_value(data):\n",
        "  # calculate gini impurity at single set\n",
        "  labels = []\n",
        "  for item in data:\n",
        "    labels.append(item[len(item)-1])\n",
        "  \n",
        "  label_set = set(labels)\n",
        "  label_list = list(label_set)\n",
        "  count = [0,] * len(label_list)\n",
        "\n",
        "  for item in labels:\n",
        "    for iter in range(len(label_list)):\n",
        "      if item == label_list[iter]:\n",
        "        count[iter] += 1\n",
        "        break\n",
        "\n",
        "  gini_val = 1\n",
        "  for i in range(len(label_list)): # 1 - (p1^2 + p2^2 + ...)\n",
        "    gini_val -= (count[i] / len(labels)) ** 2\n",
        "  return gini_val"
      ],
      "execution_count": 37,
      "outputs": []
    },
    {
      "cell_type": "code",
      "metadata": {
        "id": "4XX4d0-jCpH7"
      },
      "source": [
        "def gini_weight(data, col, val):\n",
        "  # calculate the difference of child size\n",
        "  group1 = [] #  < threshold\n",
        "  group2 = [] #  >= threshold\n",
        "  for i in range(len(data)):\n",
        "    if (data[i][col] < val):\n",
        "      group1.append(data[i])\n",
        "    else:\n",
        "      group2.append(data[i])\n",
        "  return abs(len(group1) - len(group2))"
      ],
      "execution_count": 38,
      "outputs": []
    },
    {
      "cell_type": "code",
      "metadata": {
        "id": "gFGYhy-R57q3"
      },
      "source": [
        "def major(data):\n",
        "  # return major label\n",
        "  labels = []\n",
        "  for item in data:\n",
        "    labels.append(item[len(item)-1])\n",
        "\n",
        "  label_set = set(labels)\n",
        "  label_list = list(label_set)\n",
        "  count = [0,] * len(label_list) # number of label appearance\n",
        "\n",
        "  for item in labels:\n",
        "    for iter in range(len(label_list)):\n",
        "      if item == label_list[iter]:\n",
        "        count[iter] += 1\n",
        "        break\n",
        "\n",
        "  major_index = 0\n",
        "  for i in range(len(count)):\n",
        "    if count[i] > count[major_index]:\n",
        "      major_index = i\n",
        "  return label_list[major_index]"
      ],
      "execution_count": 39,
      "outputs": []
    },
    {
      "cell_type": "code",
      "metadata": {
        "id": "ObrhGoDXAc2B"
      },
      "source": [
        "def is_leaf(data):\n",
        "  # check node has all same data\n",
        "  labels = []\n",
        "  for item in data:\n",
        "    labels.append(item[len(item)-1])\n",
        "\n",
        "  label_set = set(labels)\n",
        "  \n",
        "  if len(label_set) == 1:\n",
        "    return True\n",
        "  else:\n",
        "    return False"
      ],
      "execution_count": 40,
      "outputs": []
    },
    {
      "cell_type": "code",
      "metadata": {
        "id": "1cVOlvrfe-iO"
      },
      "source": [
        "def print_tree(node):\n",
        "  feature = \"\"\n",
        "  if node.column == None: # leaf node\n",
        "    print((node.height) * \" \", end='')\n",
        "    print(\"[\" + str(major(node.data)) + \"]\")\n",
        "    return\n",
        "  else:\n",
        "    feature = \"X\" + str(node.column + 1)    \n",
        "  print((node.height) * \" \", end='')\n",
        "  print(\"[\" + feature + \", \" + str(node.value) + \"]\")\n",
        "  if node.left != None:\n",
        "    print_tree(node.left)\n",
        "  if node.right != None:\n",
        "    print_tree(node.right)"
      ],
      "execution_count": 42,
      "outputs": []
    },
    {
      "cell_type": "code",
      "metadata": {
        "colab": {
          "base_uri": "https://localhost:8080/"
        },
        "id": "WrztCN_HFpuD",
        "outputId": "7fbb32cf-e55f-4d3a-cb43-33e330ff2c5d"
      },
      "source": [
        "# First two column is feature, last column is class label --> f1, f2, label\n",
        "# Dataset 20 x 3\n",
        "dataset = [[2.2343124,1.123123,0],\n",
        "\t[1.43523,1.54245,0],\n",
        "\t[3.53467889,2.234987,0],\n",
        "\t[3.1249876,2.09237512893,0],\n",
        "\t[2.1238756,9.3253154,1],\n",
        "\t[7.0981274,3.89074,1],\n",
        "\t[1.129875,3.0987234,0],\n",
        "\t[7.0897345,0.089745,1],\n",
        "\t[6.0987214,3.0978214,1],\n",
        "\t[6.1325,3.98763,1],\n",
        "  [1.35765,2.43663,0],\n",
        "\t[2.345,3.3456,0],\n",
        "\t[0.2345,1.4356,0],\n",
        "\t[2.4356,5.67534,0],\n",
        "\t[5.234,5.23465,1],\n",
        "\t[4.12346,2.975,1],\n",
        "\t[2.5467,4.72345,0],\n",
        "\t[8.4612,1.6269,1],\n",
        "\t[5.215690,2.5362,1],\n",
        "\t[4.762,1.76567,1]]\n",
        "\n",
        "# Maximum depth of tree\n",
        "# Minimum number of samples to split\n",
        "max_depth = 1\n",
        "min_samples_split = 2\n",
        "#global max_depth\n",
        "#global min_samples_split\n",
        "\n",
        "# Calculate the Gini impurity (a.k.a Gini index).\n",
        "def gini_impurity(data, col, val):\n",
        "  # input : dataset, column, value(threshold)\n",
        "  # output : gini impurity value\n",
        "  group1 = [] #  < threshold\n",
        "  group2 = [] #  >= threshold\n",
        "  for i in range(len(data)):\n",
        "    if (data[i][col] < val):\n",
        "      group1.append(data[i])\n",
        "    else:\n",
        "      group2.append(data[i])  \n",
        "\n",
        "  if len(group1) == 0:\n",
        "    gini1 = 0\n",
        "  else:\n",
        "    gini1 = gini_value(group1) # gini index of group1\n",
        "  if len(group2) == 0:\n",
        "    gini2 = 0\n",
        "  else:\n",
        "    gini2 = gini_value(group2) # gini index of group2\n",
        "\n",
        "  return gini1 * len(group1)/len(data) + gini2 * len(group2)/len(data)\n",
        "\n",
        "# This function will be recursively called.\n",
        "# You can define your own helper functions to program this function.\n",
        "# This function will be the most complicated function in this homework.\n",
        "def recursive_split(node, depth):\n",
        "  node.height = depth\n",
        "  if (depth >= max_depth): # if tree is enough tall\n",
        "    return\n",
        "  if (len(node.data) < min_samples_split): # not enough data\n",
        "    return\n",
        "  if is_leaf(node.data) == True: # leaf node\n",
        "    return\n",
        "\n",
        "  minimum_point = [None, None, 1] # col, value, gini impurity\n",
        "  for i in range(len(node.data)):\n",
        "    for j in range(len(node.data[0]) - 1):\n",
        "      c = gini_impurity(node.data, j, node.data[i][j]) \n",
        "      if c < minimum_point[2]:\n",
        "        minimum_point = [j, node.data[i][j], c]\n",
        "      elif c == minimum_point[2]:\n",
        "        if gini_weight(node.data, minimum_point[0], minimum_point[1]) > gini_weight(node.data, j, node.data[i][j]):\n",
        "          minimum_point = [j, node.data[i][j], c]\n",
        "\n",
        "  # early stop\n",
        "  if minimum_point[2] > gini_value(node.data):\n",
        "    return    \n",
        "  # update parent node and make child node  \n",
        "  ldata = []\n",
        "  rdata = []\n",
        "  for item in node.data:\n",
        "    if (item[minimum_point[0]] < minimum_point[1]):\n",
        "      ldata.append(item)\n",
        "    else:\n",
        "      rdata.append(item)    \n",
        "  if (len(ldata) == 0 or len(rdata) == 0): # Base Case\n",
        "    return  \n",
        "  node.column = minimum_point[0]\n",
        "  node.value = minimum_point[1]\n",
        "  Left = Node(None, None, ldata)\n",
        "  Right = Node(None, None, rdata)\n",
        "  node.left = Left\n",
        "  node.right = Right\n",
        "  recursive_split(node.left, depth+1)\n",
        "  recursive_split(node.right, depth+1)\n",
        "\n",
        "# This function won't be long. Prepare recursive splits and initiate them.\n",
        "def my_tree(data, Max_depth, Min_samples_split):\n",
        "  Root = Node(None, None, data)\n",
        "  recursive_split(Root, 0)\n",
        "  return Root    \n",
        "\n",
        "tree = my_tree(dataset, max_depth, min_samples_split)\n",
        "print_tree(tree)"
      ],
      "execution_count": 56,
      "outputs": [
        {
          "output_type": "stream",
          "text": [
            "[X1, 4.12346]\n",
            " [0]\n",
            " [1]\n"
          ],
          "name": "stdout"
        }
      ]
    },
    {
      "cell_type": "code",
      "metadata": {
        "id": "RgPTr7PTVYJY"
      },
      "source": [
        "dataset = [[2.2343124,1.123123,0],\n",
        "\t[1.43523,1.54245,0],\n",
        "\t[3.53467889,2.234987,0],\n",
        "\t[3.1249876,2.09237512893,0],\n",
        "\t[2.1238756,9.3253154,1],\n",
        "\t[7.0981274,3.89074,1],\n",
        "\t[1.129875,3.0987234,0],\n",
        "\t[7.0897345,0.089745,1],\n",
        "\t[6.0987214,3.0978214,1],\n",
        "\t[6.1325,3.98763,1],\n",
        "  [1.35765,2.43663,0],\n",
        "\t[2.345,3.3456,0],\n",
        "\t[0.2345,1.4356,0],\n",
        "\t[2.4356,5.67534,0],\n",
        "\t[5.234,5.23465,1],\n",
        "\t[4.12346,2.975,1],\n",
        "\t[2.5467,4.72345,0],\n",
        "\t[8.4612,1.6269,1],\n",
        "\t[5.215690,2.5362,1],\n",
        "\t[4.762,1.76567,1]]"
      ],
      "execution_count": null,
      "outputs": []
    },
    {
      "cell_type": "code",
      "metadata": {
        "colab": {
          "base_uri": "https://localhost:8080/",
          "height": 283
        },
        "id": "BKLcEgZMK13k",
        "outputId": "d5082526-9530-46fe-af3c-5d98bda8d638"
      },
      "source": [
        "import matplotlib.pyplot as plt\n",
        "import numpy as np\n",
        "d = np.array(dataset)\n",
        "red = d[d[:, 2] == 1]\n",
        "blue = d[d[:, 2] == 0]\n",
        "plt.scatter(red[:,0], red[:,1], color = 'red')\n",
        "plt.scatter(blue[:,0], blue[:,1], color = 'blue')"
      ],
      "execution_count": null,
      "outputs": [
        {
          "output_type": "execute_result",
          "data": {
            "text/plain": [
              "<matplotlib.collections.PathCollection at 0x7f574e529a50>"
            ]
          },
          "metadata": {
            "tags": []
          },
          "execution_count": 44
        },
        {
          "output_type": "display_data",
          "data": {
            "image/png": "[encoded data removed]",
            "text/plain": [
              "<Figure size 432x288 with 1 Axes>"
            ]
          },
          "metadata": {
            "tags": [],
            "needs_background": "light"
          }
        }
      ]
    }
  ]
}