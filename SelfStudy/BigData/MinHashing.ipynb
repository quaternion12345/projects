{
  "nbformat": 4,
  "nbformat_minor": 0,
  "metadata": {
    "colab": {
      "name": "Untitled2.ipynb",
      "provenance": [],
      "collapsed_sections": []
    },
    "kernelspec": {
      "name": "python3",
      "display_name": "Python 3"
    },
    "language_info": {
      "name": "python"
    },
    "accelerator": "GPU"
  },
  "cells": [
    {
      "cell_type": "markdown",
      "metadata": {
        "id": "RAyqUjQoYo1t"
      },
      "source": [
        "0. Import packages"
      ]
    },
    {
      "cell_type": "code",
      "metadata": {
        "id": "xWdpN93kRfN5"
      },
      "source": [
        "import pandas as pd\n",
        "import numpy as np\n",
        "import random\n",
        "#import binascii"
      ],
      "execution_count": 4,
      "outputs": []
    },
    {
      "cell_type": "markdown",
      "metadata": {
        "id": "U5bu4uiNYC1w"
      },
      "source": [
        "1. Upload Dataset"
      ]
    },
    {
      "cell_type": "code",
      "metadata": {
        "colab": {
          "resources": {
            "http://localhost:8080/nbextensions/google.colab/files.js": {
              "data": "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",
              "ok": true,
              "headers": [
                [
                  "content-type",
                  "application/javascript"
                ]
              ],
              "status": 200,
              "status_text": ""
            }
          },
          "base_uri": "https://localhost:8080/",
          "height": 76
        },
        "id": "qMx8Ji0lDE3j",
        "outputId": "0ec59811-84aa-44ba-a02f-886d7927bb55"
      },
      "source": [
        "from google.colab import files \n",
        "uploaded = files.upload() "
      ],
      "execution_count": 5,
      "outputs": [
        {
          "output_type": "display_data",
          "data": {
            "text/html": [
              "\n",
              "     <input type=\"file\" id=\"files-0f431e8e-9a51-4e46-bb8a-209f3e5802e5\" name=\"files[]\" multiple disabled\n",
              "        style=\"border:none\" />\n",
              "     <output id=\"result-0f431e8e-9a51-4e46-bb8a-209f3e5802e5\">\n",
              "      Upload widget is only available when the cell has been executed in the\n",
              "      current browser session. Please rerun this cell to enable.\n",
              "      </output>\n",
              "      <script src=\"/nbextensions/google.colab/files.js\"></script> "
            ],
            "text/plain": [
              "<IPython.core.display.HTML object>"
            ]
          },
          "metadata": {
            "tags": []
          }
        },
        {
          "output_type": "stream",
          "text": [
            "Saving train.csv.zip to train.csv.zip\n"
          ],
          "name": "stdout"
        }
      ]
    },
    {
      "cell_type": "code",
      "metadata": {
        "id": "jSfsKmq2RRi1",
        "colab": {
          "base_uri": "https://localhost:8080/"
        },
        "outputId": "f1532240-a455-46fc-a99e-8edf4fc2f48c"
      },
      "source": [
        "%%shell\n",
        "unzip train.csv.zip"
      ],
      "execution_count": 6,
      "outputs": [
        {
          "output_type": "stream",
          "text": [
            "Archive:  train.csv.zip\n",
            "  inflating: train.csv               \n"
          ],
          "name": "stdout"
        },
        {
          "output_type": "execute_result",
          "data": {
            "text/plain": [
              ""
            ]
          },
          "metadata": {
            "tags": []
          },
          "execution_count": 6
        }
      ]
    },
    {
      "cell_type": "markdown",
      "metadata": {
        "id": "s2pblg1HWxeA"
      },
      "source": [
        "2. Randomly pick 10 pairs of duplicate questions, then list up the 20 questions as a question corpus (N=20)."
      ]
    },
    {
      "cell_type": "code",
      "metadata": {
        "id": "Zd9sOq8JaQT1"
      },
      "source": [
        "#|--------------------------|\n",
        "#| Set Number of questions  |\n",
        "#|__________________________|\n",
        "size_of_pairs = 10"
      ],
      "execution_count": 23,
      "outputs": []
    },
    {
      "cell_type": "code",
      "metadata": {
        "id": "jq24XjZ5SkcF",
        "colab": {
          "base_uri": "https://localhost:8080/",
          "height": 390
        },
        "outputId": "52ea694d-1ea9-4929-9a88-b2817e5f3aef"
      },
      "source": [
        "train_df = pd.read_csv(\"train.csv\",index_col=0)\n",
        "train_df.head(n=size_of_pairs)"
      ],
      "execution_count": 24,
      "outputs": [
        {
          "output_type": "execute_result",
          "data": {
            "text/html": [
              "<div>\n",
              "<style scoped>\n",
              "    .dataframe tbody tr th:only-of-type {\n",
              "        vertical-align: middle;\n",
              "    }\n",
              "\n",
              "    .dataframe tbody tr th {\n",
              "        vertical-align: top;\n",
              "    }\n",
              "\n",
              "    .dataframe thead th {\n",
              "        text-align: right;\n",
              "    }\n",
              "</style>\n",
              "<table border=\"1\" class=\"dataframe\">\n",
              "  <thead>\n",
              "    <tr style=\"text-align: right;\">\n",
              "      <th></th>\n",
              "      <th>qid1</th>\n",
              "      <th>qid2</th>\n",
              "      <th>question1</th>\n",
              "      <th>question2</th>\n",
              "      <th>is_duplicate</th>\n",
              "    </tr>\n",
              "    <tr>\n",
              "      <th>id</th>\n",
              "      <th></th>\n",
              "      <th></th>\n",
              "      <th></th>\n",
              "      <th></th>\n",
              "      <th></th>\n",
              "    </tr>\n",
              "  </thead>\n",
              "  <tbody>\n",
              "    <tr>\n",
              "      <th>0</th>\n",
              "      <td>1</td>\n",
              "      <td>2</td>\n",
              "      <td>What is the step by step guide to invest in sh...</td>\n",
              "      <td>What is the step by step guide to invest in sh...</td>\n",
              "      <td>0</td>\n",
              "    </tr>\n",
              "    <tr>\n",
              "      <th>1</th>\n",
              "      <td>3</td>\n",
              "      <td>4</td>\n",
              "      <td>What is the story of Kohinoor (Koh-i-Noor) Dia...</td>\n",
              "      <td>What would happen if the Indian government sto...</td>\n",
              "      <td>0</td>\n",
              "    </tr>\n",
              "    <tr>\n",
              "      <th>2</th>\n",
              "      <td>5</td>\n",
              "      <td>6</td>\n",
              "      <td>How can I increase the speed of my internet co...</td>\n",
              "      <td>How can Internet speed be increased by hacking...</td>\n",
              "      <td>0</td>\n",
              "    </tr>\n",
              "    <tr>\n",
              "      <th>3</th>\n",
              "      <td>7</td>\n",
              "      <td>8</td>\n",
              "      <td>Why am I mentally very lonely? How can I solve...</td>\n",
              "      <td>Find the remainder when [math]23^{24}[/math] i...</td>\n",
              "      <td>0</td>\n",
              "    </tr>\n",
              "    <tr>\n",
              "      <th>4</th>\n",
              "      <td>9</td>\n",
              "      <td>10</td>\n",
              "      <td>Which one dissolve in water quikly sugar, salt...</td>\n",
              "      <td>Which fish would survive in salt water?</td>\n",
              "      <td>0</td>\n",
              "    </tr>\n",
              "    <tr>\n",
              "      <th>5</th>\n",
              "      <td>11</td>\n",
              "      <td>12</td>\n",
              "      <td>Astrology: I am a Capricorn Sun Cap moon and c...</td>\n",
              "      <td>I'm a triple Capricorn (Sun, Moon and ascendan...</td>\n",
              "      <td>1</td>\n",
              "    </tr>\n",
              "    <tr>\n",
              "      <th>6</th>\n",
              "      <td>13</td>\n",
              "      <td>14</td>\n",
              "      <td>Should I buy tiago?</td>\n",
              "      <td>What keeps childern active and far from phone ...</td>\n",
              "      <td>0</td>\n",
              "    </tr>\n",
              "    <tr>\n",
              "      <th>7</th>\n",
              "      <td>15</td>\n",
              "      <td>16</td>\n",
              "      <td>How can I be a good geologist?</td>\n",
              "      <td>What should I do to be a great geologist?</td>\n",
              "      <td>1</td>\n",
              "    </tr>\n",
              "    <tr>\n",
              "      <th>8</th>\n",
              "      <td>17</td>\n",
              "      <td>18</td>\n",
              "      <td>When do you use シ instead of し?</td>\n",
              "      <td>When do you use \"&amp;\" instead of \"and\"?</td>\n",
              "      <td>0</td>\n",
              "    </tr>\n",
              "    <tr>\n",
              "      <th>9</th>\n",
              "      <td>19</td>\n",
              "      <td>20</td>\n",
              "      <td>Motorola (company): Can I hack my Charter Moto...</td>\n",
              "      <td>How do I hack Motorola DCX3400 for free internet?</td>\n",
              "      <td>0</td>\n",
              "    </tr>\n",
              "  </tbody>\n",
              "</table>\n",
              "</div>"
            ],
            "text/plain": [
              "    qid1  qid2  ...                                          question2 is_duplicate\n",
              "id              ...                                                                \n",
              "0      1     2  ...  What is the step by step guide to invest in sh...            0\n",
              "1      3     4  ...  What would happen if the Indian government sto...            0\n",
              "2      5     6  ...  How can Internet speed be increased by hacking...            0\n",
              "3      7     8  ...  Find the remainder when [math]23^{24}[/math] i...            0\n",
              "4      9    10  ...            Which fish would survive in salt water?            0\n",
              "5     11    12  ...  I'm a triple Capricorn (Sun, Moon and ascendan...            1\n",
              "6     13    14  ...  What keeps childern active and far from phone ...            0\n",
              "7     15    16  ...          What should I do to be a great geologist?            1\n",
              "8     17    18  ...              When do you use \"&\" instead of \"and\"?            0\n",
              "9     19    20  ...  How do I hack Motorola DCX3400 for free internet?            0\n",
              "\n",
              "[10 rows x 5 columns]"
            ]
          },
          "metadata": {
            "tags": []
          },
          "execution_count": 24
        }
      ]
    },
    {
      "cell_type": "code",
      "metadata": {
        "id": "5v80Z0AXT2jy",
        "colab": {
          "base_uri": "https://localhost:8080/",
          "height": 359
        },
        "outputId": "d0c3772e-d736-4092-ce9e-7961430de21a"
      },
      "source": [
        "df_shuffled = train_df.sample(frac=1).reset_index(drop=True) # Random shuffling\n",
        "df1 = df_shuffled[\"question1\"].head(n=size_of_pairs)\n",
        "df2 = df_shuffled[\"question2\"].head(n=size_of_pairs)\n",
        "df_shuffled.head(n=size_of_pairs)"
      ],
      "execution_count": 25,
      "outputs": [
        {
          "output_type": "execute_result",
          "data": {
            "text/html": [
              "<div>\n",
              "<style scoped>\n",
              "    .dataframe tbody tr th:only-of-type {\n",
              "        vertical-align: middle;\n",
              "    }\n",
              "\n",
              "    .dataframe tbody tr th {\n",
              "        vertical-align: top;\n",
              "    }\n",
              "\n",
              "    .dataframe thead th {\n",
              "        text-align: right;\n",
              "    }\n",
              "</style>\n",
              "<table border=\"1\" class=\"dataframe\">\n",
              "  <thead>\n",
              "    <tr style=\"text-align: right;\">\n",
              "      <th></th>\n",
              "      <th>qid1</th>\n",
              "      <th>qid2</th>\n",
              "      <th>question1</th>\n",
              "      <th>question2</th>\n",
              "      <th>is_duplicate</th>\n",
              "    </tr>\n",
              "  </thead>\n",
              "  <tbody>\n",
              "    <tr>\n",
              "      <th>0</th>\n",
              "      <td>119089</td>\n",
              "      <td>119090</td>\n",
              "      <td>Are there border checks between states? Why or...</td>\n",
              "      <td>If the U.S.-Canada border is like this, why do...</td>\n",
              "      <td>0</td>\n",
              "    </tr>\n",
              "    <tr>\n",
              "      <th>1</th>\n",
              "      <td>14799</td>\n",
              "      <td>291557</td>\n",
              "      <td>What do I need to learn to get a fair chance o...</td>\n",
              "      <td>I want to be selected for GSoC. What are some ...</td>\n",
              "      <td>1</td>\n",
              "    </tr>\n",
              "    <tr>\n",
              "      <th>2</th>\n",
              "      <td>172437</td>\n",
              "      <td>59166</td>\n",
              "      <td>How do I become better at controlling emotions?</td>\n",
              "      <td>How can I control my emotions?</td>\n",
              "      <td>1</td>\n",
              "    </tr>\n",
              "    <tr>\n",
              "      <th>3</th>\n",
              "      <td>198521</td>\n",
              "      <td>198522</td>\n",
              "      <td>What is the inspirational thing that you want ...</td>\n",
              "      <td>What is that one crazy thing that you want to ...</td>\n",
              "      <td>0</td>\n",
              "    </tr>\n",
              "    <tr>\n",
              "      <th>4</th>\n",
              "      <td>75216</td>\n",
              "      <td>75217</td>\n",
              "      <td>Can I write a long question on Quora?</td>\n",
              "      <td>Why can't I type a long questions at Quora?</td>\n",
              "      <td>0</td>\n",
              "    </tr>\n",
              "    <tr>\n",
              "      <th>5</th>\n",
              "      <td>118107</td>\n",
              "      <td>118108</td>\n",
              "      <td>What Chinese technology is used in America?</td>\n",
              "      <td>How many years does Chinese space technology f...</td>\n",
              "      <td>0</td>\n",
              "    </tr>\n",
              "    <tr>\n",
              "      <th>6</th>\n",
              "      <td>391802</td>\n",
              "      <td>391803</td>\n",
              "      <td>What is the best way to connect with god?</td>\n",
              "      <td>Can we communicate with God?</td>\n",
              "      <td>0</td>\n",
              "    </tr>\n",
              "    <tr>\n",
              "      <th>7</th>\n",
              "      <td>517056</td>\n",
              "      <td>517057</td>\n",
              "      <td>For a hybrid car competing in a race for the h...</td>\n",
              "      <td>Why does it make sense to become involved in n...</td>\n",
              "      <td>0</td>\n",
              "    </tr>\n",
              "    <tr>\n",
              "      <th>8</th>\n",
              "      <td>313010</td>\n",
              "      <td>6974</td>\n",
              "      <td>What is the best civilization in Age of Empire...</td>\n",
              "      <td>What is the best civilization in Age of Empire...</td>\n",
              "      <td>0</td>\n",
              "    </tr>\n",
              "    <tr>\n",
              "      <th>9</th>\n",
              "      <td>22732</td>\n",
              "      <td>39113</td>\n",
              "      <td>How do you feel when you fall in love?</td>\n",
              "      <td>How does it feels to be in love?</td>\n",
              "      <td>1</td>\n",
              "    </tr>\n",
              "  </tbody>\n",
              "</table>\n",
              "</div>"
            ],
            "text/plain": [
              "     qid1  ...  is_duplicate\n",
              "0  119089  ...             0\n",
              "1   14799  ...             1\n",
              "2  172437  ...             1\n",
              "3  198521  ...             0\n",
              "4   75216  ...             0\n",
              "5  118107  ...             0\n",
              "6  391802  ...             0\n",
              "7  517056  ...             0\n",
              "8  313010  ...             0\n",
              "9   22732  ...             1\n",
              "\n",
              "[10 rows x 5 columns]"
            ]
          },
          "metadata": {
            "tags": []
          },
          "execution_count": 25
        }
      ]
    },
    {
      "cell_type": "code",
      "metadata": {
        "colab": {
          "base_uri": "https://localhost:8080/"
        },
        "id": "OQ5NP_u5UvUV",
        "outputId": "011fe240-3c14-45af-883e-700e1bf396c7"
      },
      "source": [
        "corpus = pd.concat([df1,df2], ignore_index=True) # Make question corpus\n",
        "print(corpus)"
      ],
      "execution_count": 26,
      "outputs": [
        {
          "output_type": "stream",
          "text": [
            "0     Are there border checks between states? Why or...\n",
            "1     What do I need to learn to get a fair chance o...\n",
            "2       How do I become better at controlling emotions?\n",
            "3     What is the inspirational thing that you want ...\n",
            "4                 Can I write a long question on Quora?\n",
            "5           What Chinese technology is used in America?\n",
            "6             What is the best way to connect with god?\n",
            "7     For a hybrid car competing in a race for the h...\n",
            "8     What is the best civilization in Age of Empire...\n",
            "9                How do you feel when you fall in love?\n",
            "10    If the U.S.-Canada border is like this, why do...\n",
            "11    I want to be selected for GSoC. What are some ...\n",
            "12                       How can I control my emotions?\n",
            "13    What is that one crazy thing that you want to ...\n",
            "14          Why can't I type a long questions at Quora?\n",
            "15    How many years does Chinese space technology f...\n",
            "16                         Can we communicate with God?\n",
            "17    Why does it make sense to become involved in n...\n",
            "18    What is the best civilization in Age of Empire...\n",
            "19                     How does it feels to be in love?\n",
            "dtype: object\n"
          ],
          "name": "stdout"
        }
      ]
    },
    {
      "cell_type": "markdown",
      "metadata": {
        "id": "Hv90glObZ1pQ"
      },
      "source": [
        "3. Make k-shingles and document vectors"
      ]
    },
    {
      "cell_type": "code",
      "metadata": {
        "id": "j7frIivvZB-J"
      },
      "source": [
        "k = 3 # length of string\n",
        "shingles = set() # set of shingles\n",
        "for sentence in corpus:  \n",
        "  if sentence[-1] == '\\n':\n",
        "      sentence = sentence[0:-1]      \n",
        "  words = sentence.split(\" \")  \n",
        "  for index in range(0, len(words)-k+1):\n",
        "    shingle = words[index]\n",
        "    for number in range(1, k): # Make k-shingle\n",
        "      shingle += \" \" + words[index + number]      \n",
        "    #shingle = binascii.crc32(shingle) & 0xffffffff\n",
        "    shingles.add(shingle) # add to set of shingle"
      ],
      "execution_count": 27,
      "outputs": []
    },
    {
      "cell_type": "code",
      "metadata": {
        "colab": {
          "base_uri": "https://localhost:8080/"
        },
        "id": "jwO0gjLZjLbn",
        "outputId": "39fa3f28-e021-4e97-c3ed-b3c80ca4903e"
      },
      "source": [
        "print(shingles)"
      ],
      "execution_count": 28,
      "outputs": [
        {
          "output_type": "stream",
          "text": [
            "{'getting selected for', 'Can we communicate', 'does it feels', 'want to do', 'for getting into', 'a race for', 'the best way', 'of Empires III?', 'behind the American', 'the highest fuel', 'fall in love?', 'How do you', 'cross it illegally?', 'get a fair', 'do before you', 'tyre and chassis', \"why don't more\", 'Why or why', 'technology fall behind', 'fair chance of', 'of getting selected', 'border is like', 'the American space', 'highest fuel efficiency', 'be selected for', 'in network marketing?', 'a hybrid car', 'best tyre and', 'to do before', 'become involved in', 'type a long', 'feels to be', 'in Age of', 'connect with god?', 'you want to', 'to connect with', \"don't more people\", 'need to learn', 'selected for GSoC.', 'selected for GSoC?', 'What are some', 'suggestions for getting', 'time what would', 'one crazy thing', 'are some suggestions', 'sense to become', 'to be in', 'I want to', 'I control my', 'people cross it', 'fall behind the', 'long question on', 'what would be', 'or why not?', 'be in love?', 'of Empires III', 'do I need', 'space technology fall', 'it make sense', 'American space technology?', 'that you want', 'would be the', 'getting into GSoC?', 'the U.S.-Canada border', 'control my emotions?', 'does it make', 'for the highest', 'you feel when', 'technology is used', 'communicate with God?', 'checks between states?', 'to become involved', 'I type a', 'you fall in', 'Chinese technology is', \"this, why don't\", 'How many years', 'Are there border', 'many years does', 'feel when you', 'make sense to', 'crazy thing that', 'Empires III asian', 'some suggestions for', 'What is that', 'U.S.-Canada border is', 'race for the', 'Can I write', 'I write a', 'Chinese space technology', 'to be selected', 'competing in a', 'and chassis configuration?', 'questions at Quora?', 'do you feel', 'long questions at', 'is the best', 'better at controlling', 'become better at', 'is used in', 'used in America?', 'the fastest time', 'If the U.S.-Canada', 'civilization in Age', 'when you fall', 'efficiency and the', \"can't I type\", 'does Chinese space', 'I need to', 'do I become', 'to learn to', 'is that one', 'border checks between', 'How do I', 'states? Why or', 'fastest time what', 'For a hybrid', 'the best tyre', 'a fair chance', 'question on Quora?', 'III asian dynasties?', 'way to connect', 'can I control', 'more people cross', 'fuel efficiency and', 'between states? Why', 'is the inspirational', 'How does it', 'a long question', 'we communicate with', 'GSoC. What are', 'What do I', 'like this, why', 'the inspirational thing', 'What Chinese technology', 'there border checks', 'inspirational thing that', 'be the best', 'I become better', 'How can I', 'best civilization in', 'in a race', 'What is the', 'want to be', 'is like this,', 'and the fastest', 'Age of Empires', 'at controlling emotions?', 'for GSoC. What', 'involved in network', 'to get a', 'hybrid car competing', 'that one crazy', 'the best civilization', 'chance of getting', 'best way to', 'car competing in', 'learn to get', 'Why does it', 'before you die?', 'a long questions', 'thing that you', \"Why can't I\", 'years does Chinese', 'write a long', 'it feels to'}\n"
          ],
          "name": "stdout"
        }
      ]
    },
    {
      "cell_type": "code",
      "metadata": {
        "colab": {
          "base_uri": "https://localhost:8080/"
        },
        "id": "697Mml0kpI2i",
        "outputId": "774d6ed8-6d6b-4394-bd96-795e2ea516ee"
      },
      "source": [
        "print(len(shingles))"
      ],
      "execution_count": 29,
      "outputs": [
        {
          "output_type": "stream",
          "text": [
            "166\n"
          ],
          "name": "stdout"
        }
      ]
    },
    {
      "cell_type": "code",
      "metadata": {
        "id": "5bjV2yPEm8x5"
      },
      "source": [
        "shingle_list = list(shingles)\n",
        "document_vector=[]\n",
        "for num in range(len(corpus)):\n",
        "  temp = []\n",
        "  for i in range(len(shingle_list)):\n",
        "    if shingle_list[i] in corpus[num]:\n",
        "      temp.append(1)\n",
        "    else:\n",
        "      temp.append(0)\n",
        "  document_vector.append(list(temp))"
      ],
      "execution_count": 30,
      "outputs": []
    },
    {
      "cell_type": "code",
      "metadata": {
        "colab": {
          "base_uri": "https://localhost:8080/"
        },
        "id": "C7gENppMpSjt",
        "outputId": "41eec2a2-cfc5-4a0e-9ade-03b7195df369"
      },
      "source": [
        "print(document_vector)"
      ],
      "execution_count": 31,
      "outputs": [
        {
          "output_type": "stream",
          "text": [
            "[[0, 0, 0, 0, 0, 0, 0, 0, 0, 0, 0, 0, 0, 0, 0, 0, 0, 1, 0, 0, 0, 0, 0, 0, 0, 0, 0, 0, 0, 0, 0, 0, 0, 0, 0, 0, 0, 0, 0, 0, 0, 0, 0, 0, 0, 0, 0, 0, 0, 0, 0, 0, 0, 1, 0, 0, 0, 0, 0, 0, 0, 0, 0, 0, 0, 0, 0, 0, 0, 0, 1, 0, 0, 0, 0, 0, 0, 1, 0, 0, 0, 0, 0, 0, 0, 0, 0, 0, 0, 0, 0, 0, 0, 0, 0, 0, 0, 0, 0, 0, 0, 0, 0, 0, 0, 0, 0, 0, 0, 0, 0, 0, 1, 0, 1, 0, 0, 0, 0, 0, 0, 0, 0, 0, 0, 1, 0, 0, 0, 0, 0, 0, 0, 0, 0, 1, 0, 0, 0, 0, 0, 0, 0, 0, 0, 0, 0, 0, 0, 0, 0, 0, 0, 0, 0, 0, 0, 0, 0, 0, 0, 0, 0, 0, 0, 0], [1, 0, 0, 0, 0, 0, 0, 0, 0, 0, 0, 0, 0, 1, 0, 0, 0, 0, 0, 1, 1, 0, 0, 0, 0, 0, 0, 0, 0, 0, 0, 0, 0, 0, 0, 0, 0, 1, 0, 1, 0, 0, 0, 0, 0, 0, 0, 0, 0, 0, 0, 0, 0, 0, 0, 0, 1, 0, 0, 0, 0, 0, 0, 0, 0, 0, 0, 0, 0, 0, 0, 0, 0, 0, 0, 0, 0, 0, 0, 0, 0, 0, 0, 0, 0, 0, 0, 0, 0, 0, 0, 0, 0, 0, 0, 0, 0, 0, 0, 0, 0, 0, 0, 0, 0, 0, 0, 0, 1, 0, 1, 0, 0, 0, 0, 0, 0, 0, 1, 0, 0, 0, 0, 0, 0, 0, 0, 0, 0, 0, 0, 1, 0, 0, 0, 0, 0, 0, 0, 0, 0, 0, 0, 0, 0, 0, 0, 0, 0, 0, 1, 0, 0, 0, 1, 0, 0, 1, 0, 0, 0, 0, 0, 0, 0, 0], [0, 0, 0, 0, 0, 0, 0, 0, 0, 0, 0, 0, 0, 0, 0, 0, 0, 0, 0, 0, 0, 0, 0, 0, 0, 0, 0, 0, 0, 0, 0, 0, 0, 0, 0, 0, 0, 0, 0, 0, 0, 0, 0, 0, 0, 0, 0, 0, 0, 0, 0, 0, 0, 0, 0, 0, 0, 0, 0, 0, 0, 0, 0, 0, 0, 0, 0, 0, 0, 0, 0, 0, 0, 0, 0, 0, 0, 0, 0, 0, 0, 0, 0, 0, 0, 0, 0, 0, 0, 0, 0, 0, 0, 0, 0, 0, 0, 1, 1, 0, 0, 0, 0, 0, 0, 0, 0, 0, 0, 1, 0, 0, 0, 1, 0, 0, 0, 0, 0, 0, 0, 0, 0, 0, 0, 0, 0, 0, 0, 0, 0, 0, 0, 0, 0, 0, 0, 0, 1, 0, 0, 0, 0, 0, 0, 0, 0, 1, 0, 0, 0, 0, 0, 0, 0, 0, 0, 0, 0, 0, 0, 0, 0, 0, 0, 0], [0, 0, 0, 1, 0, 0, 0, 0, 0, 0, 0, 0, 0, 0, 1, 0, 0, 0, 0, 0, 0, 0, 0, 0, 0, 0, 0, 0, 1, 0, 0, 0, 0, 0, 1, 0, 0, 0, 0, 0, 0, 0, 0, 0, 0, 0, 0, 0, 0, 0, 0, 0, 0, 0, 0, 0, 0, 0, 0, 0, 1, 0, 0, 0, 0, 0, 0, 0, 0, 0, 0, 0, 0, 0, 0, 0, 0, 0, 0, 0, 0, 0, 0, 0, 0, 0, 0, 0, 0, 0, 0, 0, 0, 0, 0, 0, 0, 0, 0, 0, 0, 0, 0, 0, 0, 0, 0, 0, 0, 0, 0, 0, 0, 0, 0, 0, 0, 0, 0, 0, 0, 0, 0, 0, 0, 0, 1, 0, 0, 0, 0, 0, 0, 1, 0, 0, 1, 0, 0, 0, 0, 0, 1, 0, 0, 0, 0, 0, 0, 0, 0, 0, 0, 0, 0, 0, 0, 0, 0, 1, 0, 1, 0, 0, 0, 0], [0, 0, 0, 0, 0, 0, 0, 0, 0, 0, 0, 0, 0, 0, 0, 0, 0, 0, 0, 0, 0, 0, 0, 0, 0, 0, 0, 0, 0, 0, 0, 0, 0, 0, 0, 0, 0, 0, 0, 0, 0, 0, 0, 0, 0, 0, 0, 0, 0, 0, 0, 1, 0, 0, 0, 0, 0, 0, 0, 0, 0, 0, 0, 0, 0, 0, 0, 0, 0, 0, 0, 0, 0, 0, 0, 0, 0, 0, 0, 0, 0, 0, 0, 0, 0, 0, 0, 1, 1, 0, 0, 0, 0, 0, 0, 0, 0, 0, 0, 0, 0, 0, 0, 0, 0, 0, 0, 0, 0, 0, 0, 0, 0, 0, 0, 0, 0, 0, 0, 1, 0, 0, 0, 0, 0, 0, 0, 0, 1, 0, 0, 0, 0, 0, 0, 0, 0, 0, 0, 0, 0, 0, 0, 0, 0, 0, 0, 0, 0, 0, 0, 0, 0, 0, 0, 0, 0, 0, 0, 0, 0, 0, 0, 0, 1, 0], [0, 0, 0, 0, 0, 0, 0, 0, 0, 0, 0, 0, 0, 0, 0, 0, 0, 0, 0, 0, 0, 0, 0, 0, 0, 0, 0, 0, 0, 0, 0, 0, 0, 0, 0, 0, 0, 0, 0, 0, 0, 0, 0, 0, 0, 0, 0, 0, 0, 0, 0, 0, 0, 0, 0, 0, 0, 0, 0, 0, 0, 0, 0, 0, 0, 0, 0, 0, 1, 0, 0, 0, 0, 0, 1, 0, 0, 0, 0, 0, 0, 0, 0, 0, 0, 0, 0, 0, 0, 0, 0, 0, 0, 0, 0, 0, 0, 0, 0, 1, 1, 0, 0, 0, 0, 0, 0, 0, 0, 0, 0, 0, 0, 0, 0, 0, 0, 0, 0, 0, 0, 0, 0, 0, 0, 0, 0, 0, 0, 0, 0, 0, 0, 0, 1, 0, 0, 0, 0, 0, 0, 0, 0, 0, 0, 0, 0, 0, 0, 0, 0, 0, 0, 0, 0, 0, 0, 0, 0, 0, 0, 0, 0, 0, 0, 0], [0, 0, 0, 0, 0, 0, 1, 0, 0, 0, 0, 0, 0, 0, 0, 0, 0, 0, 0, 0, 0, 0, 0, 0, 0, 0, 0, 0, 0, 0, 0, 0, 0, 1, 0, 1, 0, 0, 0, 0, 0, 0, 0, 0, 0, 0, 0, 0, 0, 0, 0, 0, 0, 0, 0, 0, 0, 0, 0, 0, 0, 0, 0, 0, 0, 0, 0, 0, 0, 0, 0, 0, 0, 0, 0, 0, 0, 0, 0, 0, 0, 0, 0, 0, 0, 0, 0, 0, 0, 0, 0, 0, 0, 0, 0, 0, 1, 0, 0, 0, 0, 0, 0, 0, 0, 0, 0, 0, 0, 0, 0, 0, 0, 0, 0, 0, 0, 0, 0, 0, 0, 1, 0, 0, 0, 0, 0, 0, 0, 0, 0, 0, 0, 0, 0, 0, 0, 0, 0, 0, 0, 0, 1, 0, 0, 0, 0, 0, 0, 0, 0, 0, 0, 0, 0, 1, 0, 0, 0, 0, 0, 0, 0, 0, 0, 0], [0, 0, 0, 0, 0, 1, 0, 0, 0, 1, 0, 0, 0, 0, 0, 1, 0, 0, 0, 0, 0, 0, 0, 1, 0, 0, 1, 1, 0, 0, 0, 0, 0, 0, 0, 0, 0, 0, 0, 0, 0, 0, 1, 0, 0, 0, 0, 0, 0, 0, 0, 0, 1, 0, 0, 0, 0, 0, 0, 0, 0, 1, 0, 0, 0, 0, 1, 0, 0, 0, 0, 0, 0, 0, 0, 0, 0, 0, 0, 0, 0, 0, 0, 0, 0, 0, 1, 0, 0, 0, 0, 1, 1, 0, 0, 0, 0, 0, 0, 0, 0, 1, 0, 0, 0, 1, 0, 0, 0, 0, 0, 0, 0, 0, 0, 1, 1, 1, 0, 0, 0, 0, 0, 0, 1, 0, 0, 0, 0, 0, 0, 0, 0, 0, 0, 0, 0, 1, 0, 0, 0, 1, 0, 0, 0, 1, 0, 0, 0, 0, 0, 1, 0, 0, 0, 0, 1, 0, 0, 0, 0, 0, 0, 0, 0, 0], [0, 0, 0, 0, 0, 0, 0, 0, 0, 0, 0, 0, 0, 0, 0, 0, 0, 0, 0, 0, 0, 0, 0, 0, 0, 0, 0, 0, 0, 0, 0, 0, 1, 0, 0, 0, 0, 0, 0, 0, 0, 0, 0, 0, 0, 0, 0, 0, 0, 0, 0, 0, 0, 0, 0, 1, 0, 0, 0, 0, 0, 0, 0, 0, 0, 0, 0, 0, 0, 0, 0, 0, 0, 0, 0, 0, 0, 0, 0, 0, 0, 0, 1, 0, 0, 0, 0, 0, 0, 0, 0, 0, 0, 0, 0, 0, 1, 0, 0, 0, 0, 0, 0, 1, 0, 0, 0, 0, 0, 0, 0, 0, 0, 0, 0, 0, 0, 0, 0, 0, 1, 0, 0, 0, 0, 0, 0, 0, 0, 0, 0, 0, 0, 0, 0, 0, 0, 0, 0, 0, 1, 0, 1, 0, 0, 0, 1, 0, 0, 0, 0, 0, 0, 1, 0, 0, 0, 0, 0, 0, 0, 0, 0, 0, 0, 0], [0, 0, 0, 0, 0, 0, 0, 0, 0, 0, 1, 1, 0, 0, 0, 0, 0, 0, 0, 0, 0, 0, 0, 0, 0, 0, 0, 0, 0, 0, 0, 0, 0, 0, 0, 0, 0, 0, 0, 0, 0, 0, 0, 0, 0, 0, 0, 0, 0, 0, 0, 0, 0, 0, 0, 0, 0, 0, 0, 0, 0, 0, 0, 0, 0, 0, 0, 1, 0, 0, 0, 0, 0, 1, 0, 0, 0, 0, 0, 1, 0, 0, 0, 0, 0, 0, 0, 0, 0, 0, 0, 0, 0, 0, 1, 0, 0, 0, 0, 0, 0, 0, 0, 0, 1, 0, 0, 0, 0, 0, 0, 0, 0, 0, 0, 0, 0, 0, 0, 0, 0, 0, 0, 0, 0, 0, 0, 0, 0, 0, 0, 0, 0, 0, 0, 0, 0, 0, 0, 0, 0, 0, 0, 0, 0, 0, 0, 0, 0, 0, 0, 0, 0, 0, 0, 0, 0, 0, 0, 0, 0, 0, 0, 0, 0, 0], [0, 0, 0, 0, 0, 0, 0, 0, 0, 0, 0, 0, 1, 0, 0, 0, 1, 0, 0, 0, 0, 1, 0, 0, 0, 0, 0, 0, 0, 0, 0, 0, 0, 0, 0, 0, 1, 0, 0, 0, 0, 0, 0, 0, 0, 0, 0, 0, 0, 1, 0, 0, 0, 0, 0, 0, 0, 0, 0, 0, 0, 0, 0, 1, 0, 0, 0, 0, 0, 0, 0, 0, 0, 0, 0, 1, 0, 0, 0, 0, 0, 0, 0, 0, 0, 1, 0, 0, 0, 0, 0, 0, 0, 0, 0, 0, 0, 0, 0, 0, 0, 0, 1, 0, 0, 0, 0, 0, 0, 0, 0, 0, 0, 0, 0, 0, 0, 0, 0, 0, 0, 0, 0, 1, 0, 0, 0, 0, 0, 0, 0, 0, 1, 0, 0, 0, 0, 0, 0, 0, 0, 0, 0, 0, 1, 0, 0, 0, 0, 0, 0, 0, 0, 0, 0, 0, 0, 0, 0, 0, 0, 0, 0, 0, 0, 0], [0, 0, 0, 0, 1, 0, 0, 0, 0, 0, 0, 0, 0, 0, 0, 0, 0, 0, 0, 0, 0, 0, 0, 0, 1, 0, 0, 0, 0, 0, 0, 0, 0, 0, 0, 0, 0, 0, 1, 0, 1, 1, 0, 0, 1, 0, 0, 1, 0, 0, 0, 0, 0, 0, 0, 0, 0, 0, 0, 0, 0, 0, 1, 0, 0, 0, 0, 0, 0, 0, 0, 0, 0, 0, 0, 0, 0, 0, 0, 0, 0, 0, 0, 1, 0, 0, 0, 0, 0, 0, 1, 0, 0, 0, 0, 0, 0, 0, 0, 0, 0, 0, 0, 0, 0, 0, 0, 0, 0, 0, 0, 0, 0, 0, 0, 0, 0, 0, 0, 0, 0, 0, 0, 0, 0, 0, 0, 0, 0, 0, 1, 0, 0, 0, 0, 0, 0, 0, 0, 0, 0, 0, 0, 1, 0, 0, 0, 0, 1, 0, 0, 0, 0, 0, 0, 0, 0, 0, 0, 0, 0, 0, 0, 0, 0, 0], [0, 0, 0, 0, 0, 0, 0, 0, 0, 0, 0, 0, 0, 0, 0, 0, 0, 0, 0, 0, 0, 0, 0, 0, 0, 0, 0, 0, 0, 0, 0, 0, 0, 0, 0, 0, 0, 0, 0, 0, 0, 0, 0, 0, 0, 0, 0, 0, 1, 0, 0, 0, 0, 0, 0, 0, 0, 0, 0, 0, 0, 0, 0, 0, 1, 0, 0, 0, 0, 0, 0, 0, 0, 0, 0, 0, 0, 0, 0, 0, 0, 0, 0, 0, 0, 0, 0, 0, 0, 0, 0, 0, 0, 0, 0, 0, 0, 0, 0, 0, 0, 0, 0, 0, 0, 0, 0, 0, 0, 0, 0, 0, 0, 0, 0, 0, 0, 0, 0, 0, 0, 0, 1, 0, 0, 0, 0, 0, 0, 0, 0, 0, 0, 0, 0, 0, 0, 0, 0, 1, 0, 0, 0, 0, 0, 0, 0, 0, 0, 0, 0, 0, 0, 0, 0, 0, 0, 0, 0, 0, 0, 0, 0, 0, 0, 0], [0, 0, 0, 1, 0, 0, 0, 0, 0, 0, 0, 0, 0, 0, 1, 0, 0, 0, 0, 0, 0, 0, 0, 0, 0, 0, 0, 0, 1, 0, 0, 0, 0, 0, 1, 0, 0, 0, 0, 0, 0, 0, 0, 1, 0, 0, 0, 0, 0, 0, 0, 0, 0, 0, 0, 0, 0, 0, 0, 0, 1, 0, 0, 0, 0, 0, 0, 0, 0, 0, 0, 0, 0, 0, 0, 0, 0, 0, 0, 0, 0, 1, 0, 0, 1, 0, 0, 0, 0, 0, 0, 0, 0, 0, 0, 0, 0, 0, 0, 0, 0, 0, 0, 0, 0, 0, 0, 0, 0, 0, 0, 1, 0, 0, 0, 0, 0, 0, 0, 0, 0, 0, 0, 0, 0, 0, 0, 0, 0, 0, 0, 0, 0, 0, 0, 0, 0, 0, 0, 0, 0, 0, 0, 0, 0, 0, 0, 0, 0, 0, 0, 0, 1, 0, 0, 0, 0, 0, 0, 1, 0, 1, 0, 0, 0, 0], [0, 0, 0, 0, 0, 0, 0, 0, 0, 0, 0, 0, 0, 0, 0, 0, 0, 0, 0, 0, 0, 0, 0, 0, 0, 0, 0, 0, 0, 0, 1, 0, 0, 0, 0, 0, 0, 0, 0, 0, 0, 0, 0, 0, 0, 0, 0, 0, 0, 0, 0, 0, 0, 0, 0, 0, 0, 0, 0, 0, 0, 0, 0, 0, 0, 0, 0, 0, 0, 0, 0, 0, 1, 0, 0, 0, 0, 0, 0, 0, 0, 0, 0, 0, 0, 0, 0, 0, 0, 0, 0, 0, 0, 1, 0, 1, 0, 0, 0, 0, 0, 0, 0, 0, 0, 0, 1, 0, 0, 0, 0, 0, 0, 0, 0, 0, 0, 0, 0, 0, 0, 0, 0, 0, 0, 0, 0, 0, 1, 0, 0, 0, 0, 0, 0, 0, 0, 0, 0, 0, 0, 0, 0, 0, 0, 0, 0, 0, 0, 0, 0, 0, 0, 0, 0, 0, 0, 0, 0, 0, 1, 0, 1, 0, 0, 0], [0, 0, 0, 0, 0, 0, 0, 0, 1, 0, 0, 0, 0, 0, 0, 0, 0, 0, 1, 0, 0, 0, 1, 0, 0, 0, 0, 0, 0, 0, 0, 0, 0, 0, 0, 0, 0, 0, 0, 0, 0, 0, 0, 0, 0, 0, 0, 0, 0, 0, 1, 0, 0, 0, 0, 0, 0, 1, 0, 1, 0, 0, 0, 0, 0, 0, 0, 0, 0, 0, 0, 0, 0, 0, 0, 0, 1, 0, 1, 0, 0, 0, 0, 0, 0, 0, 0, 0, 0, 1, 0, 0, 0, 0, 0, 0, 0, 0, 0, 0, 0, 0, 0, 0, 0, 0, 0, 1, 0, 0, 0, 0, 0, 0, 0, 0, 0, 0, 0, 0, 0, 0, 0, 0, 0, 0, 0, 0, 0, 0, 0, 0, 0, 0, 0, 0, 0, 0, 0, 0, 0, 0, 0, 0, 0, 0, 0, 0, 0, 0, 0, 0, 0, 0, 0, 0, 0, 0, 0, 0, 0, 0, 0, 1, 0, 0], [0, 1, 0, 0, 0, 0, 0, 0, 0, 0, 0, 0, 0, 0, 0, 0, 0, 0, 0, 0, 0, 0, 0, 0, 0, 0, 0, 0, 0, 0, 0, 0, 0, 0, 0, 0, 0, 0, 0, 0, 0, 0, 0, 0, 0, 0, 0, 0, 0, 0, 0, 0, 0, 0, 0, 0, 0, 0, 0, 0, 0, 0, 0, 0, 0, 0, 0, 0, 0, 1, 0, 0, 0, 0, 0, 0, 0, 0, 0, 0, 0, 0, 0, 0, 0, 0, 0, 0, 0, 0, 0, 0, 0, 0, 0, 0, 0, 0, 0, 0, 0, 0, 0, 0, 0, 0, 0, 0, 0, 0, 0, 0, 0, 0, 0, 0, 0, 0, 0, 0, 0, 0, 0, 0, 0, 0, 0, 0, 0, 1, 0, 0, 0, 0, 0, 0, 0, 0, 0, 0, 0, 0, 0, 0, 0, 0, 0, 0, 0, 0, 0, 0, 0, 0, 0, 0, 0, 0, 0, 0, 0, 0, 0, 0, 0, 0], [0, 0, 0, 0, 0, 0, 0, 0, 0, 0, 0, 0, 0, 0, 0, 0, 0, 0, 0, 0, 0, 0, 0, 0, 0, 1, 0, 0, 0, 1, 0, 0, 0, 0, 0, 0, 0, 0, 0, 0, 0, 0, 0, 0, 0, 1, 0, 0, 0, 0, 0, 0, 0, 0, 0, 0, 0, 0, 1, 0, 0, 0, 0, 0, 0, 1, 0, 0, 0, 0, 0, 1, 0, 0, 0, 0, 0, 0, 0, 0, 1, 0, 0, 0, 0, 0, 0, 0, 0, 0, 0, 0, 0, 0, 0, 0, 0, 0, 0, 0, 0, 0, 0, 0, 0, 0, 0, 0, 0, 0, 0, 0, 0, 0, 0, 0, 0, 0, 0, 0, 0, 0, 0, 0, 0, 0, 0, 0, 0, 0, 0, 0, 0, 0, 0, 0, 0, 0, 0, 0, 0, 0, 0, 0, 0, 0, 0, 0, 0, 1, 0, 0, 0, 0, 0, 0, 0, 0, 1, 0, 0, 0, 0, 0, 0, 0], [0, 0, 0, 0, 0, 0, 0, 1, 0, 0, 0, 0, 0, 0, 0, 0, 0, 0, 0, 0, 0, 0, 0, 0, 0, 0, 0, 0, 0, 0, 0, 0, 1, 0, 0, 0, 0, 0, 0, 0, 0, 0, 0, 0, 0, 0, 0, 0, 0, 0, 0, 0, 0, 0, 0, 1, 0, 0, 0, 0, 0, 0, 0, 0, 0, 0, 0, 0, 0, 0, 0, 0, 0, 0, 0, 0, 0, 0, 0, 0, 0, 0, 0, 0, 0, 0, 0, 0, 0, 0, 0, 0, 0, 0, 0, 0, 1, 0, 0, 0, 0, 0, 0, 1, 0, 0, 0, 0, 0, 0, 0, 0, 0, 0, 0, 0, 0, 0, 0, 0, 0, 0, 0, 0, 0, 0, 0, 0, 0, 0, 0, 0, 0, 0, 0, 0, 0, 0, 0, 0, 1, 0, 1, 0, 0, 0, 1, 0, 0, 0, 0, 0, 0, 1, 0, 0, 0, 0, 0, 0, 0, 0, 0, 0, 0, 0], [0, 0, 1, 0, 0, 0, 0, 0, 0, 0, 0, 0, 0, 0, 0, 0, 0, 0, 0, 0, 0, 0, 0, 0, 0, 0, 0, 0, 0, 0, 0, 1, 0, 0, 0, 0, 0, 0, 0, 0, 0, 0, 0, 0, 0, 0, 1, 0, 0, 0, 0, 0, 0, 0, 1, 0, 0, 0, 0, 0, 0, 0, 0, 0, 0, 0, 0, 0, 0, 0, 0, 0, 0, 0, 0, 0, 0, 0, 0, 0, 0, 0, 0, 0, 0, 0, 0, 0, 0, 0, 0, 0, 0, 0, 0, 0, 0, 0, 0, 0, 0, 0, 0, 0, 0, 0, 0, 0, 0, 0, 0, 0, 0, 0, 0, 0, 0, 0, 0, 0, 0, 0, 0, 0, 0, 0, 0, 1, 0, 0, 0, 0, 0, 0, 0, 0, 0, 0, 0, 0, 0, 0, 0, 0, 0, 0, 0, 0, 0, 0, 0, 0, 0, 0, 0, 0, 0, 0, 0, 0, 0, 0, 0, 0, 0, 1]]\n"
          ],
          "name": "stdout"
        }
      ]
    },
    {
      "cell_type": "markdown",
      "metadata": {
        "id": "FvHWtcQ2asby"
      },
      "source": [
        "4. Make signature matrix M"
      ]
    },
    {
      "cell_type": "code",
      "metadata": {
        "id": "U6bzxUNida2M"
      },
      "source": [
        "# hash function : (ax + b) % len\n",
        "def make_hash(number):\n",
        "  a = [] # container for a\n",
        "  b = [] # container for b\n",
        "  for i in range(number):\n",
        "    a.append(random.randint(0,1000))\n",
        "    b.append(random.randint(0,1000))\n",
        "  lst = []\n",
        "  lst.append(a)\n",
        "  lst.append(b)\n",
        "  return lst"
      ],
      "execution_count": 32,
      "outputs": []
    },
    {
      "cell_type": "code",
      "metadata": {
        "id": "Cw2qqlpla7Q1",
        "colab": {
          "base_uri": "https://localhost:8080/"
        },
        "outputId": "734dfa11-328a-40d8-8b25-98511e4ee32b"
      },
      "source": [
        "#|------------------------------|\n",
        "#| Set Number of hashfunctions  |\n",
        "#|______________________________|\n",
        "number_of_hashfunctions = 100\n",
        "lst = make_hash(number_of_hashfunctions)\n",
        "print(lst)"
      ],
      "execution_count": 45,
      "outputs": [
        {
          "output_type": "stream",
          "text": [
            "[[485, 444, 65, 153, 773, 872, 969, 841, 955, 826, 865, 627, 103, 630, 813, 661, 173, 707, 434, 235, 373, 708, 717, 963, 854, 830, 666, 754, 513, 800, 93, 235, 545, 711, 276, 494, 51, 879, 341, 346, 807, 999, 230, 415, 591, 901, 780, 263, 719, 819, 263, 294, 18, 373, 188, 715, 723, 394, 578, 270, 164, 616, 383, 707, 130, 870, 352, 706, 92, 703, 755, 927, 181, 618, 119, 11, 279, 943, 468, 435, 878, 693, 350, 795, 694, 366, 293, 336, 656, 456, 137, 56, 528, 334, 18, 52, 734, 51, 568, 488], [936, 710, 135, 460, 400, 373, 830, 395, 892, 636, 811, 143, 855, 700, 606, 707, 3, 884, 813, 844, 850, 161, 578, 280, 93, 488, 398, 538, 457, 528, 493, 280, 998, 552, 893, 721, 749, 804, 508, 154, 164, 575, 245, 988, 227, 182, 530, 27, 417, 26, 879, 838, 268, 80, 442, 810, 214, 193, 569, 389, 638, 230, 116, 888, 549, 519, 689, 331, 399, 211, 657, 346, 212, 785, 654, 741, 352, 896, 112, 552, 201, 945, 20, 329, 564, 293, 265, 782, 314, 690, 908, 902, 984, 677, 148, 212, 820, 20, 12, 12]]\n"
          ],
          "name": "stdout"
        }
      ]
    },
    {
      "cell_type": "code",
      "metadata": {
        "id": "0Iqy6gySjjgc"
      },
      "source": [
        "signature = []"
      ],
      "execution_count": 46,
      "outputs": []
    },
    {
      "cell_type": "code",
      "metadata": {
        "id": "zE9kRL3bjuIe"
      },
      "source": [
        "for iteration in range(number_of_hashfunctions):\n",
        "  temp = []\n",
        "  for i in range(len(document_vector)):\n",
        "    first_occur = len(shingles)    \n",
        "    for j in range(len(shingles)):\n",
        "      if document_vector[i][j] == 1:\n",
        "        first_occur = min(first_occur, (lst[0][iteration] * j + lst[1][iteration]) % len(shingles) )\n",
        "    temp.append(first_occur)    \n",
        "  signature.append(temp)"
      ],
      "execution_count": 47,
      "outputs": []
    },
    {
      "cell_type": "code",
      "metadata": {
        "colab": {
          "base_uri": "https://localhost:8080/"
        },
        "id": "tSKxxoNrpH3W",
        "outputId": "7180415e-33aa-47d3-f9ec-84cc8aeca7d6"
      },
      "source": [
        "print(signature)"
      ],
      "execution_count": 48,
      "outputs": [
        {
          "output_type": "stream",
          "text": [
            "[[11, 4, 7, 5, 53, 24, 9, 41, 20, 46, 1, 8, 14, 5, 0, 2, 39, 13, 15, 6], [6, 8, 64, 2, 94, 12, 8, 18, 8, 4, 12, 0, 10, 28, 4, 2, 52, 22, 0, 32], [37, 3, 10, 11, 5, 47, 27, 4, 24, 8, 0, 7, 40, 12, 1, 22, 34, 23, 24, 70], [0, 4, 16, 12, 75, 3, 5, 6, 42, 9, 19, 15, 2, 12, 14, 1, 61, 17, 37, 28], [9, 3, 4, 21, 16, 0, 13, 23, 7, 22, 8, 6, 72, 21, 2, 25, 11, 5, 1, 102], [15, 9, 7, 1, 25, 25, 17, 1, 27, 5, 9, 3, 19, 1, 11, 29, 83, 35, 3, 15], [7, 0, 10, 23, 30, 34, 4, 2, 9, 14, 5, 16, 26, 1, 20, 12, 3, 47, 9, 27], [3, 10, 20, 8, 24, 1, 66, 0, 4, 7, 2, 5, 77, 8, 19, 26, 74, 6, 4, 52], [5, 3, 11, 17, 106, 16, 15, 0, 20, 26, 30, 9, 7, 17, 32, 4, 21, 8, 50, 1], [14, 8, 18, 0, 100, 8, 6, 2, 10, 12, 4, 42, 48, 0, 16, 0, 28, 4, 10, 14], [10, 13, 56, 9, 38, 23, 21, 3, 21, 2, 28, 6, 1, 9, 7, 42, 14, 0, 21, 45], [0, 28, 3, 32, 41, 61, 10, 1, 19, 42, 21, 7, 27, 20, 22, 2, 18, 5, 35, 14], [6, 18, 44, 2, 22, 11, 38, 0, 1, 28, 9, 7, 66, 2, 16, 19, 32, 12, 1, 64], [46, 8, 12, 22, 0, 10, 8, 24, 20, 6, 4, 4, 18, 2, 0, 22, 2, 0, 20, 26], [30, 39, 13, 5, 71, 12, 6, 19, 3, 0, 2, 1, 16, 8, 10, 66, 73, 7, 3, 20], [0, 4, 36, 1, 18, 5, 12, 3, 15, 8, 6, 23, 9, 1, 55, 19, 2, 14, 22, 37], [42, 3, 18, 1, 6, 23, 1, 19, 1, 16, 14, 0, 7, 24, 4, 21, 10, 2, 1, 17], [9, 30, 12, 5, 20, 6, 18, 10, 1, 29, 3, 0, 55, 5, 16, 2, 33, 8, 1, 11], [35, 11, 19, 17, 3, 39, 23, 5, 25, 7, 1, 15, 37, 17, 5, 9, 27, 9, 25, 13], [7, 14, 9, 1, 41, 39, 18, 5, 18, 26, 8, 10, 6, 0, 2, 13, 83, 3, 18, 34], [23, 10, 5, 6, 85, 36, 1, 3, 4, 25, 2, 0, 42, 6, 15, 16, 27, 24, 4, 76], [3, 1, 91, 3, 5, 35, 7, 11, 13, 53, 1, 5, 51, 19, 9, 13, 27, 29, 13, 27], [11, 26, 47, 41, 43, 15, 3, 1, 7, 82, 8, 23, 72, 2, 10, 6, 85, 0, 7, 5], [4, 12, 3, 13, 5, 1, 21, 6, 35, 0, 10, 22, 9, 13, 33, 16, 7, 11, 35, 48], [3, 29, 53, 15, 11, 3, 9, 13, 15, 1, 49, 5, 33, 39, 1, 5, 35, 11, 15, 7], [156, 156, 156, 156, 156, 156, 156, 156, 156, 156, 156, 156, 156, 156, 156, 156, 156, 156, 156, 156], [4, 12, 10, 0, 2, 2, 18, 4, 10, 34, 22, 20, 12, 20, 44, 0, 38, 16, 10, 8], [2, 14, 10, 38, 26, 18, 22, 0, 10, 12, 52, 6, 44, 26, 12, 0, 30, 4, 6, 8], [8, 16, 6, 3, 53, 73, 49, 11, 10, 25, 1, 0, 15, 3, 26, 14, 68, 2, 10, 38], [18, 10, 40, 6, 8, 18, 16, 4, 40, 12, 2, 30, 10, 0, 2, 14, 0, 8, 40, 38], [0, 1, 6, 3, 45, 7, 55, 2, 33, 22, 19, 14, 53, 3, 12, 4, 40, 30, 67, 15], [12, 0, 1, 10, 25, 42, 19, 7, 47, 5, 3, 16, 48, 54, 4, 2, 17, 13, 47, 22], [3, 2, 1, 0, 42, 7, 32, 10, 12, 21, 13, 24, 22, 0, 4, 16, 49, 15, 12, 6], [6, 1, 12, 0, 3, 44, 4, 2, 50, 26, 16, 14, 74, 18, 32, 5, 101, 10, 51, 7], [35, 31, 43, 11, 5, 29, 15, 19, 21, 1, 13, 3, 31, 7, 1, 11, 7, 13, 3, 27], [11, 5, 1, 1, 19, 19, 5, 7, 3, 13, 9, 29, 31, 1, 9, 23, 39, 43, 3, 7], [3, 51, 0, 19, 12, 39, 1, 8, 1, 16, 11, 2, 29, 19, 13, 4, 24, 9, 1, 6], [81, 20, 3, 6, 42, 11, 29, 0, 1, 15, 7, 4, 2, 18, 12, 19, 23, 5, 1, 55], [22, 4, 5, 37, 0, 12, 44, 8, 7, 3, 2, 14, 88, 13, 0, 6, 9, 23, 7, 1], [52, 4, 18, 18, 38, 28, 0, 12, 4, 14, 10, 22, 36, 2, 0, 24, 2, 6, 4, 16], [32, 4, 55, 8, 42, 22, 23, 1, 52, 7, 0, 29, 14, 5, 2, 10, 19, 16, 3, 21], [70, 22, 20, 5, 6, 42, 5, 2, 5, 27, 0, 8, 55, 13, 1, 12, 80, 26, 5, 4], [5, 1, 7, 9, 3, 1, 21, 33, 15, 51, 17, 3, 11, 9, 7, 37, 13, 19, 29, 15], [75, 75, 75, 75, 75, 75, 75, 75, 75, 75, 75, 75, 75, 75, 75, 75, 75, 75, 75, 75], [0, 2, 45, 8, 6, 65, 25, 20, 12, 5, 7, 3, 37, 8, 1, 11, 4, 24, 12, 23], [0, 8, 2, 12, 40, 30, 11, 1, 25, 50, 7, 33, 46, 4, 64, 27, 45, 52, 15, 32], [0, 2, 26, 20, 58, 12, 42, 10, 4, 2, 24, 6, 54, 20, 0, 4, 56, 16, 4, 56], [8, 19, 10, 5, 0, 2, 23, 14, 13, 1, 6, 20, 35, 4, 17, 3, 80, 9, 23, 7], [4, 11, 36, 25, 56, 5, 18, 1, 19, 26, 37, 2, 69, 25, 31, 0, 42, 3, 19, 29], [5, 0, 2, 24, 45, 42, 23, 10, 3, 44, 1, 7, 12, 14, 22, 11, 15, 29, 3, 4], [30, 3, 32, 2, 15, 5, 0, 4, 17, 11, 18, 1, 57, 8, 15, 25, 102, 7, 17, 29], [4, 6, 16, 32, 22, 18, 6, 2, 0, 40, 14, 8, 10, 32, 30, 0, 42, 28, 0, 46], [28, 4, 22, 2, 8, 24, 2, 0, 2, 30, 38, 8, 92, 12, 18, 0, 16, 48, 2, 64], [24, 19, 65, 12, 13, 30, 21, 2, 10, 5, 1, 6, 48, 4, 0, 9, 57, 3, 10, 23], [38, 4, 18, 0, 32, 70, 6, 6, 2, 20, 2, 16, 4, 0, 22, 0, 126, 12, 2, 82], [17, 4, 7, 30, 34, 8, 3, 23, 12, 25, 20, 18, 60, 15, 0, 1, 13, 70, 5, 2], [16, 4, 5, 12, 35, 76, 3, 11, 8, 17, 1, 19, 6, 13, 9, 2, 23, 29, 8, 0], [51, 3, 11, 33, 5, 23, 3, 5, 3, 1, 1, 17, 11, 37, 9, 7, 57, 7, 3, 55], [27, 11, 29, 3, 1, 1, 21, 5, 11, 41, 7, 13, 37, 3, 19, 3, 99, 19, 11, 61], [33, 1, 19, 19, 15, 49, 3, 3, 9, 13, 7, 5, 69, 15, 23, 9, 27, 1, 9, 27], [0, 6, 12, 20, 38, 4, 22, 4, 0, 6, 14, 10, 12, 2, 50, 22, 2, 8, 0, 32], [0, 2, 8, 6, 38, 78, 44, 4, 22, 2, 28, 6, 18, 6, 20, 4, 14, 0, 22, 14], [17, 2, 16, 0, 4, 19, 32, 3, 32, 13, 6, 12, 30, 0, 4, 7, 1, 40, 32, 37], [13, 3, 16, 9, 24, 10, 22, 14, 5, 33, 7, 4, 59, 9, 0, 2, 37, 1, 5, 15], [3, 27, 9, 39, 37, 41, 1, 5, 21, 23, 7, 11, 27, 15, 23, 1, 15, 3, 21, 55], [19, 7, 59, 29, 15, 37, 13, 1, 7, 27, 3, 1, 87, 53, 3, 9, 35, 5, 43, 23], [33, 11, 47, 29, 49, 11, 21, 1, 1, 37, 9, 7, 141, 41, 59, 3, 45, 17, 1, 5], [25, 9, 31, 13, 1, 7, 35, 3, 9, 51, 5, 1, 23, 13, 5, 3, 41, 39, 9, 21], [13, 1, 5, 11, 29, 15, 17, 11, 17, 7, 7, 21, 1, 11, 5, 17, 107, 43, 17, 55], [9, 8, 10, 16, 38, 41, 4, 0, 27, 2, 5, 7, 51, 1, 20, 3, 80, 11, 27, 6], [2, 4, 22, 5, 21, 38, 8, 0, 18, 44, 12, 13, 7, 1, 6, 3, 84, 95, 18, 9], [3, 6, 19, 10, 84, 54, 10, 1, 0, 2, 16, 7, 22, 24, 4, 15, 67, 5, 10, 33], [11, 6, 7, 18, 5, 37, 18, 3, 17, 30, 9, 4, 10, 2, 113, 0, 61, 25, 17, 13], [3, 5, 69, 7, 43, 3, 5, 15, 1, 27, 25, 13, 35, 17, 43, 11, 75, 9, 21, 1], [20, 14, 13, 2, 4, 0, 5, 3, 50, 18, 10, 6, 58, 1, 7, 39, 67, 33, 50, 27], [3, 8, 34, 0, 38, 4, 80, 10, 18, 21, 1, 9, 91, 0, 11, 40, 2, 20, 18, 7], [3, 0, 7, 27, 4, 32, 34, 8, 39, 18, 1, 5, 28, 27, 6, 13, 15, 23, 39, 37], [0, 2, 18, 10, 6, 78, 10, 4, 10, 1, 21, 20, 3, 40, 11, 22, 13, 5, 10, 26], [4, 0, 18, 2, 6, 50, 2, 8, 2, 66, 20, 30, 0, 6, 42, 2, 34, 20, 2, 12], [10, 12, 22, 2, 14, 40, 7, 3, 30, 25, 11, 9, 4, 1, 0, 48, 23, 41, 30, 21], [21, 3, 19, 7, 37, 21, 5, 3, 19, 9, 47, 1, 15, 7, 5, 25, 27, 1, 19, 29], [24, 2, 62, 23, 9, 17, 76, 4, 3, 19, 30, 32, 1, 14, 9, 0, 38, 8, 25, 7], [44, 8, 10, 26, 0, 24, 40, 6, 2, 6, 4, 20, 10, 26, 0, 12, 18, 0, 14, 2], [37, 17, 0, 5, 38, 18, 4, 3, 7, 9, 8, 1, 43, 5, 41, 31, 72, 2, 7, 32], [0, 2, 16, 10, 6, 48, 10, 4, 2, 32, 32, 20, 12, 6, 34, 10, 96, 24, 2, 0], [17, 39, 5, 1, 23, 7, 71, 15, 5, 3, 7, 9, 39, 9, 37, 1, 31, 13, 5, 19], [24, 22, 8, 3, 11, 17, 7, 12, 7, 2, 14, 0, 53, 3, 1, 34, 48, 4, 7, 21], [20, 4, 6, 8, 96, 16, 4, 2, 4, 36, 0, 26, 10, 8, 0, 14, 62, 18, 4, 2], [12, 2, 28, 0, 26, 12, 8, 4, 8, 14, 20, 0, 2, 0, 14, 4, 94, 6, 8, 48], [0, 2, 40, 12, 8, 18, 38, 0, 10, 28, 6, 4, 2, 12, 20, 14, 86, 30, 10, 4], [3, 1, 58, 4, 16, 0, 55, 5, 2, 8, 30, 43, 14, 4, 18, 12, 49, 11, 2, 6], [8, 6, 4, 12, 20, 28, 40, 0, 8, 6, 2, 42, 4, 12, 14, 12, 118, 0, 8, 16], [0, 6, 58, 4, 10, 0, 2, 12, 38, 6, 16, 22, 8, 4, 10, 2, 18, 10, 32, 40], [1, 13, 41, 3, 9, 45, 25, 19, 11, 5, 17, 13, 91, 3, 1, 3, 15, 7, 27, 11], [6, 10, 24, 22, 54, 44, 2, 8, 10, 14, 4, 2, 16, 0, 24, 12, 0, 4, 10, 18], [34, 18, 54, 8, 42, 42, 26, 16, 2, 4, 2, 0, 52, 8, 4, 14, 98, 18, 2, 10], [2, 24, 22, 4, 8, 18, 50, 8, 22, 26, 0, 10, 30, 6, 0, 4, 6, 28, 22, 2], [24, 17, 38, 7, 26, 2, 43, 4, 3, 0, 6, 9, 100, 1, 40, 14, 53, 5, 3, 23], [0, 2, 6, 20, 8, 40, 16, 0, 18, 48, 14, 4, 10, 20, 8, 18, 28, 2, 4, 24], [8, 6, 28, 4, 0, 0, 14, 4, 22, 6, 18, 12, 30, 2, 44, 10, 2, 16, 24, 22]]\n"
          ],
          "name": "stdout"
        }
      ]
    },
    {
      "cell_type": "markdown",
      "metadata": {
        "id": "F3me0RN3a7rp"
      },
      "source": [
        "5. Evaluate Min-Hashing<br>\n",
        "(Approximated similarity vs Gold similarity)"
      ]
    },
    {
      "cell_type": "code",
      "metadata": {
        "colab": {
          "base_uri": "https://localhost:8080/"
        },
        "id": "J1DqOEpsCVOF",
        "outputId": "960655e1-1f6c-42b3-ba5d-5f94d2a637b6"
      },
      "source": [
        "print(signature)\n",
        "print(len(signature))\n",
        "print(document_vector)\n",
        "print(len(document_vector))"
      ],
      "execution_count": 49,
      "outputs": [
        {
          "output_type": "stream",
          "text": [
            "[[11, 4, 7, 5, 53, 24, 9, 41, 20, 46, 1, 8, 14, 5, 0, 2, 39, 13, 15, 6], [6, 8, 64, 2, 94, 12, 8, 18, 8, 4, 12, 0, 10, 28, 4, 2, 52, 22, 0, 32], [37, 3, 10, 11, 5, 47, 27, 4, 24, 8, 0, 7, 40, 12, 1, 22, 34, 23, 24, 70], [0, 4, 16, 12, 75, 3, 5, 6, 42, 9, 19, 15, 2, 12, 14, 1, 61, 17, 37, 28], [9, 3, 4, 21, 16, 0, 13, 23, 7, 22, 8, 6, 72, 21, 2, 25, 11, 5, 1, 102], [15, 9, 7, 1, 25, 25, 17, 1, 27, 5, 9, 3, 19, 1, 11, 29, 83, 35, 3, 15], [7, 0, 10, 23, 30, 34, 4, 2, 9, 14, 5, 16, 26, 1, 20, 12, 3, 47, 9, 27], [3, 10, 20, 8, 24, 1, 66, 0, 4, 7, 2, 5, 77, 8, 19, 26, 74, 6, 4, 52], [5, 3, 11, 17, 106, 16, 15, 0, 20, 26, 30, 9, 7, 17, 32, 4, 21, 8, 50, 1], [14, 8, 18, 0, 100, 8, 6, 2, 10, 12, 4, 42, 48, 0, 16, 0, 28, 4, 10, 14], [10, 13, 56, 9, 38, 23, 21, 3, 21, 2, 28, 6, 1, 9, 7, 42, 14, 0, 21, 45], [0, 28, 3, 32, 41, 61, 10, 1, 19, 42, 21, 7, 27, 20, 22, 2, 18, 5, 35, 14], [6, 18, 44, 2, 22, 11, 38, 0, 1, 28, 9, 7, 66, 2, 16, 19, 32, 12, 1, 64], [46, 8, 12, 22, 0, 10, 8, 24, 20, 6, 4, 4, 18, 2, 0, 22, 2, 0, 20, 26], [30, 39, 13, 5, 71, 12, 6, 19, 3, 0, 2, 1, 16, 8, 10, 66, 73, 7, 3, 20], [0, 4, 36, 1, 18, 5, 12, 3, 15, 8, 6, 23, 9, 1, 55, 19, 2, 14, 22, 37], [42, 3, 18, 1, 6, 23, 1, 19, 1, 16, 14, 0, 7, 24, 4, 21, 10, 2, 1, 17], [9, 30, 12, 5, 20, 6, 18, 10, 1, 29, 3, 0, 55, 5, 16, 2, 33, 8, 1, 11], [35, 11, 19, 17, 3, 39, 23, 5, 25, 7, 1, 15, 37, 17, 5, 9, 27, 9, 25, 13], [7, 14, 9, 1, 41, 39, 18, 5, 18, 26, 8, 10, 6, 0, 2, 13, 83, 3, 18, 34], [23, 10, 5, 6, 85, 36, 1, 3, 4, 25, 2, 0, 42, 6, 15, 16, 27, 24, 4, 76], [3, 1, 91, 3, 5, 35, 7, 11, 13, 53, 1, 5, 51, 19, 9, 13, 27, 29, 13, 27], [11, 26, 47, 41, 43, 15, 3, 1, 7, 82, 8, 23, 72, 2, 10, 6, 85, 0, 7, 5], [4, 12, 3, 13, 5, 1, 21, 6, 35, 0, 10, 22, 9, 13, 33, 16, 7, 11, 35, 48], [3, 29, 53, 15, 11, 3, 9, 13, 15, 1, 49, 5, 33, 39, 1, 5, 35, 11, 15, 7], [156, 156, 156, 156, 156, 156, 156, 156, 156, 156, 156, 156, 156, 156, 156, 156, 156, 156, 156, 156], [4, 12, 10, 0, 2, 2, 18, 4, 10, 34, 22, 20, 12, 20, 44, 0, 38, 16, 10, 8], [2, 14, 10, 38, 26, 18, 22, 0, 10, 12, 52, 6, 44, 26, 12, 0, 30, 4, 6, 8], [8, 16, 6, 3, 53, 73, 49, 11, 10, 25, 1, 0, 15, 3, 26, 14, 68, 2, 10, 38], [18, 10, 40, 6, 8, 18, 16, 4, 40, 12, 2, 30, 10, 0, 2, 14, 0, 8, 40, 38], [0, 1, 6, 3, 45, 7, 55, 2, 33, 22, 19, 14, 53, 3, 12, 4, 40, 30, 67, 15], [12, 0, 1, 10, 25, 42, 19, 7, 47, 5, 3, 16, 48, 54, 4, 2, 17, 13, 47, 22], [3, 2, 1, 0, 42, 7, 32, 10, 12, 21, 13, 24, 22, 0, 4, 16, 49, 15, 12, 6], [6, 1, 12, 0, 3, 44, 4, 2, 50, 26, 16, 14, 74, 18, 32, 5, 101, 10, 51, 7], [35, 31, 43, 11, 5, 29, 15, 19, 21, 1, 13, 3, 31, 7, 1, 11, 7, 13, 3, 27], [11, 5, 1, 1, 19, 19, 5, 7, 3, 13, 9, 29, 31, 1, 9, 23, 39, 43, 3, 7], [3, 51, 0, 19, 12, 39, 1, 8, 1, 16, 11, 2, 29, 19, 13, 4, 24, 9, 1, 6], [81, 20, 3, 6, 42, 11, 29, 0, 1, 15, 7, 4, 2, 18, 12, 19, 23, 5, 1, 55], [22, 4, 5, 37, 0, 12, 44, 8, 7, 3, 2, 14, 88, 13, 0, 6, 9, 23, 7, 1], [52, 4, 18, 18, 38, 28, 0, 12, 4, 14, 10, 22, 36, 2, 0, 24, 2, 6, 4, 16], [32, 4, 55, 8, 42, 22, 23, 1, 52, 7, 0, 29, 14, 5, 2, 10, 19, 16, 3, 21], [70, 22, 20, 5, 6, 42, 5, 2, 5, 27, 0, 8, 55, 13, 1, 12, 80, 26, 5, 4], [5, 1, 7, 9, 3, 1, 21, 33, 15, 51, 17, 3, 11, 9, 7, 37, 13, 19, 29, 15], [75, 75, 75, 75, 75, 75, 75, 75, 75, 75, 75, 75, 75, 75, 75, 75, 75, 75, 75, 75], [0, 2, 45, 8, 6, 65, 25, 20, 12, 5, 7, 3, 37, 8, 1, 11, 4, 24, 12, 23], [0, 8, 2, 12, 40, 30, 11, 1, 25, 50, 7, 33, 46, 4, 64, 27, 45, 52, 15, 32], [0, 2, 26, 20, 58, 12, 42, 10, 4, 2, 24, 6, 54, 20, 0, 4, 56, 16, 4, 56], [8, 19, 10, 5, 0, 2, 23, 14, 13, 1, 6, 20, 35, 4, 17, 3, 80, 9, 23, 7], [4, 11, 36, 25, 56, 5, 18, 1, 19, 26, 37, 2, 69, 25, 31, 0, 42, 3, 19, 29], [5, 0, 2, 24, 45, 42, 23, 10, 3, 44, 1, 7, 12, 14, 22, 11, 15, 29, 3, 4], [30, 3, 32, 2, 15, 5, 0, 4, 17, 11, 18, 1, 57, 8, 15, 25, 102, 7, 17, 29], [4, 6, 16, 32, 22, 18, 6, 2, 0, 40, 14, 8, 10, 32, 30, 0, 42, 28, 0, 46], [28, 4, 22, 2, 8, 24, 2, 0, 2, 30, 38, 8, 92, 12, 18, 0, 16, 48, 2, 64], [24, 19, 65, 12, 13, 30, 21, 2, 10, 5, 1, 6, 48, 4, 0, 9, 57, 3, 10, 23], [38, 4, 18, 0, 32, 70, 6, 6, 2, 20, 2, 16, 4, 0, 22, 0, 126, 12, 2, 82], [17, 4, 7, 30, 34, 8, 3, 23, 12, 25, 20, 18, 60, 15, 0, 1, 13, 70, 5, 2], [16, 4, 5, 12, 35, 76, 3, 11, 8, 17, 1, 19, 6, 13, 9, 2, 23, 29, 8, 0], [51, 3, 11, 33, 5, 23, 3, 5, 3, 1, 1, 17, 11, 37, 9, 7, 57, 7, 3, 55], [27, 11, 29, 3, 1, 1, 21, 5, 11, 41, 7, 13, 37, 3, 19, 3, 99, 19, 11, 61], [33, 1, 19, 19, 15, 49, 3, 3, 9, 13, 7, 5, 69, 15, 23, 9, 27, 1, 9, 27], [0, 6, 12, 20, 38, 4, 22, 4, 0, 6, 14, 10, 12, 2, 50, 22, 2, 8, 0, 32], [0, 2, 8, 6, 38, 78, 44, 4, 22, 2, 28, 6, 18, 6, 20, 4, 14, 0, 22, 14], [17, 2, 16, 0, 4, 19, 32, 3, 32, 13, 6, 12, 30, 0, 4, 7, 1, 40, 32, 37], [13, 3, 16, 9, 24, 10, 22, 14, 5, 33, 7, 4, 59, 9, 0, 2, 37, 1, 5, 15], [3, 27, 9, 39, 37, 41, 1, 5, 21, 23, 7, 11, 27, 15, 23, 1, 15, 3, 21, 55], [19, 7, 59, 29, 15, 37, 13, 1, 7, 27, 3, 1, 87, 53, 3, 9, 35, 5, 43, 23], [33, 11, 47, 29, 49, 11, 21, 1, 1, 37, 9, 7, 141, 41, 59, 3, 45, 17, 1, 5], [25, 9, 31, 13, 1, 7, 35, 3, 9, 51, 5, 1, 23, 13, 5, 3, 41, 39, 9, 21], [13, 1, 5, 11, 29, 15, 17, 11, 17, 7, 7, 21, 1, 11, 5, 17, 107, 43, 17, 55], [9, 8, 10, 16, 38, 41, 4, 0, 27, 2, 5, 7, 51, 1, 20, 3, 80, 11, 27, 6], [2, 4, 22, 5, 21, 38, 8, 0, 18, 44, 12, 13, 7, 1, 6, 3, 84, 95, 18, 9], [3, 6, 19, 10, 84, 54, 10, 1, 0, 2, 16, 7, 22, 24, 4, 15, 67, 5, 10, 33], [11, 6, 7, 18, 5, 37, 18, 3, 17, 30, 9, 4, 10, 2, 113, 0, 61, 25, 17, 13], [3, 5, 69, 7, 43, 3, 5, 15, 1, 27, 25, 13, 35, 17, 43, 11, 75, 9, 21, 1], [20, 14, 13, 2, 4, 0, 5, 3, 50, 18, 10, 6, 58, 1, 7, 39, 67, 33, 50, 27], [3, 8, 34, 0, 38, 4, 80, 10, 18, 21, 1, 9, 91, 0, 11, 40, 2, 20, 18, 7], [3, 0, 7, 27, 4, 32, 34, 8, 39, 18, 1, 5, 28, 27, 6, 13, 15, 23, 39, 37], [0, 2, 18, 10, 6, 78, 10, 4, 10, 1, 21, 20, 3, 40, 11, 22, 13, 5, 10, 26], [4, 0, 18, 2, 6, 50, 2, 8, 2, 66, 20, 30, 0, 6, 42, 2, 34, 20, 2, 12], [10, 12, 22, 2, 14, 40, 7, 3, 30, 25, 11, 9, 4, 1, 0, 48, 23, 41, 30, 21], [21, 3, 19, 7, 37, 21, 5, 3, 19, 9, 47, 1, 15, 7, 5, 25, 27, 1, 19, 29], [24, 2, 62, 23, 9, 17, 76, 4, 3, 19, 30, 32, 1, 14, 9, 0, 38, 8, 25, 7], [44, 8, 10, 26, 0, 24, 40, 6, 2, 6, 4, 20, 10, 26, 0, 12, 18, 0, 14, 2], [37, 17, 0, 5, 38, 18, 4, 3, 7, 9, 8, 1, 43, 5, 41, 31, 72, 2, 7, 32], [0, 2, 16, 10, 6, 48, 10, 4, 2, 32, 32, 20, 12, 6, 34, 10, 96, 24, 2, 0], [17, 39, 5, 1, 23, 7, 71, 15, 5, 3, 7, 9, 39, 9, 37, 1, 31, 13, 5, 19], [24, 22, 8, 3, 11, 17, 7, 12, 7, 2, 14, 0, 53, 3, 1, 34, 48, 4, 7, 21], [20, 4, 6, 8, 96, 16, 4, 2, 4, 36, 0, 26, 10, 8, 0, 14, 62, 18, 4, 2], [12, 2, 28, 0, 26, 12, 8, 4, 8, 14, 20, 0, 2, 0, 14, 4, 94, 6, 8, 48], [0, 2, 40, 12, 8, 18, 38, 0, 10, 28, 6, 4, 2, 12, 20, 14, 86, 30, 10, 4], [3, 1, 58, 4, 16, 0, 55, 5, 2, 8, 30, 43, 14, 4, 18, 12, 49, 11, 2, 6], [8, 6, 4, 12, 20, 28, 40, 0, 8, 6, 2, 42, 4, 12, 14, 12, 118, 0, 8, 16], [0, 6, 58, 4, 10, 0, 2, 12, 38, 6, 16, 22, 8, 4, 10, 2, 18, 10, 32, 40], [1, 13, 41, 3, 9, 45, 25, 19, 11, 5, 17, 13, 91, 3, 1, 3, 15, 7, 27, 11], [6, 10, 24, 22, 54, 44, 2, 8, 10, 14, 4, 2, 16, 0, 24, 12, 0, 4, 10, 18], [34, 18, 54, 8, 42, 42, 26, 16, 2, 4, 2, 0, 52, 8, 4, 14, 98, 18, 2, 10], [2, 24, 22, 4, 8, 18, 50, 8, 22, 26, 0, 10, 30, 6, 0, 4, 6, 28, 22, 2], [24, 17, 38, 7, 26, 2, 43, 4, 3, 0, 6, 9, 100, 1, 40, 14, 53, 5, 3, 23], [0, 2, 6, 20, 8, 40, 16, 0, 18, 48, 14, 4, 10, 20, 8, 18, 28, 2, 4, 24], [8, 6, 28, 4, 0, 0, 14, 4, 22, 6, 18, 12, 30, 2, 44, 10, 2, 16, 24, 22]]\n",
            "100\n",
            "[[0, 0, 0, 0, 0, 0, 0, 0, 0, 0, 0, 0, 0, 0, 0, 0, 0, 1, 0, 0, 0, 0, 0, 0, 0, 0, 0, 0, 0, 0, 0, 0, 0, 0, 0, 0, 0, 0, 0, 0, 0, 0, 0, 0, 0, 0, 0, 0, 0, 0, 0, 0, 0, 1, 0, 0, 0, 0, 0, 0, 0, 0, 0, 0, 0, 0, 0, 0, 0, 0, 1, 0, 0, 0, 0, 0, 0, 1, 0, 0, 0, 0, 0, 0, 0, 0, 0, 0, 0, 0, 0, 0, 0, 0, 0, 0, 0, 0, 0, 0, 0, 0, 0, 0, 0, 0, 0, 0, 0, 0, 0, 0, 1, 0, 1, 0, 0, 0, 0, 0, 0, 0, 0, 0, 0, 1, 0, 0, 0, 0, 0, 0, 0, 0, 0, 1, 0, 0, 0, 0, 0, 0, 0, 0, 0, 0, 0, 0, 0, 0, 0, 0, 0, 0, 0, 0, 0, 0, 0, 0, 0, 0, 0, 0, 0, 0], [1, 0, 0, 0, 0, 0, 0, 0, 0, 0, 0, 0, 0, 1, 0, 0, 0, 0, 0, 1, 1, 0, 0, 0, 0, 0, 0, 0, 0, 0, 0, 0, 0, 0, 0, 0, 0, 1, 0, 1, 0, 0, 0, 0, 0, 0, 0, 0, 0, 0, 0, 0, 0, 0, 0, 0, 1, 0, 0, 0, 0, 0, 0, 0, 0, 0, 0, 0, 0, 0, 0, 0, 0, 0, 0, 0, 0, 0, 0, 0, 0, 0, 0, 0, 0, 0, 0, 0, 0, 0, 0, 0, 0, 0, 0, 0, 0, 0, 0, 0, 0, 0, 0, 0, 0, 0, 0, 0, 1, 0, 1, 0, 0, 0, 0, 0, 0, 0, 1, 0, 0, 0, 0, 0, 0, 0, 0, 0, 0, 0, 0, 1, 0, 0, 0, 0, 0, 0, 0, 0, 0, 0, 0, 0, 0, 0, 0, 0, 0, 0, 1, 0, 0, 0, 1, 0, 0, 1, 0, 0, 0, 0, 0, 0, 0, 0], [0, 0, 0, 0, 0, 0, 0, 0, 0, 0, 0, 0, 0, 0, 0, 0, 0, 0, 0, 0, 0, 0, 0, 0, 0, 0, 0, 0, 0, 0, 0, 0, 0, 0, 0, 0, 0, 0, 0, 0, 0, 0, 0, 0, 0, 0, 0, 0, 0, 0, 0, 0, 0, 0, 0, 0, 0, 0, 0, 0, 0, 0, 0, 0, 0, 0, 0, 0, 0, 0, 0, 0, 0, 0, 0, 0, 0, 0, 0, 0, 0, 0, 0, 0, 0, 0, 0, 0, 0, 0, 0, 0, 0, 0, 0, 0, 0, 1, 1, 0, 0, 0, 0, 0, 0, 0, 0, 0, 0, 1, 0, 0, 0, 1, 0, 0, 0, 0, 0, 0, 0, 0, 0, 0, 0, 0, 0, 0, 0, 0, 0, 0, 0, 0, 0, 0, 0, 0, 1, 0, 0, 0, 0, 0, 0, 0, 0, 1, 0, 0, 0, 0, 0, 0, 0, 0, 0, 0, 0, 0, 0, 0, 0, 0, 0, 0], [0, 0, 0, 1, 0, 0, 0, 0, 0, 0, 0, 0, 0, 0, 1, 0, 0, 0, 0, 0, 0, 0, 0, 0, 0, 0, 0, 0, 1, 0, 0, 0, 0, 0, 1, 0, 0, 0, 0, 0, 0, 0, 0, 0, 0, 0, 0, 0, 0, 0, 0, 0, 0, 0, 0, 0, 0, 0, 0, 0, 1, 0, 0, 0, 0, 0, 0, 0, 0, 0, 0, 0, 0, 0, 0, 0, 0, 0, 0, 0, 0, 0, 0, 0, 0, 0, 0, 0, 0, 0, 0, 0, 0, 0, 0, 0, 0, 0, 0, 0, 0, 0, 0, 0, 0, 0, 0, 0, 0, 0, 0, 0, 0, 0, 0, 0, 0, 0, 0, 0, 0, 0, 0, 0, 0, 0, 1, 0, 0, 0, 0, 0, 0, 1, 0, 0, 1, 0, 0, 0, 0, 0, 1, 0, 0, 0, 0, 0, 0, 0, 0, 0, 0, 0, 0, 0, 0, 0, 0, 1, 0, 1, 0, 0, 0, 0], [0, 0, 0, 0, 0, 0, 0, 0, 0, 0, 0, 0, 0, 0, 0, 0, 0, 0, 0, 0, 0, 0, 0, 0, 0, 0, 0, 0, 0, 0, 0, 0, 0, 0, 0, 0, 0, 0, 0, 0, 0, 0, 0, 0, 0, 0, 0, 0, 0, 0, 0, 1, 0, 0, 0, 0, 0, 0, 0, 0, 0, 0, 0, 0, 0, 0, 0, 0, 0, 0, 0, 0, 0, 0, 0, 0, 0, 0, 0, 0, 0, 0, 0, 0, 0, 0, 0, 1, 1, 0, 0, 0, 0, 0, 0, 0, 0, 0, 0, 0, 0, 0, 0, 0, 0, 0, 0, 0, 0, 0, 0, 0, 0, 0, 0, 0, 0, 0, 0, 1, 0, 0, 0, 0, 0, 0, 0, 0, 1, 0, 0, 0, 0, 0, 0, 0, 0, 0, 0, 0, 0, 0, 0, 0, 0, 0, 0, 0, 0, 0, 0, 0, 0, 0, 0, 0, 0, 0, 0, 0, 0, 0, 0, 0, 1, 0], [0, 0, 0, 0, 0, 0, 0, 0, 0, 0, 0, 0, 0, 0, 0, 0, 0, 0, 0, 0, 0, 0, 0, 0, 0, 0, 0, 0, 0, 0, 0, 0, 0, 0, 0, 0, 0, 0, 0, 0, 0, 0, 0, 0, 0, 0, 0, 0, 0, 0, 0, 0, 0, 0, 0, 0, 0, 0, 0, 0, 0, 0, 0, 0, 0, 0, 0, 0, 1, 0, 0, 0, 0, 0, 1, 0, 0, 0, 0, 0, 0, 0, 0, 0, 0, 0, 0, 0, 0, 0, 0, 0, 0, 0, 0, 0, 0, 0, 0, 1, 1, 0, 0, 0, 0, 0, 0, 0, 0, 0, 0, 0, 0, 0, 0, 0, 0, 0, 0, 0, 0, 0, 0, 0, 0, 0, 0, 0, 0, 0, 0, 0, 0, 0, 1, 0, 0, 0, 0, 0, 0, 0, 0, 0, 0, 0, 0, 0, 0, 0, 0, 0, 0, 0, 0, 0, 0, 0, 0, 0, 0, 0, 0, 0, 0, 0], [0, 0, 0, 0, 0, 0, 1, 0, 0, 0, 0, 0, 0, 0, 0, 0, 0, 0, 0, 0, 0, 0, 0, 0, 0, 0, 0, 0, 0, 0, 0, 0, 0, 1, 0, 1, 0, 0, 0, 0, 0, 0, 0, 0, 0, 0, 0, 0, 0, 0, 0, 0, 0, 0, 0, 0, 0, 0, 0, 0, 0, 0, 0, 0, 0, 0, 0, 0, 0, 0, 0, 0, 0, 0, 0, 0, 0, 0, 0, 0, 0, 0, 0, 0, 0, 0, 0, 0, 0, 0, 0, 0, 0, 0, 0, 0, 1, 0, 0, 0, 0, 0, 0, 0, 0, 0, 0, 0, 0, 0, 0, 0, 0, 0, 0, 0, 0, 0, 0, 0, 0, 1, 0, 0, 0, 0, 0, 0, 0, 0, 0, 0, 0, 0, 0, 0, 0, 0, 0, 0, 0, 0, 1, 0, 0, 0, 0, 0, 0, 0, 0, 0, 0, 0, 0, 1, 0, 0, 0, 0, 0, 0, 0, 0, 0, 0], [0, 0, 0, 0, 0, 1, 0, 0, 0, 1, 0, 0, 0, 0, 0, 1, 0, 0, 0, 0, 0, 0, 0, 1, 0, 0, 1, 1, 0, 0, 0, 0, 0, 0, 0, 0, 0, 0, 0, 0, 0, 0, 1, 0, 0, 0, 0, 0, 0, 0, 0, 0, 1, 0, 0, 0, 0, 0, 0, 0, 0, 1, 0, 0, 0, 0, 1, 0, 0, 0, 0, 0, 0, 0, 0, 0, 0, 0, 0, 0, 0, 0, 0, 0, 0, 0, 1, 0, 0, 0, 0, 1, 1, 0, 0, 0, 0, 0, 0, 0, 0, 1, 0, 0, 0, 1, 0, 0, 0, 0, 0, 0, 0, 0, 0, 1, 1, 1, 0, 0, 0, 0, 0, 0, 1, 0, 0, 0, 0, 0, 0, 0, 0, 0, 0, 0, 0, 1, 0, 0, 0, 1, 0, 0, 0, 1, 0, 0, 0, 0, 0, 1, 0, 0, 0, 0, 1, 0, 0, 0, 0, 0, 0, 0, 0, 0], [0, 0, 0, 0, 0, 0, 0, 0, 0, 0, 0, 0, 0, 0, 0, 0, 0, 0, 0, 0, 0, 0, 0, 0, 0, 0, 0, 0, 0, 0, 0, 0, 1, 0, 0, 0, 0, 0, 0, 0, 0, 0, 0, 0, 0, 0, 0, 0, 0, 0, 0, 0, 0, 0, 0, 1, 0, 0, 0, 0, 0, 0, 0, 0, 0, 0, 0, 0, 0, 0, 0, 0, 0, 0, 0, 0, 0, 0, 0, 0, 0, 0, 1, 0, 0, 0, 0, 0, 0, 0, 0, 0, 0, 0, 0, 0, 1, 0, 0, 0, 0, 0, 0, 1, 0, 0, 0, 0, 0, 0, 0, 0, 0, 0, 0, 0, 0, 0, 0, 0, 1, 0, 0, 0, 0, 0, 0, 0, 0, 0, 0, 0, 0, 0, 0, 0, 0, 0, 0, 0, 1, 0, 1, 0, 0, 0, 1, 0, 0, 0, 0, 0, 0, 1, 0, 0, 0, 0, 0, 0, 0, 0, 0, 0, 0, 0], [0, 0, 0, 0, 0, 0, 0, 0, 0, 0, 1, 1, 0, 0, 0, 0, 0, 0, 0, 0, 0, 0, 0, 0, 0, 0, 0, 0, 0, 0, 0, 0, 0, 0, 0, 0, 0, 0, 0, 0, 0, 0, 0, 0, 0, 0, 0, 0, 0, 0, 0, 0, 0, 0, 0, 0, 0, 0, 0, 0, 0, 0, 0, 0, 0, 0, 0, 1, 0, 0, 0, 0, 0, 1, 0, 0, 0, 0, 0, 1, 0, 0, 0, 0, 0, 0, 0, 0, 0, 0, 0, 0, 0, 0, 1, 0, 0, 0, 0, 0, 0, 0, 0, 0, 1, 0, 0, 0, 0, 0, 0, 0, 0, 0, 0, 0, 0, 0, 0, 0, 0, 0, 0, 0, 0, 0, 0, 0, 0, 0, 0, 0, 0, 0, 0, 0, 0, 0, 0, 0, 0, 0, 0, 0, 0, 0, 0, 0, 0, 0, 0, 0, 0, 0, 0, 0, 0, 0, 0, 0, 0, 0, 0, 0, 0, 0], [0, 0, 0, 0, 0, 0, 0, 0, 0, 0, 0, 0, 1, 0, 0, 0, 1, 0, 0, 0, 0, 1, 0, 0, 0, 0, 0, 0, 0, 0, 0, 0, 0, 0, 0, 0, 1, 0, 0, 0, 0, 0, 0, 0, 0, 0, 0, 0, 0, 1, 0, 0, 0, 0, 0, 0, 0, 0, 0, 0, 0, 0, 0, 1, 0, 0, 0, 0, 0, 0, 0, 0, 0, 0, 0, 1, 0, 0, 0, 0, 0, 0, 0, 0, 0, 1, 0, 0, 0, 0, 0, 0, 0, 0, 0, 0, 0, 0, 0, 0, 0, 0, 1, 0, 0, 0, 0, 0, 0, 0, 0, 0, 0, 0, 0, 0, 0, 0, 0, 0, 0, 0, 0, 1, 0, 0, 0, 0, 0, 0, 0, 0, 1, 0, 0, 0, 0, 0, 0, 0, 0, 0, 0, 0, 1, 0, 0, 0, 0, 0, 0, 0, 0, 0, 0, 0, 0, 0, 0, 0, 0, 0, 0, 0, 0, 0], [0, 0, 0, 0, 1, 0, 0, 0, 0, 0, 0, 0, 0, 0, 0, 0, 0, 0, 0, 0, 0, 0, 0, 0, 1, 0, 0, 0, 0, 0, 0, 0, 0, 0, 0, 0, 0, 0, 1, 0, 1, 1, 0, 0, 1, 0, 0, 1, 0, 0, 0, 0, 0, 0, 0, 0, 0, 0, 0, 0, 0, 0, 1, 0, 0, 0, 0, 0, 0, 0, 0, 0, 0, 0, 0, 0, 0, 0, 0, 0, 0, 0, 0, 1, 0, 0, 0, 0, 0, 0, 1, 0, 0, 0, 0, 0, 0, 0, 0, 0, 0, 0, 0, 0, 0, 0, 0, 0, 0, 0, 0, 0, 0, 0, 0, 0, 0, 0, 0, 0, 0, 0, 0, 0, 0, 0, 0, 0, 0, 0, 1, 0, 0, 0, 0, 0, 0, 0, 0, 0, 0, 0, 0, 1, 0, 0, 0, 0, 1, 0, 0, 0, 0, 0, 0, 0, 0, 0, 0, 0, 0, 0, 0, 0, 0, 0], [0, 0, 0, 0, 0, 0, 0, 0, 0, 0, 0, 0, 0, 0, 0, 0, 0, 0, 0, 0, 0, 0, 0, 0, 0, 0, 0, 0, 0, 0, 0, 0, 0, 0, 0, 0, 0, 0, 0, 0, 0, 0, 0, 0, 0, 0, 0, 0, 1, 0, 0, 0, 0, 0, 0, 0, 0, 0, 0, 0, 0, 0, 0, 0, 1, 0, 0, 0, 0, 0, 0, 0, 0, 0, 0, 0, 0, 0, 0, 0, 0, 0, 0, 0, 0, 0, 0, 0, 0, 0, 0, 0, 0, 0, 0, 0, 0, 0, 0, 0, 0, 0, 0, 0, 0, 0, 0, 0, 0, 0, 0, 0, 0, 0, 0, 0, 0, 0, 0, 0, 0, 0, 1, 0, 0, 0, 0, 0, 0, 0, 0, 0, 0, 0, 0, 0, 0, 0, 0, 1, 0, 0, 0, 0, 0, 0, 0, 0, 0, 0, 0, 0, 0, 0, 0, 0, 0, 0, 0, 0, 0, 0, 0, 0, 0, 0], [0, 0, 0, 1, 0, 0, 0, 0, 0, 0, 0, 0, 0, 0, 1, 0, 0, 0, 0, 0, 0, 0, 0, 0, 0, 0, 0, 0, 1, 0, 0, 0, 0, 0, 1, 0, 0, 0, 0, 0, 0, 0, 0, 1, 0, 0, 0, 0, 0, 0, 0, 0, 0, 0, 0, 0, 0, 0, 0, 0, 1, 0, 0, 0, 0, 0, 0, 0, 0, 0, 0, 0, 0, 0, 0, 0, 0, 0, 0, 0, 0, 1, 0, 0, 1, 0, 0, 0, 0, 0, 0, 0, 0, 0, 0, 0, 0, 0, 0, 0, 0, 0, 0, 0, 0, 0, 0, 0, 0, 0, 0, 1, 0, 0, 0, 0, 0, 0, 0, 0, 0, 0, 0, 0, 0, 0, 0, 0, 0, 0, 0, 0, 0, 0, 0, 0, 0, 0, 0, 0, 0, 0, 0, 0, 0, 0, 0, 0, 0, 0, 0, 0, 1, 0, 0, 0, 0, 0, 0, 1, 0, 1, 0, 0, 0, 0], [0, 0, 0, 0, 0, 0, 0, 0, 0, 0, 0, 0, 0, 0, 0, 0, 0, 0, 0, 0, 0, 0, 0, 0, 0, 0, 0, 0, 0, 0, 1, 0, 0, 0, 0, 0, 0, 0, 0, 0, 0, 0, 0, 0, 0, 0, 0, 0, 0, 0, 0, 0, 0, 0, 0, 0, 0, 0, 0, 0, 0, 0, 0, 0, 0, 0, 0, 0, 0, 0, 0, 0, 1, 0, 0, 0, 0, 0, 0, 0, 0, 0, 0, 0, 0, 0, 0, 0, 0, 0, 0, 0, 0, 1, 0, 1, 0, 0, 0, 0, 0, 0, 0, 0, 0, 0, 1, 0, 0, 0, 0, 0, 0, 0, 0, 0, 0, 0, 0, 0, 0, 0, 0, 0, 0, 0, 0, 0, 1, 0, 0, 0, 0, 0, 0, 0, 0, 0, 0, 0, 0, 0, 0, 0, 0, 0, 0, 0, 0, 0, 0, 0, 0, 0, 0, 0, 0, 0, 0, 0, 1, 0, 1, 0, 0, 0], [0, 0, 0, 0, 0, 0, 0, 0, 1, 0, 0, 0, 0, 0, 0, 0, 0, 0, 1, 0, 0, 0, 1, 0, 0, 0, 0, 0, 0, 0, 0, 0, 0, 0, 0, 0, 0, 0, 0, 0, 0, 0, 0, 0, 0, 0, 0, 0, 0, 0, 1, 0, 0, 0, 0, 0, 0, 1, 0, 1, 0, 0, 0, 0, 0, 0, 0, 0, 0, 0, 0, 0, 0, 0, 0, 0, 1, 0, 1, 0, 0, 0, 0, 0, 0, 0, 0, 0, 0, 1, 0, 0, 0, 0, 0, 0, 0, 0, 0, 0, 0, 0, 0, 0, 0, 0, 0, 1, 0, 0, 0, 0, 0, 0, 0, 0, 0, 0, 0, 0, 0, 0, 0, 0, 0, 0, 0, 0, 0, 0, 0, 0, 0, 0, 0, 0, 0, 0, 0, 0, 0, 0, 0, 0, 0, 0, 0, 0, 0, 0, 0, 0, 0, 0, 0, 0, 0, 0, 0, 0, 0, 0, 0, 1, 0, 0], [0, 1, 0, 0, 0, 0, 0, 0, 0, 0, 0, 0, 0, 0, 0, 0, 0, 0, 0, 0, 0, 0, 0, 0, 0, 0, 0, 0, 0, 0, 0, 0, 0, 0, 0, 0, 0, 0, 0, 0, 0, 0, 0, 0, 0, 0, 0, 0, 0, 0, 0, 0, 0, 0, 0, 0, 0, 0, 0, 0, 0, 0, 0, 0, 0, 0, 0, 0, 0, 1, 0, 0, 0, 0, 0, 0, 0, 0, 0, 0, 0, 0, 0, 0, 0, 0, 0, 0, 0, 0, 0, 0, 0, 0, 0, 0, 0, 0, 0, 0, 0, 0, 0, 0, 0, 0, 0, 0, 0, 0, 0, 0, 0, 0, 0, 0, 0, 0, 0, 0, 0, 0, 0, 0, 0, 0, 0, 0, 0, 1, 0, 0, 0, 0, 0, 0, 0, 0, 0, 0, 0, 0, 0, 0, 0, 0, 0, 0, 0, 0, 0, 0, 0, 0, 0, 0, 0, 0, 0, 0, 0, 0, 0, 0, 0, 0], [0, 0, 0, 0, 0, 0, 0, 0, 0, 0, 0, 0, 0, 0, 0, 0, 0, 0, 0, 0, 0, 0, 0, 0, 0, 1, 0, 0, 0, 1, 0, 0, 0, 0, 0, 0, 0, 0, 0, 0, 0, 0, 0, 0, 0, 1, 0, 0, 0, 0, 0, 0, 0, 0, 0, 0, 0, 0, 1, 0, 0, 0, 0, 0, 0, 1, 0, 0, 0, 0, 0, 1, 0, 0, 0, 0, 0, 0, 0, 0, 1, 0, 0, 0, 0, 0, 0, 0, 0, 0, 0, 0, 0, 0, 0, 0, 0, 0, 0, 0, 0, 0, 0, 0, 0, 0, 0, 0, 0, 0, 0, 0, 0, 0, 0, 0, 0, 0, 0, 0, 0, 0, 0, 0, 0, 0, 0, 0, 0, 0, 0, 0, 0, 0, 0, 0, 0, 0, 0, 0, 0, 0, 0, 0, 0, 0, 0, 0, 0, 1, 0, 0, 0, 0, 0, 0, 0, 0, 1, 0, 0, 0, 0, 0, 0, 0], [0, 0, 0, 0, 0, 0, 0, 1, 0, 0, 0, 0, 0, 0, 0, 0, 0, 0, 0, 0, 0, 0, 0, 0, 0, 0, 0, 0, 0, 0, 0, 0, 1, 0, 0, 0, 0, 0, 0, 0, 0, 0, 0, 0, 0, 0, 0, 0, 0, 0, 0, 0, 0, 0, 0, 1, 0, 0, 0, 0, 0, 0, 0, 0, 0, 0, 0, 0, 0, 0, 0, 0, 0, 0, 0, 0, 0, 0, 0, 0, 0, 0, 0, 0, 0, 0, 0, 0, 0, 0, 0, 0, 0, 0, 0, 0, 1, 0, 0, 0, 0, 0, 0, 1, 0, 0, 0, 0, 0, 0, 0, 0, 0, 0, 0, 0, 0, 0, 0, 0, 0, 0, 0, 0, 0, 0, 0, 0, 0, 0, 0, 0, 0, 0, 0, 0, 0, 0, 0, 0, 1, 0, 1, 0, 0, 0, 1, 0, 0, 0, 0, 0, 0, 1, 0, 0, 0, 0, 0, 0, 0, 0, 0, 0, 0, 0], [0, 0, 1, 0, 0, 0, 0, 0, 0, 0, 0, 0, 0, 0, 0, 0, 0, 0, 0, 0, 0, 0, 0, 0, 0, 0, 0, 0, 0, 0, 0, 1, 0, 0, 0, 0, 0, 0, 0, 0, 0, 0, 0, 0, 0, 0, 1, 0, 0, 0, 0, 0, 0, 0, 1, 0, 0, 0, 0, 0, 0, 0, 0, 0, 0, 0, 0, 0, 0, 0, 0, 0, 0, 0, 0, 0, 0, 0, 0, 0, 0, 0, 0, 0, 0, 0, 0, 0, 0, 0, 0, 0, 0, 0, 0, 0, 0, 0, 0, 0, 0, 0, 0, 0, 0, 0, 0, 0, 0, 0, 0, 0, 0, 0, 0, 0, 0, 0, 0, 0, 0, 0, 0, 0, 0, 0, 0, 1, 0, 0, 0, 0, 0, 0, 0, 0, 0, 0, 0, 0, 0, 0, 0, 0, 0, 0, 0, 0, 0, 0, 0, 0, 0, 0, 0, 0, 0, 0, 0, 0, 0, 0, 0, 0, 0, 1]]\n",
            "20\n"
          ],
          "name": "stdout"
        }
      ]
    },
    {
      "cell_type": "code",
      "metadata": {
        "id": "psBUPGdNbYju",
        "colab": {
          "base_uri": "https://localhost:8080/"
        },
        "outputId": "d269f5dd-b2e0-4d9b-ec39-e3c5ca7f3a43"
      },
      "source": [
        "# approximated sim -> signature : signature\n",
        "# gold sim -> shingle : document_vector\n",
        "a_sim = [0,]*size_of_pairs\n",
        "g_sim = [0,]*size_of_pairs\n",
        "gap = [0,]*size_of_pairs\n",
        "# calculate approximated similarity\n",
        "for i in range(number_of_hashfunctions):\n",
        "  for j in range(size_of_pairs):\n",
        "    if signature[i][j] == signature[i][j+size_of_pairs]:\n",
        "      a_sim[j] += 1\n",
        "for i in range(len(a_sim)):\n",
        "  a_sim[i] /= len(signature)\n",
        "print(a_sim)\n",
        "\n",
        "# calculate gold similarity\n",
        "for i in range(size_of_pairs):\n",
        "  for j in range(len(shingles)):\n",
        "    if document_vector[i][j] == document_vector[i+size_of_pairs][j]:\n",
        "      g_sim[i] += 1\n",
        "for i in range(len(g_sim)):\n",
        "  g_sim[i] /= len(shingles)\n",
        "print(g_sim)\n",
        "\n",
        "# calculate gap : abs(simA-simB)\n",
        "for i in range(size_of_pairs):\n",
        "  gap[i] = abs(a_sim[i] - g_sim[i])\n",
        "print(gap)\n",
        "\n",
        "# calculate average gap\n",
        "avg = 0.0\n",
        "for i in range(size_of_pairs):\n",
        "  avg += gap[i]\n",
        "avg /= size_of_pairs\n",
        "print(avg)"
      ],
      "execution_count": 50,
      "outputs": [
        {
          "output_type": "stream",
          "text": [
            "[0.02, 0.03, 0.06, 0.48, 0.11, 0.02, 0.02, 0.03, 0.74, 0.02]\n",
            "[0.8795180722891566, 0.8373493975903614, 0.9397590361445783, 0.9457831325301205, 0.927710843373494, 0.9036144578313253, 0.9397590361445783, 0.8012048192771084, 0.9819277108433735, 0.9216867469879518]\n",
            "[0.8595180722891566, 0.8073493975903614, 0.8797590361445784, 0.4657831325301205, 0.817710843373494, 0.8836144578313253, 0.9197590361445783, 0.7712048192771084, 0.2419277108433735, 0.9016867469879518]\n",
            "0.7548313253012047\n"
          ],
          "name": "stdout"
        }
      ]
    }
  ]
}