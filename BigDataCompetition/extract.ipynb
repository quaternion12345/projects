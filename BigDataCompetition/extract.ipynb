{
  "nbformat": 4,
  "nbformat_minor": 0,
  "metadata": {
    "colab": {
      "name": "RUN.ipynb",
      "provenance": [],
      "collapsed_sections": []
    },
    "kernelspec": {
      "name": "python3",
      "display_name": "Python 3"
    }
  },
  "cells": [
    {
      "cell_type": "markdown",
      "metadata": {
        "id": "IGVGJBhh0tLK"
      },
      "source": [
        "Import Packages"
      ]
    },
    {
      "cell_type": "code",
      "metadata": {
        "id": "-r3g3BTavVKx"
      },
      "source": [
        "import numpy as np\n",
        "import matplotlib.pyplot as plt\n",
        "import pandas as pd\n",
        "from sklearn import linear_model # for linear regression"
      ],
      "execution_count": null,
      "outputs": []
    },
    {
      "cell_type": "code",
      "metadata": {
        "id": "0RKeSVuUwOaG"
      },
      "source": [
        "# In case of using colab\n",
        "'''\n",
        "from google.colab import drive\n",
        "drive.mount('/content/drive')\n",
        "'''"
      ],
      "execution_count": null,
      "outputs": []
    },
    {
      "cell_type": "code",
      "metadata": {
        "id": "ScQDtlCKxhA-"
      },
      "source": [
        "# Read csv data file\n",
        "#ds = pd.read_csv('/content/drive/MyDrive/Dataset/Dataset.csv', engine=\"python\", header=0)\n",
        "ds = pd.read_csv('./Dataset.csv', engine=\"python\", header=0)"
      ],
      "execution_count": null,
      "outputs": []
    },
    {
      "cell_type": "code",
      "metadata": {
        "colab": {
          "base_uri": "https://localhost:8080/",
          "height": 419
        },
        "id": "jCyblN9f2DJC",
        "outputId": "c82b47e9-5e17-4807-ac8d-378a34417982"
      },
      "source": [
        "# Fill loss data\n",
        "ds.fillna(0)"
      ],
      "execution_count": null,
      "outputs": [
        {
          "output_type": "execute_result",
          "data": {
            "text/html": [
              "<div>\n",
              "<style scoped>\n",
              "    .dataframe tbody tr th:only-of-type {\n",
              "        vertical-align: middle;\n",
              "    }\n",
              "\n",
              "    .dataframe tbody tr th {\n",
              "        vertical-align: top;\n",
              "    }\n",
              "\n",
              "    .dataframe thead th {\n",
              "        text-align: right;\n",
              "    }\n",
              "</style>\n",
              "<table border=\"1\" class=\"dataframe\">\n",
              "  <thead>\n",
              "    <tr style=\"text-align: right;\">\n",
              "      <th></th>\n",
              "      <th>ONBOARD</th>\n",
              "      <th>VESSEL</th>\n",
              "      <th>POL</th>\n",
              "      <th>NATION</th>\n",
              "      <th>DESTINATION</th>\n",
              "      <th>20`</th>\n",
              "      <th>RATE</th>\n",
              "      <th>EX-RATE</th>\n",
              "      <th>O/FRT KRW</th>\n",
              "      <th>THC</th>\n",
              "      <th>W/F</th>\n",
              "      <th>D/FEE</th>\n",
              "      <th>SUM</th>\n",
              "    </tr>\n",
              "  </thead>\n",
              "  <tbody>\n",
              "    <tr>\n",
              "      <th>0</th>\n",
              "      <td>2014-01-01</td>\n",
              "      <td>NYK PHOENIX 50E52</td>\n",
              "      <td>KRPUS</td>\n",
              "      <td>DNA</td>\n",
              "      <td>ESDNA</td>\n",
              "      <td>1</td>\n",
              "      <td>3260.0</td>\n",
              "      <td>1071.3</td>\n",
              "      <td>3,492,438</td>\n",
              "      <td>115,000</td>\n",
              "      <td>4,350</td>\n",
              "      <td>30,000</td>\n",
              "      <td>3,641,788</td>\n",
              "    </tr>\n",
              "    <tr>\n",
              "      <th>1</th>\n",
              "      <td>2014-01-01</td>\n",
              "      <td>HANJIN LOS ANGELES 0120E</td>\n",
              "      <td>KRPUS</td>\n",
              "      <td>NYC</td>\n",
              "      <td>USNYC</td>\n",
              "      <td>1</td>\n",
              "      <td>3980.0</td>\n",
              "      <td>1071.7</td>\n",
              "      <td>4,252,232</td>\n",
              "      <td>115,000</td>\n",
              "      <td>4,350</td>\n",
              "      <td>30,000</td>\n",
              "      <td>4,401,582</td>\n",
              "    </tr>\n",
              "    <tr>\n",
              "      <th>2</th>\n",
              "      <td>2014-01-02</td>\n",
              "      <td>HANJIN MARSEILLES 0162E</td>\n",
              "      <td>KRPUS</td>\n",
              "      <td>NYC</td>\n",
              "      <td>USNYC</td>\n",
              "      <td>1</td>\n",
              "      <td>2720.0</td>\n",
              "      <td>1065.6</td>\n",
              "      <td>2,917,472</td>\n",
              "      <td>116,000</td>\n",
              "      <td>4,350</td>\n",
              "      <td>30,000</td>\n",
              "      <td>3,067,822</td>\n",
              "    </tr>\n",
              "    <tr>\n",
              "      <th>3</th>\n",
              "      <td>2014-01-02</td>\n",
              "      <td>VIENNA EXPRESS 25E52</td>\n",
              "      <td>KRPUS</td>\n",
              "      <td>CHI</td>\n",
              "      <td>USCHI</td>\n",
              "      <td>1</td>\n",
              "      <td>2780.0</td>\n",
              "      <td>1072.3</td>\n",
              "      <td>2,980,994</td>\n",
              "      <td>115,000</td>\n",
              "      <td>4,350</td>\n",
              "      <td>30,000</td>\n",
              "      <td>3,130,344</td>\n",
              "    </tr>\n",
              "    <tr>\n",
              "      <th>4</th>\n",
              "      <td>2014-01-02</td>\n",
              "      <td>HANJIN MARSEILLES 0162E</td>\n",
              "      <td>KRPUS</td>\n",
              "      <td>NYC</td>\n",
              "      <td>USNYC</td>\n",
              "      <td>1</td>\n",
              "      <td>3100.0</td>\n",
              "      <td>1065.6</td>\n",
              "      <td>3,303,360</td>\n",
              "      <td>232,000</td>\n",
              "      <td>4,350</td>\n",
              "      <td>30,000</td>\n",
              "      <td>3,569,710</td>\n",
              "    </tr>\n",
              "    <tr>\n",
              "      <th>...</th>\n",
              "      <td>...</td>\n",
              "      <td>...</td>\n",
              "      <td>...</td>\n",
              "      <td>...</td>\n",
              "      <td>...</td>\n",
              "      <td>...</td>\n",
              "      <td>...</td>\n",
              "      <td>...</td>\n",
              "      <td>...</td>\n",
              "      <td>...</td>\n",
              "      <td>...</td>\n",
              "      <td>...</td>\n",
              "      <td>...</td>\n",
              "    </tr>\n",
              "    <tr>\n",
              "      <th>15509</th>\n",
              "      <td>2020-09-30</td>\n",
              "      <td>MOL TRADITION 012W</td>\n",
              "      <td>KRPUS</td>\n",
              "      <td>HEL</td>\n",
              "      <td>SEHEL</td>\n",
              "      <td>1</td>\n",
              "      <td>1150.0</td>\n",
              "      <td>1180.9</td>\n",
              "      <td>1,358,035</td>\n",
              "      <td>130,000</td>\n",
              "      <td>4,420</td>\n",
              "      <td>50,000</td>\n",
              "      <td>1,542,455</td>\n",
              "    </tr>\n",
              "    <tr>\n",
              "      <th>15510</th>\n",
              "      <td>2020-09-30</td>\n",
              "      <td>SONGYUNHE 2038W</td>\n",
              "      <td>KRPUS</td>\n",
              "      <td>TEM</td>\n",
              "      <td>GHTEM</td>\n",
              "      <td>1</td>\n",
              "      <td>1369.0</td>\n",
              "      <td>1175.8</td>\n",
              "      <td>1,609,670</td>\n",
              "      <td>130,000</td>\n",
              "      <td>4,420</td>\n",
              "      <td>40,000</td>\n",
              "      <td>1,784,090</td>\n",
              "    </tr>\n",
              "    <tr>\n",
              "      <th>15511</th>\n",
              "      <td>2020-09-30</td>\n",
              "      <td>MALIAKOS 2007E</td>\n",
              "      <td>KRPUS</td>\n",
              "      <td>VAN</td>\n",
              "      <td>CAVAN</td>\n",
              "      <td>1</td>\n",
              "      <td>3112.0</td>\n",
              "      <td>1181.7</td>\n",
              "      <td>3,677,450</td>\n",
              "      <td>135,000</td>\n",
              "      <td>4,420</td>\n",
              "      <td>40,000</td>\n",
              "      <td>3,856,870</td>\n",
              "    </tr>\n",
              "    <tr>\n",
              "      <th>15512</th>\n",
              "      <td>2020-09-30</td>\n",
              "      <td>NORTHERN JAMBOREE 038N</td>\n",
              "      <td>KRPUS</td>\n",
              "      <td>CHI</td>\n",
              "      <td>USCHI</td>\n",
              "      <td>1</td>\n",
              "      <td>3200.0</td>\n",
              "      <td>1171.3</td>\n",
              "      <td>3,748,160</td>\n",
              "      <td>140,000</td>\n",
              "      <td>0</td>\n",
              "      <td>45,000</td>\n",
              "      <td>3,933,160</td>\n",
              "    </tr>\n",
              "    <tr>\n",
              "      <th>15513</th>\n",
              "      <td>2020-09-30</td>\n",
              "      <td>MALIAKOS 2007E</td>\n",
              "      <td>KRPUS</td>\n",
              "      <td>PDX</td>\n",
              "      <td>USPDX</td>\n",
              "      <td>1</td>\n",
              "      <td>3412.0</td>\n",
              "      <td>1181.7</td>\n",
              "      <td>4,031,960</td>\n",
              "      <td>135,000</td>\n",
              "      <td>4,420</td>\n",
              "      <td>40,000</td>\n",
              "      <td>4,211,380</td>\n",
              "    </tr>\n",
              "  </tbody>\n",
              "</table>\n",
              "<p>15514 rows × 13 columns</p>\n",
              "</div>"
            ],
            "text/plain": [
              "          ONBOARD                    VESSEL    POL  ...    W/F   D/FEE        SUM\n",
              "0      2014-01-01         NYK PHOENIX 50E52  KRPUS  ...  4,350  30,000  3,641,788\n",
              "1      2014-01-01  HANJIN LOS ANGELES 0120E  KRPUS  ...  4,350  30,000  4,401,582\n",
              "2      2014-01-02   HANJIN MARSEILLES 0162E  KRPUS  ...  4,350  30,000  3,067,822\n",
              "3      2014-01-02      VIENNA EXPRESS 25E52  KRPUS  ...  4,350  30,000  3,130,344\n",
              "4      2014-01-02   HANJIN MARSEILLES 0162E  KRPUS  ...  4,350  30,000  3,569,710\n",
              "...           ...                       ...    ...  ...    ...     ...        ...\n",
              "15509  2020-09-30        MOL TRADITION 012W  KRPUS  ...  4,420  50,000  1,542,455\n",
              "15510  2020-09-30           SONGYUNHE 2038W  KRPUS  ...  4,420  40,000  1,784,090\n",
              "15511  2020-09-30            MALIAKOS 2007E  KRPUS  ...  4,420  40,000  3,856,870\n",
              "15512  2020-09-30    NORTHERN JAMBOREE 038N  KRPUS  ...      0  45,000  3,933,160\n",
              "15513  2020-09-30            MALIAKOS 2007E  KRPUS  ...  4,420  40,000  4,211,380\n",
              "\n",
              "[15514 rows x 13 columns]"
            ]
          },
          "metadata": {
            "tags": []
          },
          "execution_count": 7
        }
      ]
    },
    {
      "cell_type": "code",
      "metadata": {
        "id": "vaGYTLbd3E3B"
      },
      "source": [
        "# Make set of \"DESTINATION\" category\n",
        "destinations = sorted(set(ds[\"DESTINATION\"])) # set"
      ],
      "execution_count": null,
      "outputs": []
    },
    {
      "cell_type": "code",
      "metadata": {
        "id": "fvU0BZD-83cX"
      },
      "source": [
        "sum = [] # save total sum of \"SUM\" at each \"DESTINATION\"\n",
        "for key in destinations:\n",
        "  temp = ds[ds[\"DESTINATION\"] == key]\n",
        "  tmp = 0\n",
        "  for num in temp[\"SUM\"]:\n",
        "    tmp += int(num.replace(\",\",\"\"))\n",
        "  sum.append(tmp)"
      ],
      "execution_count": null,
      "outputs": []
    },
    {
      "cell_type": "code",
      "metadata": {
        "id": "aL2u6hadBRxb"
      },
      "source": [
        "# Make (\"DESTINATION\" , total sum of \"SUM\") pair dictionary\n",
        "sum_set = {name:value for name,value in zip(destinations,sum) }\n",
        "# Sort dictionary with total sum of \"SUM\"\n",
        "sorted_dictionary = sorted(sum_set.items(), reverse=True, key=lambda item:item[1])"
      ],
      "execution_count": null,
      "outputs": []
    },
    {
      "cell_type": "code",
      "metadata": {
        "colab": {
          "base_uri": "https://localhost:8080/"
        },
        "id": "4Qn33eZZ-UQm",
        "outputId": "7a162f70-5b11-44ca-e59f-061bc3187f9e"
      },
      "source": [
        "print(sum[0])\n",
        "print(destinations[0])\n",
        "print(sum_set['AEAJM'])\n",
        "print(sorted_dictionary[0][1])"
      ],
      "execution_count": null,
      "outputs": [
        {
          "output_type": "stream",
          "text": [
            "11802048\n",
            "AEAJM\n",
            "11802048\n",
            "3066275375\n"
          ],
          "name": "stdout"
        }
      ]
    },
    {
      "cell_type": "code",
      "metadata": {
        "id": "5xdfjZ3LC-7R"
      },
      "source": [
        "name = []\n",
        "total = []"
      ],
      "execution_count": null,
      "outputs": []
    },
    {
      "cell_type": "code",
      "metadata": {
        "id": "wjHDqvJnC02W"
      },
      "source": [
        "# Pick Upper 10 \"DESTINATIONS\"\n",
        "for key, value in sorted_dictionary:\n",
        "  if(len(name) >= 10):\n",
        "    break\n",
        "  name.append(key)\n",
        "  total.append(value)"
      ],
      "execution_count": null,
      "outputs": []
    },
    {
      "cell_type": "code",
      "metadata": {
        "colab": {
          "base_uri": "https://localhost:8080/"
        },
        "id": "Iq1idvcaDXRC",
        "outputId": "453d607f-b70a-4ea1-bc82-80c7a778e9ad"
      },
      "source": [
        "print(name)\n",
        "print(total)"
      ],
      "execution_count": null,
      "outputs": [
        {
          "output_type": "stream",
          "text": [
            "['USLGB', 'USNYC', 'USLAX', 'USDET', 'USHOU', 'USCHI', 'UYSTY', 'USOAK', 'USSAV', 'CATOR']\n",
            "[3066275375, 2996944908, 2447180307, 2270220033, 2160248305, 2106181232, 874453526, 725223370, 680821697, 593331148]\n"
          ],
          "name": "stdout"
        }
      ]
    },
    {
      "cell_type": "code",
      "metadata": {
        "id": "HGBsuOab5WLp"
      },
      "source": [
        "import copy"
      ],
      "execution_count": null,
      "outputs": []
    },
    {
      "cell_type": "code",
      "metadata": {
        "colab": {
          "base_uri": "https://localhost:8080/"
        },
        "id": "CAVfzkB8Tw1n",
        "outputId": "e7002efe-74f7-4315-fd1a-91eef891181c"
      },
      "source": [
        "# list[each \"DESTINATION\"][each \"MONTH\"]\n",
        "overall = [] # save total sum of \"SUM\" at each month for each \"DESTINATION\"\n",
        "overall_number = [] # save frequency at each month for each \"DESTINATION\"\n",
        "\n",
        "lst = []\n",
        "for i in range(81):\n",
        "  lst.append(0)\n",
        "for i in range(10):\n",
        "  overall.append(copy.deepcopy(lst))\n",
        "  overall_number.append(copy.deepcopy(lst))\n",
        "print(lst)\n",
        "# 2014-01 ~ 2020-09 ==> 12 + 12 + 12 + 12 + 12 + 12 + 9\n",
        "# 2014-01 --> 0\n",
        "# 2020-09 --> 80\n",
        "# index = (year-2014) * 12 + month - 1"
      ],
      "execution_count": null,
      "outputs": [
        {
          "output_type": "stream",
          "text": [
            "[0, 0, 0, 0, 0, 0, 0, 0, 0, 0, 0, 0, 0, 0, 0, 0, 0, 0, 0, 0, 0, 0, 0, 0, 0, 0, 0, 0, 0, 0, 0, 0, 0, 0, 0, 0, 0, 0, 0, 0, 0, 0, 0, 0, 0, 0, 0, 0, 0, 0, 0, 0, 0, 0, 0, 0, 0, 0, 0, 0, 0, 0, 0, 0, 0, 0, 0, 0, 0, 0, 0, 0, 0, 0, 0, 0, 0, 0, 0, 0, 0]\n"
          ],
          "name": "stdout"
        }
      ]
    },
    {
      "cell_type": "code",
      "metadata": {
        "colab": {
          "base_uri": "https://localhost:8080/"
        },
        "id": "Gs_pvvEsTcoO",
        "outputId": "1aa77faf-86e6-4969-fa9c-972ebe83ea7c"
      },
      "source": [
        "# Extract \"SUM\" data and Save frequency\n",
        "counter = 0 # index for 10 \"DESTINATION\"\n",
        "for key in name:\n",
        "  temp = ds[ds[\"DESTINATION\"] == key]\n",
        "\n",
        "  for column, row in temp.iterrows():\n",
        "    position = (int(row[\"ONBOARD\"][:4])-2014) * 12 + int(row[\"ONBOARD\"][5:7]) - 1\n",
        "    overall[counter][position] += int(row[\"SUM\"].replace(\",\",\"\"))\n",
        "    overall_number[counter][position] += 1\n",
        "  counter += 1\n",
        "\n",
        "print(overall[0])\n",
        "print(overall[1])\n",
        "print(overall_number[0])\n",
        "print(overall_number[1])"
      ],
      "execution_count": null,
      "outputs": [
        {
          "output_type": "stream",
          "text": [
            "[37465191, 22195209, 27929297, 34501971, 24259657, 50425802, 55880491, 73165155, 81509694, 62315463, 62695288, 51535747, 24132793, 33367235, 65491470, 38354009, 40490964, 28624104, 38177391, 42522656, 43141615, 64461305, 58085981, 31548432, 46161768, 40631573, 27251148, 28005575, 49835617, 25913207, 31508923, 17815118, 13261588, 21087188, 1903693, 14244243, 14380817, 12682304, 7257370, 8348304, 20852413, 24269031, 6801586, 12735740, 21093964, 25191139, 38253721, 39146280, 30890654, 21369786, 34241881, 31978456, 26554845, 25166029, 29791987, 28710201, 41768535, 43913212, 62550634, 10051072, 46617141, 18923860, 29793502, 21514645, 23470462, 23059495, 25137253, 36388343, 36428098, 38183399, 36874093, 59170778, 18251422, 108239289, 60358017, 92379276, 35433065, 119304372, 113239966, 26980546, 68631831]\n",
            "[17381094, 9053139, 25314986, 22428996, 26359423, 25528234, 21961234, 25116003, 16431476, 18934730, 19529770, 15681326, 20563532, 8817110, 17864408, 22892525, 23975840, 21078752, 14260532, 3017714, 5295466, 20184737, 16106375, 12358308, 18690597, 25742221, 28652464, 24388737, 18457624, 25253963, 27002899, 12923263, 23128439, 38205096, 47908345, 42677079, 15505472, 21769648, 13401743, 10544606, 12034331, 13904547, 13605919, 12437629, 17324878, 21322492, 15511942, 15385119, 43984587, 34485183, 50612219, 24266804, 35583063, 38869997, 64005779, 60110804, 45757319, 66155332, 95615447, 83239455, 102464496, 52737739, 51949204, 77390826, 81742554, 76037323, 111510012, 55788986, 45388191, 73818670, 41551743, 59703765, 62329394, 61876297, 80890065, 90980703, 71137469, 31794794, 75770830, 46106281, 57374814]\n",
            "[17, 10, 10, 18, 12, 26, 32, 37, 35, 34, 30, 24, 12, 17, 27, 21, 24, 19, 25, 23, 22, 35, 43, 28, 29, 24, 23, 28, 51, 28, 25, 13, 4, 11, 1, 5, 4, 7, 3, 5, 11, 16, 4, 7, 13, 15, 20, 30, 21, 15, 24, 24, 16, 17, 18, 15, 20, 20, 25, 5, 22, 6, 15, 13, 13, 13, 14, 19, 19, 26, 21, 33, 11, 65, 30, 42, 16, 44, 43, 11, 21]\n",
            "[5, 3, 8, 7, 8, 8, 7, 7, 4, 5, 5, 4, 5, 2, 4, 6, 7, 7, 5, 1, 2, 8, 7, 7, 7, 10, 13, 13, 10, 13, 13, 6, 10, 15, 18, 16, 5, 7, 5, 4, 5, 6, 6, 5, 7, 10, 8, 9, 20, 15, 19, 13, 15, 18, 22, 18, 17, 23, 33, 28, 38, 19, 19, 30, 31, 29, 40, 20, 17, 23, 17, 23, 22, 22, 29, 32, 21, 11, 22, 14, 14]\n"
          ],
          "name": "stdout"
        }
      ]
    },
    {
      "cell_type": "markdown",
      "metadata": {
        "id": "Gt2I7qw31RA1"
      },
      "source": [
        "Start of Drawing Graph <br>\n",
        "Use it with changing variable \"index_number\"<br>\n",
        "It changes index of overall, overall_number, name"
      ]
    },
    {
      "cell_type": "code",
      "metadata": {
        "id": "XJen653daTuO"
      },
      "source": [
        "index_number = 9"
      ],
      "execution_count": null,
      "outputs": []
    },
    {
      "cell_type": "code",
      "metadata": {
        "id": "3xx1_--xDpKw"
      },
      "source": [
        "# Make (x,y) pair for drawing graph\n",
        "xi = []\n",
        "for i in range(81):\n",
        "  xi.append(i+1)\n",
        "yi = overall[index_number]\n",
        "\n",
        "# Make label for x-axis\n",
        "label=[]\n",
        "for j in range(7):\n",
        "  for i in range(12):\n",
        "    label.append(str(i+1))\n",
        "    if(j == 6 and i==9):\n",
        "      break"
      ],
      "execution_count": null,
      "outputs": []
    },
    {
      "cell_type": "code",
      "metadata": {
        "colab": {
          "base_uri": "https://localhost:8080/",
          "height": 419
        },
        "id": "E7poUahnvmH1",
        "outputId": "17344886-61c2-474f-ac80-8ed5fdd808a1"
      },
      "source": [
        "'''\n",
        "# In case of using Linear Regression\n",
        "reg = linear_model.LinearRegression()\n",
        "reg.fit(np.array(xi).reshape((-1, 1)), yi)\n",
        "y_pred = reg.predict(np.array(xi).reshape((-1, 1)))\n",
        "plt.plot(xi, y_pred, color='red')\n",
        "'''\n",
        "# Draw Graph\n",
        "#plt.scatter(xi, yi)\n",
        "plt.figure(figsize=(16,6))\n",
        "plt.xticks(xi, labels=label, rotation=-5)\n",
        "plt.xlim(0,82)\n",
        "plt.plot(xi, yi, color ='red')\n",
        "plt.bar(xi, yi, color='green')\n",
        "\n",
        "plt.title(name[index_number], fontdict={'size':24, 'color':'red'})\n",
        "plt.xlabel('Month', fontdict={'size':15, 'color':'red'})\n",
        "plt.ylabel('Price (per 10 million)', fontdict={'size':15, 'color':'red'})\n",
        "plt.show()"
      ],
      "execution_count": null,
      "outputs": [
        {
          "output_type": "display_data",
          "data": {
            "image/png": "[encoded data removed]",
            "text/plain": [
              "<Figure size 1152x432 with 1 Axes>"
            ]
          },
          "metadata": {
            "tags": [],
            "needs_background": "light"
          }
        }
      ]
    },
    {
      "cell_type": "code",
      "metadata": {
        "colab": {
          "base_uri": "https://localhost:8080/"
        },
        "id": "wzvJJex8vQr9",
        "outputId": "19cfcebe-208d-401e-888d-4e549b5aabc5"
      },
      "source": [
        "# Make (x,y) pair for drawing graph\n",
        "new_xi = []\n",
        "new_yi = []\n",
        "for i in range(81):\n",
        "  new_xi.append(i+1)\n",
        "for i in range(len(yi)):\n",
        "  if overall_number[index_number][i] == 0:\n",
        "    new_yi.append(0)\n",
        "    continue\n",
        "  new_yi.append(overall[index_number][i] / overall_number[index_number][i])\n",
        "\n",
        "print(new_yi)"
      ],
      "execution_count": null,
      "outputs": [
        {
          "output_type": "stream",
          "text": [
            "[0, 0, 3783075.0, 3308450.0, 0, 2963446.0, 2861752.0, 0, 4138130.0, 0, 4224175.0, 0, 0, 0, 4223860.0, 0, 4168230.0, 0, 3864460.0, 4091990.0, 3688125.0, 3324752.5, 3051851.25, 2889784.0, 3071380.0, 3131285.0, 0, 3011862.0, 0, 0, 2907460.0, 0, 0, 3246240.0, 3235492.5, 3308560.0, 0, 0, 3492510.0, 2959525.0, 0, 2985005.0, 0, 2991466.0, 0, 0, 0, 0, 0, 3271706.0, 3246116.0, 2804769.0, 0, 3163830.0, 3200450.6, 3126980.0, 3638533.0, 3381411.6666666665, 3244523.0, 3209094.5, 3040414.0, 3096467.111111111, 2980431.5714285714, 2916721.0, 3110838.0833333335, 3210832.125, 3243793.3636363638, 3254012.222222222, 3330890.0, 2981795.0, 3326971.5714285714, 3201716.4285714286, 3321801.0, 3214896.6666666665, 3169937.3333333335, 3333855.5, 3565831.0, 4021120.5, 3761874.2, 3603480.0, 4311797.333333333]\n"
          ],
          "name": "stdout"
        }
      ]
    },
    {
      "cell_type": "code",
      "metadata": {
        "id": "KJw5ZyCeuhW5"
      },
      "source": [
        "'''\n",
        "# In case of using Linear Regression\n",
        "reg = linear_model.LinearRegression()\n",
        "reg.fit(np.array(new_xi).reshape((-1, 1)), new_yi)\n",
        "#new_y_pred = reg.predict(np.array(new_xi).reshape((-1, 1)))\n",
        "#plt.plot(new_xi, new_y_pred, color='red')\n",
        "'''\n",
        "# Draw AVG Graph\n",
        "#plt.scatter(new_xi, new_yi)\n",
        "plt.figure(figsize=(16,6))\n",
        "plt.xticks(xi, labels=label, rotation=-5)\n",
        "plt.xlim(0,82)\n",
        "plt.plot(new_xi, new_yi, color ='red')\n",
        "plt.bar(new_xi, new_yi, color='green')\n",
        "\n",
        "plt.title(name[index_number], fontdict={'size':24, 'color':'red'})\n",
        "plt.xlabel('Month', fontdict={'size':15, 'color':'red'})\n",
        "plt.ylabel('Average Price (per million)', fontdict={'size':15, 'color':'red'})\n",
        "plt.show()"
      ],
      "execution_count": null,
      "outputs": []
    },
    {
      "cell_type": "markdown",
      "metadata": {
        "id": "2P8aJkjZ82aM"
      },
      "source": [
        "Codes for make output"
      ]
    },
    {
      "cell_type": "code",
      "metadata": {
        "id": "ojSigUPk6YM3"
      },
      "source": [
        "# Make list for saving AVG Price at each month for each \"DESTINATION\"\n",
        "temp_index_number = 0\n",
        "save_file = [] # Save AVG Price\n",
        "while temp_index_number != 10:\n",
        "  new_xi = []\n",
        "  new_yi = []\n",
        "  for i in range(81):\n",
        "    new_xi.append(i+1)\n",
        "  for i in range(len(yi)):\n",
        "    if overall_number[temp_index_number][i] == 0:\n",
        "      new_yi.append(0)\n",
        "      continue\n",
        "    new_yi.append(overall[temp_index_number][i] / overall_number[temp_index_number][i])\n",
        "  save_file.append(new_yi)\n",
        "  temp_index_number += 1"
      ],
      "execution_count": null,
      "outputs": []
    },
    {
      "cell_type": "code",
      "metadata": {
        "id": "N-zBiJmDrAMk"
      },
      "source": [
        "# Make output csv file\n",
        "o1 = np.array(overall)\n",
        "o2 = np.array(overall_number)\n",
        "out = np.array(save_file)\n",
        "print(out)\n",
        "for i in range(10):\n",
        "  n0_out = pd.DataFrame(out[i], columns = [\"AVGPRICE\"])\n",
        "  n1_out = pd.DataFrame(o1[i], columns = [\"TotalPrice\"])\n",
        "  n2_out = pd.DataFrame(o2[i], columns = [\"Number\"])\n",
        "  n_out = pd.concat([n0_out, n1_out, n2_out], axis=1)\n",
        "  n_out[\"Month\"] = (n_out.index + 1)\n",
        "  n_out = n_out[[\"Month\",\"TotalPrice\",\"Number\",\"AVGPRICE\"]]\n",
        "  n_out.to_csv(\"AVG\"+str(i+1)+\".csv\", index = False)\n",
        "print(n_out)"
      ],
      "execution_count": null,
      "outputs": []
    }
  ]
}